{
 "cells": [
  {
   "cell_type": "code",
   "execution_count": 1,
   "id": "aceca45c",
   "metadata": {
    "_cell_guid": "b1076dfc-b9ad-4769-8c92-a6c4dae69d19",
    "_uuid": "8f2839f25d086af736a60e9eeb907d3b93b6e0e5",
    "execution": {
     "iopub.execute_input": "2025-01-19T09:01:22.744120Z",
     "iopub.status.busy": "2025-01-19T09:01:22.743707Z",
     "iopub.status.idle": "2025-01-19T09:01:26.239585Z",
     "shell.execute_reply": "2025-01-19T09:01:26.238260Z"
    },
    "papermill": {
     "duration": 3.51332,
     "end_time": "2025-01-19T09:01:26.242287",
     "exception": false,
     "start_time": "2025-01-19T09:01:22.728967",
     "status": "completed"
    },
    "tags": []
   },
   "outputs": [],
   "source": [
    "import numpy as np\n",
    "import pandas as pd\n",
    "import matplotlib.pyplot as plt\n",
    "import seaborn as sns\n",
    "from sklearn.model_selection import train_test_split\n",
    "from sklearn.linear_model import LinearRegression\n",
    "from sklearn.cluster import KMeans\n",
    "from sklearn.metrics import silhouette_score, make_scorer\n",
    "from sklearn.metrics import mean_absolute_error, mean_squared_error, r2_score"
   ]
  },
  {
   "cell_type": "code",
   "execution_count": 2,
   "id": "ed237a98",
   "metadata": {
    "execution": {
     "iopub.execute_input": "2025-01-19T09:01:26.273835Z",
     "iopub.status.busy": "2025-01-19T09:01:26.273346Z",
     "iopub.status.idle": "2025-01-19T09:01:26.306893Z",
     "shell.execute_reply": "2025-01-19T09:01:26.305706Z"
    },
    "papermill": {
     "duration": 0.052473,
     "end_time": "2025-01-19T09:01:26.309515",
     "exception": false,
     "start_time": "2025-01-19T09:01:26.257042",
     "status": "completed"
    },
    "tags": []
   },
   "outputs": [],
   "source": [
    "df = pd.read_csv(\"/kaggle/input/car-sales/Car_sales.csv\") #import dataset"
   ]
  },
  {
   "cell_type": "code",
   "execution_count": 3,
   "id": "93563252",
   "metadata": {
    "execution": {
     "iopub.execute_input": "2025-01-19T09:01:26.339652Z",
     "iopub.status.busy": "2025-01-19T09:01:26.337907Z",
     "iopub.status.idle": "2025-01-19T09:01:26.386492Z",
     "shell.execute_reply": "2025-01-19T09:01:26.384869Z"
    },
    "papermill": {
     "duration": 0.067095,
     "end_time": "2025-01-19T09:01:26.389414",
     "exception": false,
     "start_time": "2025-01-19T09:01:26.322319",
     "status": "completed"
    },
    "tags": []
   },
   "outputs": [
    {
     "data": {
      "text/html": [
       "<div>\n",
       "<style scoped>\n",
       "    .dataframe tbody tr th:only-of-type {\n",
       "        vertical-align: middle;\n",
       "    }\n",
       "\n",
       "    .dataframe tbody tr th {\n",
       "        vertical-align: top;\n",
       "    }\n",
       "\n",
       "    .dataframe thead th {\n",
       "        text-align: right;\n",
       "    }\n",
       "</style>\n",
       "<table border=\"1\" class=\"dataframe\">\n",
       "  <thead>\n",
       "    <tr style=\"text-align: right;\">\n",
       "      <th></th>\n",
       "      <th>Manufacturer</th>\n",
       "      <th>Model</th>\n",
       "      <th>Sales_in_thousands</th>\n",
       "      <th>__year_resale_value</th>\n",
       "      <th>Vehicle_type</th>\n",
       "      <th>Price_in_thousands</th>\n",
       "      <th>Engine_size</th>\n",
       "      <th>Horsepower</th>\n",
       "      <th>Wheelbase</th>\n",
       "      <th>Width</th>\n",
       "      <th>Length</th>\n",
       "      <th>Curb_weight</th>\n",
       "      <th>Fuel_capacity</th>\n",
       "      <th>Fuel_efficiency</th>\n",
       "      <th>Latest_Launch</th>\n",
       "      <th>Power_perf_factor</th>\n",
       "    </tr>\n",
       "  </thead>\n",
       "  <tbody>\n",
       "    <tr>\n",
       "      <th>0</th>\n",
       "      <td>Acura</td>\n",
       "      <td>Integra</td>\n",
       "      <td>16.919</td>\n",
       "      <td>16.360</td>\n",
       "      <td>Passenger</td>\n",
       "      <td>21.50</td>\n",
       "      <td>1.8</td>\n",
       "      <td>140.0</td>\n",
       "      <td>101.2</td>\n",
       "      <td>67.3</td>\n",
       "      <td>172.4</td>\n",
       "      <td>2.639</td>\n",
       "      <td>13.2</td>\n",
       "      <td>28.0</td>\n",
       "      <td>2/2/2012</td>\n",
       "      <td>58.280150</td>\n",
       "    </tr>\n",
       "    <tr>\n",
       "      <th>1</th>\n",
       "      <td>Acura</td>\n",
       "      <td>TL</td>\n",
       "      <td>39.384</td>\n",
       "      <td>19.875</td>\n",
       "      <td>Passenger</td>\n",
       "      <td>28.40</td>\n",
       "      <td>3.2</td>\n",
       "      <td>225.0</td>\n",
       "      <td>108.1</td>\n",
       "      <td>70.3</td>\n",
       "      <td>192.9</td>\n",
       "      <td>3.517</td>\n",
       "      <td>17.2</td>\n",
       "      <td>25.0</td>\n",
       "      <td>6/3/2011</td>\n",
       "      <td>91.370778</td>\n",
       "    </tr>\n",
       "    <tr>\n",
       "      <th>2</th>\n",
       "      <td>Acura</td>\n",
       "      <td>CL</td>\n",
       "      <td>14.114</td>\n",
       "      <td>18.225</td>\n",
       "      <td>Passenger</td>\n",
       "      <td>NaN</td>\n",
       "      <td>3.2</td>\n",
       "      <td>225.0</td>\n",
       "      <td>106.9</td>\n",
       "      <td>70.6</td>\n",
       "      <td>192.0</td>\n",
       "      <td>3.470</td>\n",
       "      <td>17.2</td>\n",
       "      <td>26.0</td>\n",
       "      <td>1/4/2012</td>\n",
       "      <td>NaN</td>\n",
       "    </tr>\n",
       "    <tr>\n",
       "      <th>3</th>\n",
       "      <td>Acura</td>\n",
       "      <td>RL</td>\n",
       "      <td>8.588</td>\n",
       "      <td>29.725</td>\n",
       "      <td>Passenger</td>\n",
       "      <td>42.00</td>\n",
       "      <td>3.5</td>\n",
       "      <td>210.0</td>\n",
       "      <td>114.6</td>\n",
       "      <td>71.4</td>\n",
       "      <td>196.6</td>\n",
       "      <td>3.850</td>\n",
       "      <td>18.0</td>\n",
       "      <td>22.0</td>\n",
       "      <td>3/10/2011</td>\n",
       "      <td>91.389779</td>\n",
       "    </tr>\n",
       "    <tr>\n",
       "      <th>4</th>\n",
       "      <td>Audi</td>\n",
       "      <td>A4</td>\n",
       "      <td>20.397</td>\n",
       "      <td>22.255</td>\n",
       "      <td>Passenger</td>\n",
       "      <td>23.99</td>\n",
       "      <td>1.8</td>\n",
       "      <td>150.0</td>\n",
       "      <td>102.6</td>\n",
       "      <td>68.2</td>\n",
       "      <td>178.0</td>\n",
       "      <td>2.998</td>\n",
       "      <td>16.4</td>\n",
       "      <td>27.0</td>\n",
       "      <td>10/8/2011</td>\n",
       "      <td>62.777639</td>\n",
       "    </tr>\n",
       "    <tr>\n",
       "      <th>...</th>\n",
       "      <td>...</td>\n",
       "      <td>...</td>\n",
       "      <td>...</td>\n",
       "      <td>...</td>\n",
       "      <td>...</td>\n",
       "      <td>...</td>\n",
       "      <td>...</td>\n",
       "      <td>...</td>\n",
       "      <td>...</td>\n",
       "      <td>...</td>\n",
       "      <td>...</td>\n",
       "      <td>...</td>\n",
       "      <td>...</td>\n",
       "      <td>...</td>\n",
       "      <td>...</td>\n",
       "      <td>...</td>\n",
       "    </tr>\n",
       "    <tr>\n",
       "      <th>152</th>\n",
       "      <td>Volvo</td>\n",
       "      <td>V40</td>\n",
       "      <td>3.545</td>\n",
       "      <td>NaN</td>\n",
       "      <td>Passenger</td>\n",
       "      <td>24.40</td>\n",
       "      <td>1.9</td>\n",
       "      <td>160.0</td>\n",
       "      <td>100.5</td>\n",
       "      <td>67.6</td>\n",
       "      <td>176.6</td>\n",
       "      <td>3.042</td>\n",
       "      <td>15.8</td>\n",
       "      <td>25.0</td>\n",
       "      <td>9/21/2011</td>\n",
       "      <td>66.498812</td>\n",
       "    </tr>\n",
       "    <tr>\n",
       "      <th>153</th>\n",
       "      <td>Volvo</td>\n",
       "      <td>S70</td>\n",
       "      <td>15.245</td>\n",
       "      <td>NaN</td>\n",
       "      <td>Passenger</td>\n",
       "      <td>27.50</td>\n",
       "      <td>2.4</td>\n",
       "      <td>168.0</td>\n",
       "      <td>104.9</td>\n",
       "      <td>69.3</td>\n",
       "      <td>185.9</td>\n",
       "      <td>3.208</td>\n",
       "      <td>17.9</td>\n",
       "      <td>25.0</td>\n",
       "      <td>11/24/2012</td>\n",
       "      <td>70.654495</td>\n",
       "    </tr>\n",
       "    <tr>\n",
       "      <th>154</th>\n",
       "      <td>Volvo</td>\n",
       "      <td>V70</td>\n",
       "      <td>17.531</td>\n",
       "      <td>NaN</td>\n",
       "      <td>Passenger</td>\n",
       "      <td>28.80</td>\n",
       "      <td>2.4</td>\n",
       "      <td>168.0</td>\n",
       "      <td>104.9</td>\n",
       "      <td>69.3</td>\n",
       "      <td>186.2</td>\n",
       "      <td>3.259</td>\n",
       "      <td>17.9</td>\n",
       "      <td>25.0</td>\n",
       "      <td>6/25/2011</td>\n",
       "      <td>71.155978</td>\n",
       "    </tr>\n",
       "    <tr>\n",
       "      <th>155</th>\n",
       "      <td>Volvo</td>\n",
       "      <td>C70</td>\n",
       "      <td>3.493</td>\n",
       "      <td>NaN</td>\n",
       "      <td>Passenger</td>\n",
       "      <td>45.50</td>\n",
       "      <td>2.3</td>\n",
       "      <td>236.0</td>\n",
       "      <td>104.9</td>\n",
       "      <td>71.5</td>\n",
       "      <td>185.7</td>\n",
       "      <td>3.601</td>\n",
       "      <td>18.5</td>\n",
       "      <td>23.0</td>\n",
       "      <td>4/26/2011</td>\n",
       "      <td>101.623357</td>\n",
       "    </tr>\n",
       "    <tr>\n",
       "      <th>156</th>\n",
       "      <td>Volvo</td>\n",
       "      <td>S80</td>\n",
       "      <td>18.969</td>\n",
       "      <td>NaN</td>\n",
       "      <td>Passenger</td>\n",
       "      <td>36.00</td>\n",
       "      <td>2.9</td>\n",
       "      <td>201.0</td>\n",
       "      <td>109.9</td>\n",
       "      <td>72.1</td>\n",
       "      <td>189.8</td>\n",
       "      <td>3.600</td>\n",
       "      <td>21.1</td>\n",
       "      <td>24.0</td>\n",
       "      <td>11/14/2011</td>\n",
       "      <td>85.735655</td>\n",
       "    </tr>\n",
       "  </tbody>\n",
       "</table>\n",
       "<p>157 rows × 16 columns</p>\n",
       "</div>"
      ],
      "text/plain": [
       "    Manufacturer    Model  Sales_in_thousands  __year_resale_value  \\\n",
       "0          Acura  Integra              16.919               16.360   \n",
       "1          Acura       TL              39.384               19.875   \n",
       "2          Acura       CL              14.114               18.225   \n",
       "3          Acura       RL               8.588               29.725   \n",
       "4           Audi       A4              20.397               22.255   \n",
       "..           ...      ...                 ...                  ...   \n",
       "152        Volvo      V40               3.545                  NaN   \n",
       "153        Volvo      S70              15.245                  NaN   \n",
       "154        Volvo      V70              17.531                  NaN   \n",
       "155        Volvo      C70               3.493                  NaN   \n",
       "156        Volvo      S80              18.969                  NaN   \n",
       "\n",
       "    Vehicle_type  Price_in_thousands  Engine_size  Horsepower  Wheelbase  \\\n",
       "0      Passenger               21.50          1.8       140.0      101.2   \n",
       "1      Passenger               28.40          3.2       225.0      108.1   \n",
       "2      Passenger                 NaN          3.2       225.0      106.9   \n",
       "3      Passenger               42.00          3.5       210.0      114.6   \n",
       "4      Passenger               23.99          1.8       150.0      102.6   \n",
       "..           ...                 ...          ...         ...        ...   \n",
       "152    Passenger               24.40          1.9       160.0      100.5   \n",
       "153    Passenger               27.50          2.4       168.0      104.9   \n",
       "154    Passenger               28.80          2.4       168.0      104.9   \n",
       "155    Passenger               45.50          2.3       236.0      104.9   \n",
       "156    Passenger               36.00          2.9       201.0      109.9   \n",
       "\n",
       "     Width  Length  Curb_weight  Fuel_capacity  Fuel_efficiency Latest_Launch  \\\n",
       "0     67.3   172.4        2.639           13.2             28.0      2/2/2012   \n",
       "1     70.3   192.9        3.517           17.2             25.0      6/3/2011   \n",
       "2     70.6   192.0        3.470           17.2             26.0      1/4/2012   \n",
       "3     71.4   196.6        3.850           18.0             22.0     3/10/2011   \n",
       "4     68.2   178.0        2.998           16.4             27.0     10/8/2011   \n",
       "..     ...     ...          ...            ...              ...           ...   \n",
       "152   67.6   176.6        3.042           15.8             25.0     9/21/2011   \n",
       "153   69.3   185.9        3.208           17.9             25.0    11/24/2012   \n",
       "154   69.3   186.2        3.259           17.9             25.0     6/25/2011   \n",
       "155   71.5   185.7        3.601           18.5             23.0     4/26/2011   \n",
       "156   72.1   189.8        3.600           21.1             24.0    11/14/2011   \n",
       "\n",
       "     Power_perf_factor  \n",
       "0            58.280150  \n",
       "1            91.370778  \n",
       "2                  NaN  \n",
       "3            91.389779  \n",
       "4            62.777639  \n",
       "..                 ...  \n",
       "152          66.498812  \n",
       "153          70.654495  \n",
       "154          71.155978  \n",
       "155         101.623357  \n",
       "156          85.735655  \n",
       "\n",
       "[157 rows x 16 columns]"
      ]
     },
     "execution_count": 3,
     "metadata": {},
     "output_type": "execute_result"
    }
   ],
   "source": [
    "df #melihat df"
   ]
  },
  {
   "cell_type": "code",
   "execution_count": 4,
   "id": "8c2b1570",
   "metadata": {
    "execution": {
     "iopub.execute_input": "2025-01-19T09:01:26.420587Z",
     "iopub.status.busy": "2025-01-19T09:01:26.420186Z",
     "iopub.status.idle": "2025-01-19T09:01:26.430770Z",
     "shell.execute_reply": "2025-01-19T09:01:26.429455Z"
    },
    "papermill": {
     "duration": 0.029287,
     "end_time": "2025-01-19T09:01:26.433244",
     "exception": false,
     "start_time": "2025-01-19T09:01:26.403957",
     "status": "completed"
    },
    "tags": []
   },
   "outputs": [
    {
     "data": {
      "text/plain": [
       "Manufacturer            0\n",
       "Model                   0\n",
       "Sales_in_thousands      0\n",
       "__year_resale_value    36\n",
       "Vehicle_type            0\n",
       "Price_in_thousands      2\n",
       "Engine_size             1\n",
       "Horsepower              1\n",
       "Wheelbase               1\n",
       "Width                   1\n",
       "Length                  1\n",
       "Curb_weight             2\n",
       "Fuel_capacity           1\n",
       "Fuel_efficiency         3\n",
       "Latest_Launch           0\n",
       "Power_perf_factor       2\n",
       "dtype: int64"
      ]
     },
     "execution_count": 4,
     "metadata": {},
     "output_type": "execute_result"
    }
   ],
   "source": [
    "df.isna().sum() #melihat datapoint yang kosong"
   ]
  },
  {
   "cell_type": "markdown",
   "id": "9b31e448",
   "metadata": {
    "papermill": {
     "duration": 0.013716,
     "end_time": "2025-01-19T09:01:26.463214",
     "exception": false,
     "start_time": "2025-01-19T09:01:26.449498",
     "status": "completed"
    },
    "tags": []
   },
   "source": [
    "dipilih atribut yang sekiranya cocok untuk regresi sederhana dan berganda"
   ]
  },
  {
   "cell_type": "code",
   "execution_count": 5,
   "id": "6462a645",
   "metadata": {
    "execution": {
     "iopub.execute_input": "2025-01-19T09:01:26.492147Z",
     "iopub.status.busy": "2025-01-19T09:01:26.491769Z",
     "iopub.status.idle": "2025-01-19T09:01:26.500061Z",
     "shell.execute_reply": "2025-01-19T09:01:26.498884Z"
    },
    "papermill": {
     "duration": 0.0251,
     "end_time": "2025-01-19T09:01:26.502227",
     "exception": false,
     "start_time": "2025-01-19T09:01:26.477127",
     "status": "completed"
    },
    "tags": []
   },
   "outputs": [],
   "source": [
    "new_df = df[['Price_in_thousands', 'Horsepower', 'Engine_size', 'Power_perf_factor']] #membuat df yang baru"
   ]
  },
  {
   "cell_type": "code",
   "execution_count": 6,
   "id": "f03a856f",
   "metadata": {
    "execution": {
     "iopub.execute_input": "2025-01-19T09:01:26.531298Z",
     "iopub.status.busy": "2025-01-19T09:01:26.530929Z",
     "iopub.status.idle": "2025-01-19T09:01:26.545785Z",
     "shell.execute_reply": "2025-01-19T09:01:26.544609Z"
    },
    "papermill": {
     "duration": 0.032102,
     "end_time": "2025-01-19T09:01:26.548585",
     "exception": false,
     "start_time": "2025-01-19T09:01:26.516483",
     "status": "completed"
    },
    "tags": []
   },
   "outputs": [
    {
     "data": {
      "text/html": [
       "<div>\n",
       "<style scoped>\n",
       "    .dataframe tbody tr th:only-of-type {\n",
       "        vertical-align: middle;\n",
       "    }\n",
       "\n",
       "    .dataframe tbody tr th {\n",
       "        vertical-align: top;\n",
       "    }\n",
       "\n",
       "    .dataframe thead th {\n",
       "        text-align: right;\n",
       "    }\n",
       "</style>\n",
       "<table border=\"1\" class=\"dataframe\">\n",
       "  <thead>\n",
       "    <tr style=\"text-align: right;\">\n",
       "      <th></th>\n",
       "      <th>Price_in_thousands</th>\n",
       "      <th>Horsepower</th>\n",
       "      <th>Engine_size</th>\n",
       "      <th>Power_perf_factor</th>\n",
       "    </tr>\n",
       "  </thead>\n",
       "  <tbody>\n",
       "    <tr>\n",
       "      <th>0</th>\n",
       "      <td>21.50</td>\n",
       "      <td>140.0</td>\n",
       "      <td>1.8</td>\n",
       "      <td>58.280150</td>\n",
       "    </tr>\n",
       "    <tr>\n",
       "      <th>1</th>\n",
       "      <td>28.40</td>\n",
       "      <td>225.0</td>\n",
       "      <td>3.2</td>\n",
       "      <td>91.370778</td>\n",
       "    </tr>\n",
       "    <tr>\n",
       "      <th>2</th>\n",
       "      <td>NaN</td>\n",
       "      <td>225.0</td>\n",
       "      <td>3.2</td>\n",
       "      <td>NaN</td>\n",
       "    </tr>\n",
       "    <tr>\n",
       "      <th>3</th>\n",
       "      <td>42.00</td>\n",
       "      <td>210.0</td>\n",
       "      <td>3.5</td>\n",
       "      <td>91.389779</td>\n",
       "    </tr>\n",
       "    <tr>\n",
       "      <th>4</th>\n",
       "      <td>23.99</td>\n",
       "      <td>150.0</td>\n",
       "      <td>1.8</td>\n",
       "      <td>62.777639</td>\n",
       "    </tr>\n",
       "    <tr>\n",
       "      <th>...</th>\n",
       "      <td>...</td>\n",
       "      <td>...</td>\n",
       "      <td>...</td>\n",
       "      <td>...</td>\n",
       "    </tr>\n",
       "    <tr>\n",
       "      <th>152</th>\n",
       "      <td>24.40</td>\n",
       "      <td>160.0</td>\n",
       "      <td>1.9</td>\n",
       "      <td>66.498812</td>\n",
       "    </tr>\n",
       "    <tr>\n",
       "      <th>153</th>\n",
       "      <td>27.50</td>\n",
       "      <td>168.0</td>\n",
       "      <td>2.4</td>\n",
       "      <td>70.654495</td>\n",
       "    </tr>\n",
       "    <tr>\n",
       "      <th>154</th>\n",
       "      <td>28.80</td>\n",
       "      <td>168.0</td>\n",
       "      <td>2.4</td>\n",
       "      <td>71.155978</td>\n",
       "    </tr>\n",
       "    <tr>\n",
       "      <th>155</th>\n",
       "      <td>45.50</td>\n",
       "      <td>236.0</td>\n",
       "      <td>2.3</td>\n",
       "      <td>101.623357</td>\n",
       "    </tr>\n",
       "    <tr>\n",
       "      <th>156</th>\n",
       "      <td>36.00</td>\n",
       "      <td>201.0</td>\n",
       "      <td>2.9</td>\n",
       "      <td>85.735655</td>\n",
       "    </tr>\n",
       "  </tbody>\n",
       "</table>\n",
       "<p>157 rows × 4 columns</p>\n",
       "</div>"
      ],
      "text/plain": [
       "     Price_in_thousands  Horsepower  Engine_size  Power_perf_factor\n",
       "0                 21.50       140.0          1.8          58.280150\n",
       "1                 28.40       225.0          3.2          91.370778\n",
       "2                   NaN       225.0          3.2                NaN\n",
       "3                 42.00       210.0          3.5          91.389779\n",
       "4                 23.99       150.0          1.8          62.777639\n",
       "..                  ...         ...          ...                ...\n",
       "152               24.40       160.0          1.9          66.498812\n",
       "153               27.50       168.0          2.4          70.654495\n",
       "154               28.80       168.0          2.4          71.155978\n",
       "155               45.50       236.0          2.3         101.623357\n",
       "156               36.00       201.0          2.9          85.735655\n",
       "\n",
       "[157 rows x 4 columns]"
      ]
     },
     "execution_count": 6,
     "metadata": {},
     "output_type": "execute_result"
    }
   ],
   "source": [
    "new_df #melihat df baru"
   ]
  },
  {
   "cell_type": "code",
   "execution_count": 7,
   "id": "219ebc32",
   "metadata": {
    "execution": {
     "iopub.execute_input": "2025-01-19T09:01:26.577538Z",
     "iopub.status.busy": "2025-01-19T09:01:26.577172Z",
     "iopub.status.idle": "2025-01-19T09:01:26.585255Z",
     "shell.execute_reply": "2025-01-19T09:01:26.584185Z"
    },
    "papermill": {
     "duration": 0.024998,
     "end_time": "2025-01-19T09:01:26.587556",
     "exception": false,
     "start_time": "2025-01-19T09:01:26.562558",
     "status": "completed"
    },
    "tags": []
   },
   "outputs": [
    {
     "data": {
      "text/plain": [
       "Price_in_thousands    2\n",
       "Horsepower            1\n",
       "Engine_size           1\n",
       "Power_perf_factor     2\n",
       "dtype: int64"
      ]
     },
     "execution_count": 7,
     "metadata": {},
     "output_type": "execute_result"
    }
   ],
   "source": [
    "new_df.isna().sum() #melihat datapoint yang kosong"
   ]
  },
  {
   "cell_type": "markdown",
   "id": "c43d2013",
   "metadata": {
    "papermill": {
     "duration": 0.013292,
     "end_time": "2025-01-19T09:01:26.614447",
     "exception": false,
     "start_time": "2025-01-19T09:01:26.601155",
     "status": "completed"
    },
    "tags": []
   },
   "source": [
    "bersihkan kolom yang tak bernilai dengan .dropna()"
   ]
  },
  {
   "cell_type": "code",
   "execution_count": 8,
   "id": "6d30b1ca",
   "metadata": {
    "execution": {
     "iopub.execute_input": "2025-01-19T09:01:26.645124Z",
     "iopub.status.busy": "2025-01-19T09:01:26.644764Z",
     "iopub.status.idle": "2025-01-19T09:01:26.653196Z",
     "shell.execute_reply": "2025-01-19T09:01:26.651507Z"
    },
    "papermill": {
     "duration": 0.027094,
     "end_time": "2025-01-19T09:01:26.655773",
     "exception": false,
     "start_time": "2025-01-19T09:01:26.628679",
     "status": "completed"
    },
    "tags": []
   },
   "outputs": [],
   "source": [
    "cleaned_df = new_df.dropna(subset=['Price_in_thousands', 'Engine_size', 'Horsepower', 'Power_perf_factor']) #membuat df baru dengan menghapus datapoint yang kosong"
   ]
  },
  {
   "cell_type": "code",
   "execution_count": 9,
   "id": "a3345c57",
   "metadata": {
    "execution": {
     "iopub.execute_input": "2025-01-19T09:01:26.684536Z",
     "iopub.status.busy": "2025-01-19T09:01:26.684180Z",
     "iopub.status.idle": "2025-01-19T09:01:26.692662Z",
     "shell.execute_reply": "2025-01-19T09:01:26.691576Z"
    },
    "papermill": {
     "duration": 0.025465,
     "end_time": "2025-01-19T09:01:26.694973",
     "exception": false,
     "start_time": "2025-01-19T09:01:26.669508",
     "status": "completed"
    },
    "tags": []
   },
   "outputs": [
    {
     "data": {
      "text/plain": [
       "Price_in_thousands    0\n",
       "Horsepower            0\n",
       "Engine_size           0\n",
       "Power_perf_factor     0\n",
       "dtype: int64"
      ]
     },
     "execution_count": 9,
     "metadata": {},
     "output_type": "execute_result"
    }
   ],
   "source": [
    "cleaned_df.isna().sum() #melihat apakah masih ada yang kosong"
   ]
  },
  {
   "cell_type": "code",
   "execution_count": 10,
   "id": "6f67faa9",
   "metadata": {
    "execution": {
     "iopub.execute_input": "2025-01-19T09:01:26.724694Z",
     "iopub.status.busy": "2025-01-19T09:01:26.724353Z",
     "iopub.status.idle": "2025-01-19T09:01:27.617681Z",
     "shell.execute_reply": "2025-01-19T09:01:27.616586Z"
    },
    "papermill": {
     "duration": 0.9119,
     "end_time": "2025-01-19T09:01:27.620729",
     "exception": false,
     "start_time": "2025-01-19T09:01:26.708829",
     "status": "completed"
    },
    "tags": []
   },
   "outputs": [
    {
     "data": {
      "text/plain": [
       "<Axes: title={'center': 'Engine_size Vs Price in Thousands'}, xlabel='Engine_size', ylabel='Price_in_thousands'>"
      ]
     },
     "execution_count": 10,
     "metadata": {},
     "output_type": "execute_result"
    },
    {
     "data": {
      "image/png": "[encoded data removed]",
      "text/plain": [
       "<Figure size 640x480 with 1 Axes>"
      ]
     },
     "metadata": {},
     "output_type": "display_data"
    },
    {
     "data": {
      "image/png": "[encoded data removed]",
      "text/plain": [
       "<Figure size 640x480 with 1 Axes>"
      ]
     },
     "metadata": {},
     "output_type": "display_data"
    },
    {
     "data": {
      "image/png": "[encoded data removed]",
      "text/plain": [
       "<Figure size 640x480 with 1 Axes>"
      ]
     },
     "metadata": {},
     "output_type": "display_data"
    }
   ],
   "source": [
    "#plot untuk masing-masing atribut\n",
    "cleaned_df.plot(x='Power_perf_factor', y='Price_in_thousands', kind='scatter', title='Power per Factor Vs Price in Thousands')\n",
    "cleaned_df.plot(x='Horsepower', y='Price_in_thousands', kind='scatter', title='Horsepower Vs Price in Thousands')\n",
    "cleaned_df.plot(x='Engine_size', y='Price_in_thousands', kind='scatter', title='Engine_size Vs Price in Thousands')"
   ]
  },
  {
   "cell_type": "markdown",
   "id": "054d3a31",
   "metadata": {
    "papermill": {
     "duration": 0.015465,
     "end_time": "2025-01-19T09:01:27.651501",
     "exception": false,
     "start_time": "2025-01-19T09:01:27.636036",
     "status": "completed"
    },
    "tags": []
   },
   "source": [
    "terlihat sekilas bahwa masing-masing atribut memiliki korelasi positif dengan atribut target."
   ]
  },
  {
   "cell_type": "markdown",
   "id": "d39a4de3",
   "metadata": {
    "papermill": {
     "duration": 0.015121,
     "end_time": "2025-01-19T09:01:27.682820",
     "exception": false,
     "start_time": "2025-01-19T09:01:27.667699",
     "status": "completed"
    },
    "tags": []
   },
   "source": [
    "# Akan dibuat regresi sederhana dengan variabel X adalah power per factor dan Y adalah price in thousands"
   ]
  },
  {
   "cell_type": "code",
   "execution_count": 11,
   "id": "34ad320b",
   "metadata": {
    "execution": {
     "iopub.execute_input": "2025-01-19T09:01:27.716178Z",
     "iopub.status.busy": "2025-01-19T09:01:27.715807Z",
     "iopub.status.idle": "2025-01-19T09:01:27.723274Z",
     "shell.execute_reply": "2025-01-19T09:01:27.721864Z"
    },
    "papermill": {
     "duration": 0.027409,
     "end_time": "2025-01-19T09:01:27.725474",
     "exception": false,
     "start_time": "2025-01-19T09:01:27.698065",
     "status": "completed"
    },
    "tags": []
   },
   "outputs": [],
   "source": [
    "#memilih variabel dependent dan independent\n",
    "X = cleaned_df.drop(columns=[\"Price_in_thousands\"])\n",
    "y = cleaned_df[[\"Price_in_thousands\"]]"
   ]
  },
  {
   "cell_type": "code",
   "execution_count": 12,
   "id": "f6435863",
   "metadata": {
    "execution": {
     "iopub.execute_input": "2025-01-19T09:01:27.759042Z",
     "iopub.status.busy": "2025-01-19T09:01:27.758655Z",
     "iopub.status.idle": "2025-01-19T09:01:27.768679Z",
     "shell.execute_reply": "2025-01-19T09:01:27.767478Z"
    },
    "papermill": {
     "duration": 0.029084,
     "end_time": "2025-01-19T09:01:27.771069",
     "exception": false,
     "start_time": "2025-01-19T09:01:27.741985",
     "status": "completed"
    },
    "tags": []
   },
   "outputs": [],
   "source": [
    "#mem-split dataset\n",
    "X_train, X_test, y_train, y_test = train_test_split(X, y, test_size=0.2, random_state=42)"
   ]
  },
  {
   "cell_type": "code",
   "execution_count": 13,
   "id": "ea98fb7b",
   "metadata": {
    "execution": {
     "iopub.execute_input": "2025-01-19T09:01:27.803604Z",
     "iopub.status.busy": "2025-01-19T09:01:27.803214Z",
     "iopub.status.idle": "2025-01-19T09:01:27.810500Z",
     "shell.execute_reply": "2025-01-19T09:01:27.809342Z"
    },
    "papermill": {
     "duration": 0.026689,
     "end_time": "2025-01-19T09:01:27.813001",
     "exception": false,
     "start_time": "2025-01-19T09:01:27.786312",
     "status": "completed"
    },
    "tags": []
   },
   "outputs": [],
   "source": [
    "x1_train = X_train[[\"Power_perf_factor\"]]\n",
    "x1_test = X_test[[\"Power_perf_factor\"]]"
   ]
  },
  {
   "cell_type": "markdown",
   "id": "c2a22884",
   "metadata": {
    "papermill": {
     "duration": 0.015926,
     "end_time": "2025-01-19T09:01:27.844981",
     "exception": false,
     "start_time": "2025-01-19T09:01:27.829055",
     "status": "completed"
    },
    "tags": []
   },
   "source": [
    "# Membuat Model"
   ]
  },
  {
   "cell_type": "code",
   "execution_count": 14,
   "id": "f4c8d257",
   "metadata": {
    "execution": {
     "iopub.execute_input": "2025-01-19T09:01:27.943038Z",
     "iopub.status.busy": "2025-01-19T09:01:27.941967Z",
     "iopub.status.idle": "2025-01-19T09:01:27.947049Z",
     "shell.execute_reply": "2025-01-19T09:01:27.945911Z"
    },
    "papermill": {
     "duration": 0.024662,
     "end_time": "2025-01-19T09:01:27.949431",
     "exception": false,
     "start_time": "2025-01-19T09:01:27.924769",
     "status": "completed"
    },
    "tags": []
   },
   "outputs": [],
   "source": [
    "linreg1 = LinearRegression()"
   ]
  },
  {
   "cell_type": "code",
   "execution_count": 15,
   "id": "8624b857",
   "metadata": {
    "execution": {
     "iopub.execute_input": "2025-01-19T09:01:27.982503Z",
     "iopub.status.busy": "2025-01-19T09:01:27.982104Z",
     "iopub.status.idle": "2025-01-19T09:01:28.019656Z",
     "shell.execute_reply": "2025-01-19T09:01:28.018414Z"
    },
    "papermill": {
     "duration": 0.057136,
     "end_time": "2025-01-19T09:01:28.022208",
     "exception": false,
     "start_time": "2025-01-19T09:01:27.965072",
     "status": "completed"
    },
    "tags": []
   },
   "outputs": [
    {
     "data": {
      "text/html": [
       "<style>#sk-container-id-1 {color: black;background-color: white;}#sk-container-id-1 pre{padding: 0;}#sk-container-id-1 div.sk-toggleable {background-color: white;}#sk-container-id-1 label.sk-toggleable__label {cursor: pointer;display: block;width: 100%;margin-bottom: 0;padding: 0.3em;box-sizing: border-box;text-align: center;}#sk-container-id-1 label.sk-toggleable__label-arrow:before {content: \"▸\";float: left;margin-right: 0.25em;color: #696969;}#sk-container-id-1 label.sk-toggleable__label-arrow:hover:before {color: black;}#sk-container-id-1 div.sk-estimator:hover label.sk-toggleable__label-arrow:before {color: black;}#sk-container-id-1 div.sk-toggleable__content {max-height: 0;max-width: 0;overflow: hidden;text-align: left;background-color: #f0f8ff;}#sk-container-id-1 div.sk-toggleable__content pre {margin: 0.2em;color: black;border-radius: 0.25em;background-color: #f0f8ff;}#sk-container-id-1 input.sk-toggleable__control:checked~div.sk-toggleable__content {max-height: 200px;max-width: 100%;overflow: auto;}#sk-container-id-1 input.sk-toggleable__control:checked~label.sk-toggleable__label-arrow:before {content: \"▾\";}#sk-container-id-1 div.sk-estimator input.sk-toggleable__control:checked~label.sk-toggleable__label {background-color: #d4ebff;}#sk-container-id-1 div.sk-label input.sk-toggleable__control:checked~label.sk-toggleable__label {background-color: #d4ebff;}#sk-container-id-1 input.sk-hidden--visually {border: 0;clip: rect(1px 1px 1px 1px);clip: rect(1px, 1px, 1px, 1px);height: 1px;margin: -1px;overflow: hidden;padding: 0;position: absolute;width: 1px;}#sk-container-id-1 div.sk-estimator {font-family: monospace;background-color: #f0f8ff;border: 1px dotted black;border-radius: 0.25em;box-sizing: border-box;margin-bottom: 0.5em;}#sk-container-id-1 div.sk-estimator:hover {background-color: #d4ebff;}#sk-container-id-1 div.sk-parallel-item::after {content: \"\";width: 100%;border-bottom: 1px solid gray;flex-grow: 1;}#sk-container-id-1 div.sk-label:hover label.sk-toggleable__label {background-color: #d4ebff;}#sk-container-id-1 div.sk-serial::before {content: \"\";position: absolute;border-left: 1px solid gray;box-sizing: border-box;top: 0;bottom: 0;left: 50%;z-index: 0;}#sk-container-id-1 div.sk-serial {display: flex;flex-direction: column;align-items: center;background-color: white;padding-right: 0.2em;padding-left: 0.2em;position: relative;}#sk-container-id-1 div.sk-item {position: relative;z-index: 1;}#sk-container-id-1 div.sk-parallel {display: flex;align-items: stretch;justify-content: center;background-color: white;position: relative;}#sk-container-id-1 div.sk-item::before, #sk-container-id-1 div.sk-parallel-item::before {content: \"\";position: absolute;border-left: 1px solid gray;box-sizing: border-box;top: 0;bottom: 0;left: 50%;z-index: -1;}#sk-container-id-1 div.sk-parallel-item {display: flex;flex-direction: column;z-index: 1;position: relative;background-color: white;}#sk-container-id-1 div.sk-parallel-item:first-child::after {align-self: flex-end;width: 50%;}#sk-container-id-1 div.sk-parallel-item:last-child::after {align-self: flex-start;width: 50%;}#sk-container-id-1 div.sk-parallel-item:only-child::after {width: 0;}#sk-container-id-1 div.sk-dashed-wrapped {border: 1px dashed gray;margin: 0 0.4em 0.5em 0.4em;box-sizing: border-box;padding-bottom: 0.4em;background-color: white;}#sk-container-id-1 div.sk-label label {font-family: monospace;font-weight: bold;display: inline-block;line-height: 1.2em;}#sk-container-id-1 div.sk-label-container {text-align: center;}#sk-container-id-1 div.sk-container {/* jupyter's `normalize.less` sets `[hidden] { display: none; }` but bootstrap.min.css set `[hidden] { display: none !important; }` so we also need the `!important` here to be able to override the default hidden behavior on the sphinx rendered scikit-learn.org. See: https://github.com/scikit-learn/scikit-learn/issues/21755 */display: inline-block !important;position: relative;}#sk-container-id-1 div.sk-text-repr-fallback {display: none;}</style><div id=\"sk-container-id-1\" class=\"sk-top-container\"><div class=\"sk-text-repr-fallback\"><pre>LinearRegression()</pre><b>In a Jupyter environment, please rerun this cell to show the HTML representation or trust the notebook. <br />On GitHub, the HTML representation is unable to render, please try loading this page with nbviewer.org.</b></div><div class=\"sk-container\" hidden><div class=\"sk-item\"><div class=\"sk-estimator sk-toggleable\"><input class=\"sk-toggleable__control sk-hidden--visually\" id=\"sk-estimator-id-1\" type=\"checkbox\" checked><label for=\"sk-estimator-id-1\" class=\"sk-toggleable__label sk-toggleable__label-arrow\">LinearRegression</label><div class=\"sk-toggleable__content\"><pre>LinearRegression()</pre></div></div></div></div></div>"
      ],
      "text/plain": [
       "LinearRegression()"
      ]
     },
     "execution_count": 15,
     "metadata": {},
     "output_type": "execute_result"
    }
   ],
   "source": [
    "linreg1.fit(x1_train, y_train)"
   ]
  },
  {
   "cell_type": "code",
   "execution_count": 16,
   "id": "31eed809",
   "metadata": {
    "execution": {
     "iopub.execute_input": "2025-01-19T09:01:28.059910Z",
     "iopub.status.busy": "2025-01-19T09:01:28.059530Z",
     "iopub.status.idle": "2025-01-19T09:01:28.066956Z",
     "shell.execute_reply": "2025-01-19T09:01:28.065675Z"
    },
    "papermill": {
     "duration": 0.030853,
     "end_time": "2025-01-19T09:01:28.069508",
     "exception": false,
     "start_time": "2025-01-19T09:01:28.038655",
     "status": "completed"
    },
    "tags": []
   },
   "outputs": [
    {
     "data": {
      "text/plain": [
       "array([-11.13368419])"
      ]
     },
     "execution_count": 16,
     "metadata": {},
     "output_type": "execute_result"
    }
   ],
   "source": [
    "#nilai b0\n",
    "linreg1.intercept_"
   ]
  },
  {
   "cell_type": "code",
   "execution_count": 17,
   "id": "99ad183e",
   "metadata": {
    "execution": {
     "iopub.execute_input": "2025-01-19T09:01:28.103989Z",
     "iopub.status.busy": "2025-01-19T09:01:28.103558Z",
     "iopub.status.idle": "2025-01-19T09:01:28.111317Z",
     "shell.execute_reply": "2025-01-19T09:01:28.110112Z"
    },
    "papermill": {
     "duration": 0.027667,
     "end_time": "2025-01-19T09:01:28.113598",
     "exception": false,
     "start_time": "2025-01-19T09:01:28.085931",
     "status": "completed"
    },
    "tags": []
   },
   "outputs": [
    {
     "data": {
      "text/plain": [
       "array([[0.49889823]])"
      ]
     },
     "execution_count": 17,
     "metadata": {},
     "output_type": "execute_result"
    }
   ],
   "source": [
    "#nilai b1\n",
    "linreg1.coef_"
   ]
  },
  {
   "cell_type": "code",
   "execution_count": 18,
   "id": "3712dcff",
   "metadata": {
    "execution": {
     "iopub.execute_input": "2025-01-19T09:01:28.149499Z",
     "iopub.status.busy": "2025-01-19T09:01:28.149133Z",
     "iopub.status.idle": "2025-01-19T09:01:28.154583Z",
     "shell.execute_reply": "2025-01-19T09:01:28.153461Z"
    },
    "papermill": {
     "duration": 0.027335,
     "end_time": "2025-01-19T09:01:28.157189",
     "exception": false,
     "start_time": "2025-01-19T09:01:28.129854",
     "status": "completed"
    },
    "tags": []
   },
   "outputs": [],
   "source": [
    "linreg1_b0 = linreg1.intercept_[0]\n",
    "linreg1_b1 = linreg1.coef_[0][0]"
   ]
  },
  {
   "cell_type": "markdown",
   "id": "698d760a",
   "metadata": {
    "papermill": {
     "duration": 0.015461,
     "end_time": "2025-01-19T09:01:28.188700",
     "exception": false,
     "start_time": "2025-01-19T09:01:28.173239",
     "status": "completed"
    },
    "tags": []
   },
   "source": [
    "# Rumus regresi yang didapat:"
   ]
  },
  {
   "cell_type": "code",
   "execution_count": 19,
   "id": "aebb9200",
   "metadata": {
    "execution": {
     "iopub.execute_input": "2025-01-19T09:01:28.222607Z",
     "iopub.status.busy": "2025-01-19T09:01:28.222041Z",
     "iopub.status.idle": "2025-01-19T09:01:28.228415Z",
     "shell.execute_reply": "2025-01-19T09:01:28.227275Z"
    },
    "papermill": {
     "duration": 0.025669,
     "end_time": "2025-01-19T09:01:28.230609",
     "exception": false,
     "start_time": "2025-01-19T09:01:28.204940",
     "status": "completed"
    },
    "tags": []
   },
   "outputs": [
    {
     "name": "stdout",
     "output_type": "stream",
     "text": [
      "y = -11.133684194945523 + 0.4988982313502056 x\n"
     ]
    }
   ],
   "source": [
    "print(\"y =\", linreg1_b0, \"+\", linreg1_b1, \"x\")"
   ]
  },
  {
   "cell_type": "markdown",
   "id": "a0d8eff3",
   "metadata": {
    "papermill": {
     "duration": 0.015769,
     "end_time": "2025-01-19T09:01:28.262458",
     "exception": false,
     "start_time": "2025-01-19T09:01:28.246689",
     "status": "completed"
    },
    "tags": []
   },
   "source": [
    "# Melihat seberapa akurat model yang dibuat"
   ]
  },
  {
   "cell_type": "code",
   "execution_count": 20,
   "id": "992c09e5",
   "metadata": {
    "execution": {
     "iopub.execute_input": "2025-01-19T09:01:28.298534Z",
     "iopub.status.busy": "2025-01-19T09:01:28.298138Z",
     "iopub.status.idle": "2025-01-19T09:01:28.305184Z",
     "shell.execute_reply": "2025-01-19T09:01:28.303707Z"
    },
    "papermill": {
     "duration": 0.028264,
     "end_time": "2025-01-19T09:01:28.308032",
     "exception": false,
     "start_time": "2025-01-19T09:01:28.279768",
     "status": "completed"
    },
    "tags": []
   },
   "outputs": [],
   "source": [
    "y_pred1 = linreg1.predict(x1_test)"
   ]
  },
  {
   "cell_type": "code",
   "execution_count": 21,
   "id": "b8068681",
   "metadata": {
    "execution": {
     "iopub.execute_input": "2025-01-19T09:01:28.345773Z",
     "iopub.status.busy": "2025-01-19T09:01:28.345412Z",
     "iopub.status.idle": "2025-01-19T09:01:28.353760Z",
     "shell.execute_reply": "2025-01-19T09:01:28.352449Z"
    },
    "papermill": {
     "duration": 0.031175,
     "end_time": "2025-01-19T09:01:28.356833",
     "exception": false,
     "start_time": "2025-01-19T09:01:28.325658",
     "status": "completed"
    },
    "tags": []
   },
   "outputs": [
    {
     "data": {
      "text/plain": [
       "array([[22.56397524],\n",
       "       [40.01784468],\n",
       "       [39.41931473],\n",
       "       [28.79003913],\n",
       "       [29.52289275],\n",
       "       [ 7.16205322],\n",
       "       [58.7032345 ],\n",
       "       [12.78691001],\n",
       "       [39.56602898],\n",
       "       [32.37572998],\n",
       "       [35.19107465],\n",
       "       [16.45394947],\n",
       "       [20.01850038],\n",
       "       [35.74175437],\n",
       "       [45.62390908],\n",
       "       [22.44938192],\n",
       "       [15.59039818],\n",
       "       [27.92043399],\n",
       "       [23.98363123],\n",
       "       [17.05208542],\n",
       "       [11.99690786],\n",
       "       [30.90074971],\n",
       "       [24.37861597],\n",
       "       [12.96192103],\n",
       "       [36.23505571],\n",
       "       [16.21578127],\n",
       "       [29.7006218 ],\n",
       "       [27.03661266],\n",
       "       [19.91772508],\n",
       "       [14.30900189],\n",
       "       [26.79407985]])"
      ]
     },
     "execution_count": 21,
     "metadata": {},
     "output_type": "execute_result"
    }
   ],
   "source": [
    "y_pred1"
   ]
  },
  {
   "cell_type": "markdown",
   "id": "eea9113d",
   "metadata": {
    "papermill": {
     "duration": 0.016447,
     "end_time": "2025-01-19T09:01:28.392323",
     "exception": false,
     "start_time": "2025-01-19T09:01:28.375876",
     "status": "completed"
    },
    "tags": []
   },
   "source": [
    "# Solusi Eksak: Least Square"
   ]
  },
  {
   "cell_type": "code",
   "execution_count": 22,
   "id": "7eecb760",
   "metadata": {
    "execution": {
     "iopub.execute_input": "2025-01-19T09:01:28.426917Z",
     "iopub.status.busy": "2025-01-19T09:01:28.426561Z",
     "iopub.status.idle": "2025-01-19T09:01:28.435707Z",
     "shell.execute_reply": "2025-01-19T09:01:28.433690Z"
    },
    "papermill": {
     "duration": 0.029609,
     "end_time": "2025-01-19T09:01:28.438281",
     "exception": false,
     "start_time": "2025-01-19T09:01:28.408672",
     "status": "completed"
    },
    "tags": []
   },
   "outputs": [],
   "source": [
    "def least_squares_sederhana(x, y):\n",
    "    n = len(y)\n",
    "    x = np.array(x)\n",
    "    y = np.array(y)\n",
    "    \n",
    "    sum_x = sum(x)\n",
    "    sum_y = sum(y)\n",
    "    sum_x2 = sum(x**2)\n",
    "    sum_xy = sum(x*y)\n",
    "    \n",
    "    atas = n*(sum_xy) - (sum_x)*(sum_y)\n",
    "    bawah = n * sum_x2 - (sum_x)**2\n",
    "    beta1 = atas/bawah\n",
    "\n",
    "    mean_x = sum_x / n\n",
    "    mean_y = sum_y / n\n",
    "\n",
    "    beta0 = mean_y - beta1 * mean_x\n",
    "\n",
    "    return (beta0[0], beta1[0])"
   ]
  },
  {
   "cell_type": "code",
   "execution_count": 23,
   "id": "d6461ad0",
   "metadata": {
    "execution": {
     "iopub.execute_input": "2025-01-19T09:01:28.472507Z",
     "iopub.status.busy": "2025-01-19T09:01:28.472146Z",
     "iopub.status.idle": "2025-01-19T09:01:28.478618Z",
     "shell.execute_reply": "2025-01-19T09:01:28.477177Z"
    },
    "papermill": {
     "duration": 0.027171,
     "end_time": "2025-01-19T09:01:28.481621",
     "exception": false,
     "start_time": "2025-01-19T09:01:28.454450",
     "status": "completed"
    },
    "tags": []
   },
   "outputs": [],
   "source": [
    "linreg2_betas = least_squares_sederhana(x1_train, y_train)"
   ]
  },
  {
   "cell_type": "code",
   "execution_count": 24,
   "id": "79bf9418",
   "metadata": {
    "execution": {
     "iopub.execute_input": "2025-01-19T09:01:28.520501Z",
     "iopub.status.busy": "2025-01-19T09:01:28.520050Z",
     "iopub.status.idle": "2025-01-19T09:01:28.527119Z",
     "shell.execute_reply": "2025-01-19T09:01:28.525604Z"
    },
    "papermill": {
     "duration": 0.02932,
     "end_time": "2025-01-19T09:01:28.529590",
     "exception": false,
     "start_time": "2025-01-19T09:01:28.500270",
     "status": "completed"
    },
    "tags": []
   },
   "outputs": [
    {
     "data": {
      "text/plain": [
       "(-11.133684194945651, 0.4988982313502072)"
      ]
     },
     "execution_count": 24,
     "metadata": {},
     "output_type": "execute_result"
    }
   ],
   "source": [
    "linreg2_betas"
   ]
  },
  {
   "cell_type": "code",
   "execution_count": 25,
   "id": "ed7f7b78",
   "metadata": {
    "execution": {
     "iopub.execute_input": "2025-01-19T09:01:28.566959Z",
     "iopub.status.busy": "2025-01-19T09:01:28.566590Z",
     "iopub.status.idle": "2025-01-19T09:01:28.572170Z",
     "shell.execute_reply": "2025-01-19T09:01:28.570780Z"
    },
    "papermill": {
     "duration": 0.026922,
     "end_time": "2025-01-19T09:01:28.574491",
     "exception": false,
     "start_time": "2025-01-19T09:01:28.547569",
     "status": "completed"
    },
    "tags": []
   },
   "outputs": [],
   "source": [
    "linreg2_beta0, linreg2_beta1 = linreg2_betas"
   ]
  },
  {
   "cell_type": "code",
   "execution_count": 26,
   "id": "89012c99",
   "metadata": {
    "execution": {
     "iopub.execute_input": "2025-01-19T09:01:28.612425Z",
     "iopub.status.busy": "2025-01-19T09:01:28.612018Z",
     "iopub.status.idle": "2025-01-19T09:01:28.618179Z",
     "shell.execute_reply": "2025-01-19T09:01:28.616785Z"
    },
    "papermill": {
     "duration": 0.029623,
     "end_time": "2025-01-19T09:01:28.621178",
     "exception": false,
     "start_time": "2025-01-19T09:01:28.591555",
     "status": "completed"
    },
    "tags": []
   },
   "outputs": [],
   "source": [
    "y_pred2 = np.array(linreg2_beta0 + linreg2_beta1 * x1_test)"
   ]
  },
  {
   "cell_type": "code",
   "execution_count": 27,
   "id": "6bcddff3",
   "metadata": {
    "execution": {
     "iopub.execute_input": "2025-01-19T09:01:28.658244Z",
     "iopub.status.busy": "2025-01-19T09:01:28.657817Z",
     "iopub.status.idle": "2025-01-19T09:01:28.665431Z",
     "shell.execute_reply": "2025-01-19T09:01:28.664294Z"
    },
    "papermill": {
     "duration": 0.029235,
     "end_time": "2025-01-19T09:01:28.668012",
     "exception": false,
     "start_time": "2025-01-19T09:01:28.638777",
     "status": "completed"
    },
    "tags": []
   },
   "outputs": [
    {
     "data": {
      "text/plain": [
       "array([[22.56397524],\n",
       "       [40.01784468],\n",
       "       [39.41931473],\n",
       "       [28.79003913],\n",
       "       [29.52289275],\n",
       "       [ 7.16205322],\n",
       "       [58.7032345 ],\n",
       "       [12.78691001],\n",
       "       [39.56602898],\n",
       "       [32.37572998],\n",
       "       [35.19107465],\n",
       "       [16.45394947],\n",
       "       [20.01850038],\n",
       "       [35.74175437],\n",
       "       [45.62390908],\n",
       "       [22.44938192],\n",
       "       [15.59039818],\n",
       "       [27.92043399],\n",
       "       [23.98363123],\n",
       "       [17.05208542],\n",
       "       [11.99690786],\n",
       "       [30.90074971],\n",
       "       [24.37861597],\n",
       "       [12.96192103],\n",
       "       [36.23505571],\n",
       "       [16.21578127],\n",
       "       [29.7006218 ],\n",
       "       [27.03661266],\n",
       "       [19.91772508],\n",
       "       [14.30900189],\n",
       "       [26.79407985]])"
      ]
     },
     "execution_count": 27,
     "metadata": {},
     "output_type": "execute_result"
    }
   ],
   "source": [
    "y_pred2"
   ]
  },
  {
   "cell_type": "markdown",
   "id": "98a01281",
   "metadata": {
    "papermill": {
     "duration": 0.015937,
     "end_time": "2025-01-19T09:01:28.701061",
     "exception": false,
     "start_time": "2025-01-19T09:01:28.685124",
     "status": "completed"
    },
    "tags": []
   },
   "source": [
    "# Matriks Evaluasi"
   ]
  },
  {
   "cell_type": "code",
   "execution_count": 28,
   "id": "fe89c373",
   "metadata": {
    "execution": {
     "iopub.execute_input": "2025-01-19T09:01:28.735936Z",
     "iopub.status.busy": "2025-01-19T09:01:28.735537Z",
     "iopub.status.idle": "2025-01-19T09:01:28.744924Z",
     "shell.execute_reply": "2025-01-19T09:01:28.743688Z"
    },
    "papermill": {
     "duration": 0.030055,
     "end_time": "2025-01-19T09:01:28.747377",
     "exception": false,
     "start_time": "2025-01-19T09:01:28.717322",
     "status": "completed"
    },
    "tags": []
   },
   "outputs": [
    {
     "data": {
      "text/plain": [
       "4.791126833312753"
      ]
     },
     "execution_count": 28,
     "metadata": {},
     "output_type": "execute_result"
    }
   ],
   "source": [
    "mean_absolute_error(y_test, y_pred1)"
   ]
  },
  {
   "cell_type": "code",
   "execution_count": 29,
   "id": "249a886e",
   "metadata": {
    "execution": {
     "iopub.execute_input": "2025-01-19T09:01:28.782217Z",
     "iopub.status.busy": "2025-01-19T09:01:28.781692Z",
     "iopub.status.idle": "2025-01-19T09:01:28.792009Z",
     "shell.execute_reply": "2025-01-19T09:01:28.790739Z"
    },
    "papermill": {
     "duration": 0.03071,
     "end_time": "2025-01-19T09:01:28.794469",
     "exception": false,
     "start_time": "2025-01-19T09:01:28.763759",
     "status": "completed"
    },
    "tags": []
   },
   "outputs": [
    {
     "data": {
      "text/plain": [
       "45.62352851207211"
      ]
     },
     "execution_count": 29,
     "metadata": {},
     "output_type": "execute_result"
    }
   ],
   "source": [
    "mean_squared_error(y_test, y_pred1)"
   ]
  },
  {
   "cell_type": "code",
   "execution_count": 30,
   "id": "2cae7b18",
   "metadata": {
    "execution": {
     "iopub.execute_input": "2025-01-19T09:01:28.829911Z",
     "iopub.status.busy": "2025-01-19T09:01:28.829530Z",
     "iopub.status.idle": "2025-01-19T09:01:28.839122Z",
     "shell.execute_reply": "2025-01-19T09:01:28.837754Z"
    },
    "papermill": {
     "duration": 0.02971,
     "end_time": "2025-01-19T09:01:28.841630",
     "exception": false,
     "start_time": "2025-01-19T09:01:28.811920",
     "status": "completed"
    },
    "tags": []
   },
   "outputs": [
    {
     "data": {
      "text/plain": [
       "0.7877631139377748"
      ]
     },
     "execution_count": 30,
     "metadata": {},
     "output_type": "execute_result"
    }
   ],
   "source": [
    "r2_score(y_test, y_pred1)"
   ]
  },
  {
   "cell_type": "markdown",
   "id": "f29d0c8d",
   "metadata": {
    "papermill": {
     "duration": 0.017847,
     "end_time": "2025-01-19T09:01:28.876178",
     "exception": false,
     "start_time": "2025-01-19T09:01:28.858331",
     "status": "completed"
    },
    "tags": []
   },
   "source": [
    "# Regresi Berganda"
   ]
  },
  {
   "cell_type": "markdown",
   "id": "71f03336",
   "metadata": {
    "papermill": {
     "duration": 0.016071,
     "end_time": "2025-01-19T09:01:28.909038",
     "exception": false,
     "start_time": "2025-01-19T09:01:28.892967",
     "status": "completed"
    },
    "tags": []
   },
   "source": [
    "Untuk regresi berganda, akan digunakan 3 parameter bebas saja untuk memprediksi price in thousands alasannya karena 3 variabel yang saya pilih \"kelihatan\" punya korelasi positif dengan variabel yang ditargetkan, dan terlebih lagi lebih memudahkan untuk bekerja dengan 3 parameter bebas."
   ]
  },
  {
   "cell_type": "markdown",
   "id": "11e12e06",
   "metadata": {
    "papermill": {
     "duration": 0.019053,
     "end_time": "2025-01-19T09:01:28.945826",
     "exception": false,
     "start_time": "2025-01-19T09:01:28.926773",
     "status": "completed"
    },
    "tags": []
   },
   "source": [
    "# Membuat Model"
   ]
  },
  {
   "cell_type": "code",
   "execution_count": 31,
   "id": "06c3911a",
   "metadata": {
    "execution": {
     "iopub.execute_input": "2025-01-19T09:01:28.981586Z",
     "iopub.status.busy": "2025-01-19T09:01:28.981193Z",
     "iopub.status.idle": "2025-01-19T09:01:28.986954Z",
     "shell.execute_reply": "2025-01-19T09:01:28.985544Z"
    },
    "papermill": {
     "duration": 0.027236,
     "end_time": "2025-01-19T09:01:28.989833",
     "exception": false,
     "start_time": "2025-01-19T09:01:28.962597",
     "status": "completed"
    },
    "tags": []
   },
   "outputs": [],
   "source": [
    "linreg4 = LinearRegression()"
   ]
  },
  {
   "cell_type": "code",
   "execution_count": 32,
   "id": "f4baaa21",
   "metadata": {
    "execution": {
     "iopub.execute_input": "2025-01-19T09:01:29.028438Z",
     "iopub.status.busy": "2025-01-19T09:01:29.028018Z",
     "iopub.status.idle": "2025-01-19T09:01:29.048539Z",
     "shell.execute_reply": "2025-01-19T09:01:29.047139Z"
    },
    "papermill": {
     "duration": 0.042264,
     "end_time": "2025-01-19T09:01:29.051427",
     "exception": false,
     "start_time": "2025-01-19T09:01:29.009163",
     "status": "completed"
    },
    "tags": []
   },
   "outputs": [
    {
     "data": {
      "text/html": [
       "<style>#sk-container-id-2 {color: black;background-color: white;}#sk-container-id-2 pre{padding: 0;}#sk-container-id-2 div.sk-toggleable {background-color: white;}#sk-container-id-2 label.sk-toggleable__label {cursor: pointer;display: block;width: 100%;margin-bottom: 0;padding: 0.3em;box-sizing: border-box;text-align: center;}#sk-container-id-2 label.sk-toggleable__label-arrow:before {content: \"▸\";float: left;margin-right: 0.25em;color: #696969;}#sk-container-id-2 label.sk-toggleable__label-arrow:hover:before {color: black;}#sk-container-id-2 div.sk-estimator:hover label.sk-toggleable__label-arrow:before {color: black;}#sk-container-id-2 div.sk-toggleable__content {max-height: 0;max-width: 0;overflow: hidden;text-align: left;background-color: #f0f8ff;}#sk-container-id-2 div.sk-toggleable__content pre {margin: 0.2em;color: black;border-radius: 0.25em;background-color: #f0f8ff;}#sk-container-id-2 input.sk-toggleable__control:checked~div.sk-toggleable__content {max-height: 200px;max-width: 100%;overflow: auto;}#sk-container-id-2 input.sk-toggleable__control:checked~label.sk-toggleable__label-arrow:before {content: \"▾\";}#sk-container-id-2 div.sk-estimator input.sk-toggleable__control:checked~label.sk-toggleable__label {background-color: #d4ebff;}#sk-container-id-2 div.sk-label input.sk-toggleable__control:checked~label.sk-toggleable__label {background-color: #d4ebff;}#sk-container-id-2 input.sk-hidden--visually {border: 0;clip: rect(1px 1px 1px 1px);clip: rect(1px, 1px, 1px, 1px);height: 1px;margin: -1px;overflow: hidden;padding: 0;position: absolute;width: 1px;}#sk-container-id-2 div.sk-estimator {font-family: monospace;background-color: #f0f8ff;border: 1px dotted black;border-radius: 0.25em;box-sizing: border-box;margin-bottom: 0.5em;}#sk-container-id-2 div.sk-estimator:hover {background-color: #d4ebff;}#sk-container-id-2 div.sk-parallel-item::after {content: \"\";width: 100%;border-bottom: 1px solid gray;flex-grow: 1;}#sk-container-id-2 div.sk-label:hover label.sk-toggleable__label {background-color: #d4ebff;}#sk-container-id-2 div.sk-serial::before {content: \"\";position: absolute;border-left: 1px solid gray;box-sizing: border-box;top: 0;bottom: 0;left: 50%;z-index: 0;}#sk-container-id-2 div.sk-serial {display: flex;flex-direction: column;align-items: center;background-color: white;padding-right: 0.2em;padding-left: 0.2em;position: relative;}#sk-container-id-2 div.sk-item {position: relative;z-index: 1;}#sk-container-id-2 div.sk-parallel {display: flex;align-items: stretch;justify-content: center;background-color: white;position: relative;}#sk-container-id-2 div.sk-item::before, #sk-container-id-2 div.sk-parallel-item::before {content: \"\";position: absolute;border-left: 1px solid gray;box-sizing: border-box;top: 0;bottom: 0;left: 50%;z-index: -1;}#sk-container-id-2 div.sk-parallel-item {display: flex;flex-direction: column;z-index: 1;position: relative;background-color: white;}#sk-container-id-2 div.sk-parallel-item:first-child::after {align-self: flex-end;width: 50%;}#sk-container-id-2 div.sk-parallel-item:last-child::after {align-self: flex-start;width: 50%;}#sk-container-id-2 div.sk-parallel-item:only-child::after {width: 0;}#sk-container-id-2 div.sk-dashed-wrapped {border: 1px dashed gray;margin: 0 0.4em 0.5em 0.4em;box-sizing: border-box;padding-bottom: 0.4em;background-color: white;}#sk-container-id-2 div.sk-label label {font-family: monospace;font-weight: bold;display: inline-block;line-height: 1.2em;}#sk-container-id-2 div.sk-label-container {text-align: center;}#sk-container-id-2 div.sk-container {/* jupyter's `normalize.less` sets `[hidden] { display: none; }` but bootstrap.min.css set `[hidden] { display: none !important; }` so we also need the `!important` here to be able to override the default hidden behavior on the sphinx rendered scikit-learn.org. See: https://github.com/scikit-learn/scikit-learn/issues/21755 */display: inline-block !important;position: relative;}#sk-container-id-2 div.sk-text-repr-fallback {display: none;}</style><div id=\"sk-container-id-2\" class=\"sk-top-container\"><div class=\"sk-text-repr-fallback\"><pre>LinearRegression()</pre><b>In a Jupyter environment, please rerun this cell to show the HTML representation or trust the notebook. <br />On GitHub, the HTML representation is unable to render, please try loading this page with nbviewer.org.</b></div><div class=\"sk-container\" hidden><div class=\"sk-item\"><div class=\"sk-estimator sk-toggleable\"><input class=\"sk-toggleable__control sk-hidden--visually\" id=\"sk-estimator-id-2\" type=\"checkbox\" checked><label for=\"sk-estimator-id-2\" class=\"sk-toggleable__label sk-toggleable__label-arrow\">LinearRegression</label><div class=\"sk-toggleable__content\"><pre>LinearRegression()</pre></div></div></div></div></div>"
      ],
      "text/plain": [
       "LinearRegression()"
      ]
     },
     "execution_count": 32,
     "metadata": {},
     "output_type": "execute_result"
    }
   ],
   "source": [
    "linreg4.fit(X_train, y_train)"
   ]
  },
  {
   "cell_type": "code",
   "execution_count": 33,
   "id": "ad66916c",
   "metadata": {
    "execution": {
     "iopub.execute_input": "2025-01-19T09:01:29.089971Z",
     "iopub.status.busy": "2025-01-19T09:01:29.089591Z",
     "iopub.status.idle": "2025-01-19T09:01:29.096833Z",
     "shell.execute_reply": "2025-01-19T09:01:29.095613Z"
    },
    "papermill": {
     "duration": 0.029017,
     "end_time": "2025-01-19T09:01:29.099070",
     "exception": false,
     "start_time": "2025-01-19T09:01:29.070053",
     "status": "completed"
    },
    "tags": []
   },
   "outputs": [],
   "source": [
    "y_pred4 = linreg4.predict(X_test)"
   ]
  },
  {
   "cell_type": "code",
   "execution_count": 34,
   "id": "fbfc91f3",
   "metadata": {
    "execution": {
     "iopub.execute_input": "2025-01-19T09:01:29.134231Z",
     "iopub.status.busy": "2025-01-19T09:01:29.133846Z",
     "iopub.status.idle": "2025-01-19T09:01:29.141440Z",
     "shell.execute_reply": "2025-01-19T09:01:29.140177Z"
    },
    "papermill": {
     "duration": 0.027727,
     "end_time": "2025-01-19T09:01:29.143605",
     "exception": false,
     "start_time": "2025-01-19T09:01:29.115878",
     "status": "completed"
    },
    "tags": []
   },
   "outputs": [
    {
     "data": {
      "text/plain": [
       "array([[25.45000001],\n",
       "       [51.72800009],\n",
       "       [28.34000006],\n",
       "       [22.24499999],\n",
       "       [25.30999999],\n",
       "       [ 9.699     ],\n",
       "       [82.60000004],\n",
       "       [17.50000001],\n",
       "       [45.49999989],\n",
       "       [31.505     ],\n",
       "       [26.31000001],\n",
       "       [11.52800001],\n",
       "       [19.047     ],\n",
       "       [43.33000001],\n",
       "       [39.66500006],\n",
       "       [16.535     ],\n",
       "       [16.48000001],\n",
       "       [31.75      ],\n",
       "       [19.72      ],\n",
       "       [16.87499999],\n",
       "       [13.26      ],\n",
       "       [27.88499999],\n",
       "       [21.97500001],\n",
       "       [13.96      ],\n",
       "       [37.80499999],\n",
       "       [15.00999999],\n",
       "       [40.99999999],\n",
       "       [21.56      ],\n",
       "       [19.03500001],\n",
       "       [16.24      ],\n",
       "       [26.09999999]])"
      ]
     },
     "execution_count": 34,
     "metadata": {},
     "output_type": "execute_result"
    }
   ],
   "source": [
    "y_pred4"
   ]
  },
  {
   "cell_type": "code",
   "execution_count": 35,
   "id": "85965130",
   "metadata": {
    "execution": {
     "iopub.execute_input": "2025-01-19T09:01:29.180711Z",
     "iopub.status.busy": "2025-01-19T09:01:29.180363Z",
     "iopub.status.idle": "2025-01-19T09:01:29.192002Z",
     "shell.execute_reply": "2025-01-19T09:01:29.190783Z"
    },
    "papermill": {
     "duration": 0.033087,
     "end_time": "2025-01-19T09:01:29.193972",
     "exception": false,
     "start_time": "2025-01-19T09:01:29.160885",
     "status": "completed"
    },
    "tags": []
   },
   "outputs": [
    {
     "data": {
      "text/html": [
       "<div>\n",
       "<style scoped>\n",
       "    .dataframe tbody tr th:only-of-type {\n",
       "        vertical-align: middle;\n",
       "    }\n",
       "\n",
       "    .dataframe tbody tr th {\n",
       "        vertical-align: top;\n",
       "    }\n",
       "\n",
       "    .dataframe thead th {\n",
       "        text-align: right;\n",
       "    }\n",
       "</style>\n",
       "<table border=\"1\" class=\"dataframe\">\n",
       "  <thead>\n",
       "    <tr style=\"text-align: right;\">\n",
       "      <th></th>\n",
       "      <th>Price_in_thousands</th>\n",
       "    </tr>\n",
       "  </thead>\n",
       "  <tbody>\n",
       "    <tr>\n",
       "      <th>83</th>\n",
       "      <td>25.450</td>\n",
       "    </tr>\n",
       "    <tr>\n",
       "      <th>144</th>\n",
       "      <td>51.728</td>\n",
       "    </tr>\n",
       "    <tr>\n",
       "      <th>32</th>\n",
       "      <td>28.340</td>\n",
       "    </tr>\n",
       "    <tr>\n",
       "      <th>30</th>\n",
       "      <td>22.245</td>\n",
       "    </tr>\n",
       "    <tr>\n",
       "      <th>120</th>\n",
       "      <td>25.310</td>\n",
       "    </tr>\n",
       "    <tr>\n",
       "      <th>62</th>\n",
       "      <td>9.699</td>\n",
       "    </tr>\n",
       "    <tr>\n",
       "      <th>95</th>\n",
       "      <td>82.600</td>\n",
       "    </tr>\n",
       "    <tr>\n",
       "      <th>149</th>\n",
       "      <td>17.500</td>\n",
       "    </tr>\n",
       "    <tr>\n",
       "      <th>155</th>\n",
       "      <td>45.500</td>\n",
       "    </tr>\n",
       "    <tr>\n",
       "      <th>70</th>\n",
       "      <td>31.505</td>\n",
       "    </tr>\n",
       "    <tr>\n",
       "      <th>44</th>\n",
       "      <td>26.310</td>\n",
       "    </tr>\n",
       "    <tr>\n",
       "      <th>140</th>\n",
       "      <td>11.528</td>\n",
       "    </tr>\n",
       "    <tr>\n",
       "      <th>80</th>\n",
       "      <td>19.047</td>\n",
       "    </tr>\n",
       "    <tr>\n",
       "      <th>77</th>\n",
       "      <td>43.330</td>\n",
       "    </tr>\n",
       "    <tr>\n",
       "      <th>16</th>\n",
       "      <td>39.665</td>\n",
       "    </tr>\n",
       "    <tr>\n",
       "      <th>20</th>\n",
       "      <td>16.535</td>\n",
       "    </tr>\n",
       "    <tr>\n",
       "      <th>31</th>\n",
       "      <td>16.480</td>\n",
       "    </tr>\n",
       "    <tr>\n",
       "      <th>92</th>\n",
       "      <td>31.750</td>\n",
       "    </tr>\n",
       "    <tr>\n",
       "      <th>119</th>\n",
       "      <td>19.720</td>\n",
       "    </tr>\n",
       "    <tr>\n",
       "      <th>139</th>\n",
       "      <td>16.875</td>\n",
       "    </tr>\n",
       "    <tr>\n",
       "      <th>19</th>\n",
       "      <td>13.260</td>\n",
       "    </tr>\n",
       "    <tr>\n",
       "      <th>13</th>\n",
       "      <td>27.885</td>\n",
       "    </tr>\n",
       "    <tr>\n",
       "      <th>10</th>\n",
       "      <td>21.975</td>\n",
       "    </tr>\n",
       "    <tr>\n",
       "      <th>25</th>\n",
       "      <td>13.960</td>\n",
       "    </tr>\n",
       "    <tr>\n",
       "      <th>71</th>\n",
       "      <td>37.805</td>\n",
       "    </tr>\n",
       "    <tr>\n",
       "      <th>133</th>\n",
       "      <td>15.010</td>\n",
       "    </tr>\n",
       "    <tr>\n",
       "      <th>97</th>\n",
       "      <td>41.000</td>\n",
       "    </tr>\n",
       "    <tr>\n",
       "      <th>47</th>\n",
       "      <td>21.560</td>\n",
       "    </tr>\n",
       "    <tr>\n",
       "      <th>88</th>\n",
       "      <td>19.035</td>\n",
       "    </tr>\n",
       "    <tr>\n",
       "      <th>86</th>\n",
       "      <td>16.240</td>\n",
       "    </tr>\n",
       "    <tr>\n",
       "      <th>128</th>\n",
       "      <td>26.100</td>\n",
       "    </tr>\n",
       "  </tbody>\n",
       "</table>\n",
       "</div>"
      ],
      "text/plain": [
       "     Price_in_thousands\n",
       "83               25.450\n",
       "144              51.728\n",
       "32               28.340\n",
       "30               22.245\n",
       "120              25.310\n",
       "62                9.699\n",
       "95               82.600\n",
       "149              17.500\n",
       "155              45.500\n",
       "70               31.505\n",
       "44               26.310\n",
       "140              11.528\n",
       "80               19.047\n",
       "77               43.330\n",
       "16               39.665\n",
       "20               16.535\n",
       "31               16.480\n",
       "92               31.750\n",
       "119              19.720\n",
       "139              16.875\n",
       "19               13.260\n",
       "13               27.885\n",
       "10               21.975\n",
       "25               13.960\n",
       "71               37.805\n",
       "133              15.010\n",
       "97               41.000\n",
       "47               21.560\n",
       "88               19.035\n",
       "86               16.240\n",
       "128              26.100"
      ]
     },
     "execution_count": 35,
     "metadata": {},
     "output_type": "execute_result"
    }
   ],
   "source": [
    "y_test"
   ]
  },
  {
   "cell_type": "code",
   "execution_count": 36,
   "id": "b0891e22",
   "metadata": {
    "execution": {
     "iopub.execute_input": "2025-01-19T09:01:29.229998Z",
     "iopub.status.busy": "2025-01-19T09:01:29.229626Z",
     "iopub.status.idle": "2025-01-19T09:01:29.237050Z",
     "shell.execute_reply": "2025-01-19T09:01:29.235757Z"
    },
    "papermill": {
     "duration": 0.028063,
     "end_time": "2025-01-19T09:01:29.239226",
     "exception": false,
     "start_time": "2025-01-19T09:01:29.211163",
     "status": "completed"
    },
    "tags": []
   },
   "outputs": [
    {
     "data": {
      "text/plain": [
       "array([1.36768676e-08])"
      ]
     },
     "execution_count": 36,
     "metadata": {},
     "output_type": "execute_result"
    }
   ],
   "source": [
    "linreg4.intercept_"
   ]
  },
  {
   "cell_type": "code",
   "execution_count": 37,
   "id": "24997732",
   "metadata": {
    "execution": {
     "iopub.execute_input": "2025-01-19T09:01:29.276069Z",
     "iopub.status.busy": "2025-01-19T09:01:29.275732Z",
     "iopub.status.idle": "2025-01-19T09:01:29.282547Z",
     "shell.execute_reply": "2025-01-19T09:01:29.281464Z"
    },
    "papermill": {
     "duration": 0.027392,
     "end_time": "2025-01-19T09:01:29.284636",
     "exception": false,
     "start_time": "2025-01-19T09:01:29.257244",
     "status": "completed"
    },
    "tags": []
   },
   "outputs": [
    {
     "data": {
      "text/plain": [
       "array([[-0.91689127, -0.67542433,  2.59231561]])"
      ]
     },
     "execution_count": 37,
     "metadata": {},
     "output_type": "execute_result"
    }
   ],
   "source": [
    "linreg4.coef_"
   ]
  },
  {
   "cell_type": "code",
   "execution_count": 38,
   "id": "aacdd0bc",
   "metadata": {
    "execution": {
     "iopub.execute_input": "2025-01-19T09:01:29.322163Z",
     "iopub.status.busy": "2025-01-19T09:01:29.321781Z",
     "iopub.status.idle": "2025-01-19T09:01:29.327788Z",
     "shell.execute_reply": "2025-01-19T09:01:29.326419Z"
    },
    "papermill": {
     "duration": 0.026985,
     "end_time": "2025-01-19T09:01:29.329817",
     "exception": false,
     "start_time": "2025-01-19T09:01:29.302832",
     "status": "completed"
    },
    "tags": []
   },
   "outputs": [],
   "source": [
    "linreg2_b0 = linreg4.intercept_[0]\n",
    "linreg2_b1 = linreg4.coef_[0][0]\n",
    "linreg2_b2 = linreg4.coef_[0][1]\n",
    "linreg2_b3 = linreg4.coef_[0][2]"
   ]
  },
  {
   "cell_type": "markdown",
   "id": "608e47f3",
   "metadata": {
    "papermill": {
     "duration": 0.017018,
     "end_time": "2025-01-19T09:01:29.365523",
     "exception": false,
     "start_time": "2025-01-19T09:01:29.348505",
     "status": "completed"
    },
    "tags": []
   },
   "source": [
    "# Didapat persamaan regresi berganda"
   ]
  },
  {
   "cell_type": "code",
   "execution_count": 39,
   "id": "aa759c40",
   "metadata": {
    "execution": {
     "iopub.execute_input": "2025-01-19T09:01:29.403313Z",
     "iopub.status.busy": "2025-01-19T09:01:29.402903Z",
     "iopub.status.idle": "2025-01-19T09:01:29.409871Z",
     "shell.execute_reply": "2025-01-19T09:01:29.408490Z"
    },
    "papermill": {
     "duration": 0.028346,
     "end_time": "2025-01-19T09:01:29.412407",
     "exception": false,
     "start_time": "2025-01-19T09:01:29.384061",
     "status": "completed"
    },
    "tags": []
   },
   "outputs": [
    {
     "name": "stdout",
     "output_type": "stream",
     "text": [
      "y = 1.3676867638423573e-08 + -0.9168912665235149 x1 + -0.675424332733761 x2 + 2.5923156053730865 x3\n"
     ]
    }
   ],
   "source": [
    "print(\"y =\", linreg2_b0, \"+\", linreg2_b1, \"x1\", \"+\", linreg2_b2, \"x2\", \"+\", linreg2_b3, \"x3\")"
   ]
  },
  {
   "cell_type": "markdown",
   "id": "3f64e2d3",
   "metadata": {
    "papermill": {
     "duration": 0.017349,
     "end_time": "2025-01-19T09:01:29.448233",
     "exception": false,
     "start_time": "2025-01-19T09:01:29.430884",
     "status": "completed"
    },
    "tags": []
   },
   "source": [
    "# Akurasi model"
   ]
  },
  {
   "cell_type": "code",
   "execution_count": 40,
   "id": "5004680f",
   "metadata": {
    "execution": {
     "iopub.execute_input": "2025-01-19T09:01:29.487593Z",
     "iopub.status.busy": "2025-01-19T09:01:29.487221Z",
     "iopub.status.idle": "2025-01-19T09:01:29.500611Z",
     "shell.execute_reply": "2025-01-19T09:01:29.498923Z"
    },
    "papermill": {
     "duration": 0.035959,
     "end_time": "2025-01-19T09:01:29.503328",
     "exception": false,
     "start_time": "2025-01-19T09:01:29.467369",
     "status": "completed"
    },
    "tags": []
   },
   "outputs": [
    {
     "name": "stdout",
     "output_type": "stream",
     "text": [
      "Hasil regresi linier berganda\n",
      "MAE: 1.7110680356462315e-08\n",
      "MSE 9.984985280613217e-16\n",
      "R^2: 1.0\n"
     ]
    }
   ],
   "source": [
    "print(\"Hasil regresi linier berganda\")\n",
    "print(\"MAE:\", mean_absolute_error(y_test, y_pred4))\n",
    "print(\"MSE\", mean_squared_error(y_test, y_pred4))\n",
    "print(\"R^2:\", r2_score(y_test, y_pred4))"
   ]
  },
  {
   "cell_type": "markdown",
   "id": "0e9d32f4",
   "metadata": {
    "papermill": {
     "duration": 0.017652,
     "end_time": "2025-01-19T09:01:29.538615",
     "exception": false,
     "start_time": "2025-01-19T09:01:29.520963",
     "status": "completed"
    },
    "tags": []
   },
   "source": [
    "# EDA untuk K-Means"
   ]
  },
  {
   "cell_type": "code",
   "execution_count": 41,
   "id": "129834c6",
   "metadata": {
    "execution": {
     "iopub.execute_input": "2025-01-19T09:01:29.577735Z",
     "iopub.status.busy": "2025-01-19T09:01:29.577314Z",
     "iopub.status.idle": "2025-01-19T09:01:29.583888Z",
     "shell.execute_reply": "2025-01-19T09:01:29.582571Z"
    },
    "papermill": {
     "duration": 0.030398,
     "end_time": "2025-01-19T09:01:29.586764",
     "exception": false,
     "start_time": "2025-01-19T09:01:29.556366",
     "status": "completed"
    },
    "tags": []
   },
   "outputs": [],
   "source": [
    "df_kmeans_fill_median = df.copy()"
   ]
  },
  {
   "cell_type": "code",
   "execution_count": 42,
   "id": "97ecc6d2",
   "metadata": {
    "execution": {
     "iopub.execute_input": "2025-01-19T09:01:29.625045Z",
     "iopub.status.busy": "2025-01-19T09:01:29.624635Z",
     "iopub.status.idle": "2025-01-19T09:01:29.633930Z",
     "shell.execute_reply": "2025-01-19T09:01:29.632763Z"
    },
    "papermill": {
     "duration": 0.031609,
     "end_time": "2025-01-19T09:01:29.636646",
     "exception": false,
     "start_time": "2025-01-19T09:01:29.605037",
     "status": "completed"
    },
    "tags": []
   },
   "outputs": [
    {
     "data": {
      "text/plain": [
       "Manufacturer            0\n",
       "Model                   0\n",
       "Sales_in_thousands      0\n",
       "__year_resale_value    36\n",
       "Vehicle_type            0\n",
       "Price_in_thousands      2\n",
       "Engine_size             1\n",
       "Horsepower              1\n",
       "Wheelbase               1\n",
       "Width                   1\n",
       "Length                  1\n",
       "Curb_weight             2\n",
       "Fuel_capacity           1\n",
       "Fuel_efficiency         3\n",
       "Latest_Launch           0\n",
       "Power_perf_factor       2\n",
       "dtype: int64"
      ]
     },
     "execution_count": 42,
     "metadata": {},
     "output_type": "execute_result"
    }
   ],
   "source": [
    "df_kmeans_fill_median.isna().sum()"
   ]
  },
  {
   "cell_type": "code",
   "execution_count": 43,
   "id": "6f407908",
   "metadata": {
    "execution": {
     "iopub.execute_input": "2025-01-19T09:01:29.675040Z",
     "iopub.status.busy": "2025-01-19T09:01:29.674034Z",
     "iopub.status.idle": "2025-01-19T09:01:29.682613Z",
     "shell.execute_reply": "2025-01-19T09:01:29.681344Z"
    },
    "papermill": {
     "duration": 0.030426,
     "end_time": "2025-01-19T09:01:29.684900",
     "exception": false,
     "start_time": "2025-01-19T09:01:29.654474",
     "status": "completed"
    },
    "tags": []
   },
   "outputs": [],
   "source": [
    "year_resale_median = df['__year_resale_value'].median()\n",
    "df_kmeans_fill_median[\"__year_resale_value\"] = df_kmeans_fill_median[\"__year_resale_value\"].fillna(year_resale_median)\n"
   ]
  },
  {
   "cell_type": "code",
   "execution_count": 44,
   "id": "14108e62",
   "metadata": {
    "execution": {
     "iopub.execute_input": "2025-01-19T09:01:29.722665Z",
     "iopub.status.busy": "2025-01-19T09:01:29.722291Z",
     "iopub.status.idle": "2025-01-19T09:01:29.730817Z",
     "shell.execute_reply": "2025-01-19T09:01:29.729749Z"
    },
    "papermill": {
     "duration": 0.030118,
     "end_time": "2025-01-19T09:01:29.732849",
     "exception": false,
     "start_time": "2025-01-19T09:01:29.702731",
     "status": "completed"
    },
    "tags": []
   },
   "outputs": [
    {
     "data": {
      "text/plain": [
       "Manufacturer           0\n",
       "Model                  0\n",
       "Sales_in_thousands     0\n",
       "__year_resale_value    0\n",
       "Vehicle_type           0\n",
       "Price_in_thousands     2\n",
       "Engine_size            1\n",
       "Horsepower             1\n",
       "Wheelbase              1\n",
       "Width                  1\n",
       "Length                 1\n",
       "Curb_weight            2\n",
       "Fuel_capacity          1\n",
       "Fuel_efficiency        3\n",
       "Latest_Launch          0\n",
       "Power_perf_factor      2\n",
       "dtype: int64"
      ]
     },
     "execution_count": 44,
     "metadata": {},
     "output_type": "execute_result"
    }
   ],
   "source": [
    "df_kmeans_fill_median.isna().sum()"
   ]
  },
  {
   "cell_type": "markdown",
   "id": "a8d3ece1",
   "metadata": {
    "papermill": {
     "duration": 0.017689,
     "end_time": "2025-01-19T09:01:29.769426",
     "exception": false,
     "start_time": "2025-01-19T09:01:29.751737",
     "status": "completed"
    },
    "tags": []
   },
   "source": [
    "karena baris yang nan tinggal sedikit, maka saya memilih untuk menghapus saja"
   ]
  },
  {
   "cell_type": "code",
   "execution_count": 45,
   "id": "74e302a0",
   "metadata": {
    "execution": {
     "iopub.execute_input": "2025-01-19T09:01:29.807654Z",
     "iopub.status.busy": "2025-01-19T09:01:29.807175Z",
     "iopub.status.idle": "2025-01-19T09:01:29.813852Z",
     "shell.execute_reply": "2025-01-19T09:01:29.812432Z"
    },
    "papermill": {
     "duration": 0.02824,
     "end_time": "2025-01-19T09:01:29.815985",
     "exception": false,
     "start_time": "2025-01-19T09:01:29.787745",
     "status": "completed"
    },
    "tags": []
   },
   "outputs": [],
   "source": [
    "df_kmeans_cleaned = df_kmeans_fill_median.dropna()"
   ]
  },
  {
   "cell_type": "code",
   "execution_count": 46,
   "id": "e27a8b12",
   "metadata": {
    "execution": {
     "iopub.execute_input": "2025-01-19T09:01:29.853589Z",
     "iopub.status.busy": "2025-01-19T09:01:29.853138Z",
     "iopub.status.idle": "2025-01-19T09:01:29.862524Z",
     "shell.execute_reply": "2025-01-19T09:01:29.860824Z"
    },
    "papermill": {
     "duration": 0.031044,
     "end_time": "2025-01-19T09:01:29.864992",
     "exception": false,
     "start_time": "2025-01-19T09:01:29.833948",
     "status": "completed"
    },
    "tags": []
   },
   "outputs": [
    {
     "data": {
      "text/plain": [
       "Manufacturer           0\n",
       "Model                  0\n",
       "Sales_in_thousands     0\n",
       "__year_resale_value    0\n",
       "Vehicle_type           0\n",
       "Price_in_thousands     0\n",
       "Engine_size            0\n",
       "Horsepower             0\n",
       "Wheelbase              0\n",
       "Width                  0\n",
       "Length                 0\n",
       "Curb_weight            0\n",
       "Fuel_capacity          0\n",
       "Fuel_efficiency        0\n",
       "Latest_Launch          0\n",
       "Power_perf_factor      0\n",
       "dtype: int64"
      ]
     },
     "execution_count": 46,
     "metadata": {},
     "output_type": "execute_result"
    }
   ],
   "source": [
    "df_kmeans_cleaned.isna().sum()"
   ]
  },
  {
   "cell_type": "code",
   "execution_count": 47,
   "id": "77f0cccf",
   "metadata": {
    "execution": {
     "iopub.execute_input": "2025-01-19T09:01:29.902278Z",
     "iopub.status.busy": "2025-01-19T09:01:29.901886Z",
     "iopub.status.idle": "2025-01-19T09:01:29.923028Z",
     "shell.execute_reply": "2025-01-19T09:01:29.921814Z"
    },
    "papermill": {
     "duration": 0.043667,
     "end_time": "2025-01-19T09:01:29.926412",
     "exception": false,
     "start_time": "2025-01-19T09:01:29.882745",
     "status": "completed"
    },
    "tags": []
   },
   "outputs": [
    {
     "name": "stdout",
     "output_type": "stream",
     "text": [
      "<class 'pandas.core.frame.DataFrame'>\n",
      "Index: 152 entries, 0 to 156\n",
      "Data columns (total 16 columns):\n",
      " #   Column               Non-Null Count  Dtype  \n",
      "---  ------               --------------  -----  \n",
      " 0   Manufacturer         152 non-null    object \n",
      " 1   Model                152 non-null    object \n",
      " 2   Sales_in_thousands   152 non-null    float64\n",
      " 3   __year_resale_value  152 non-null    float64\n",
      " 4   Vehicle_type         152 non-null    object \n",
      " 5   Price_in_thousands   152 non-null    float64\n",
      " 6   Engine_size          152 non-null    float64\n",
      " 7   Horsepower           152 non-null    float64\n",
      " 8   Wheelbase            152 non-null    float64\n",
      " 9   Width                152 non-null    float64\n",
      " 10  Length               152 non-null    float64\n",
      " 11  Curb_weight          152 non-null    float64\n",
      " 12  Fuel_capacity        152 non-null    float64\n",
      " 13  Fuel_efficiency      152 non-null    float64\n",
      " 14  Latest_Launch        152 non-null    object \n",
      " 15  Power_perf_factor    152 non-null    float64\n",
      "dtypes: float64(12), object(4)\n",
      "memory usage: 20.2+ KB\n"
     ]
    }
   ],
   "source": [
    "df_kmeans_cleaned.info()"
   ]
  },
  {
   "cell_type": "code",
   "execution_count": 48,
   "id": "7a39c2f7",
   "metadata": {
    "execution": {
     "iopub.execute_input": "2025-01-19T09:01:29.964826Z",
     "iopub.status.busy": "2025-01-19T09:01:29.964193Z",
     "iopub.status.idle": "2025-01-19T09:01:29.983832Z",
     "shell.execute_reply": "2025-01-19T09:01:29.982678Z"
    },
    "papermill": {
     "duration": 0.041118,
     "end_time": "2025-01-19T09:01:29.986249",
     "exception": false,
     "start_time": "2025-01-19T09:01:29.945131",
     "status": "completed"
    },
    "tags": []
   },
   "outputs": [
    {
     "data": {
      "text/html": [
       "<div>\n",
       "<style scoped>\n",
       "    .dataframe tbody tr th:only-of-type {\n",
       "        vertical-align: middle;\n",
       "    }\n",
       "\n",
       "    .dataframe tbody tr th {\n",
       "        vertical-align: top;\n",
       "    }\n",
       "\n",
       "    .dataframe thead th {\n",
       "        text-align: right;\n",
       "    }\n",
       "</style>\n",
       "<table border=\"1\" class=\"dataframe\">\n",
       "  <thead>\n",
       "    <tr style=\"text-align: right;\">\n",
       "      <th></th>\n",
       "      <th>Sales_in_thousands</th>\n",
       "      <th>__year_resale_value</th>\n",
       "      <th>Price_in_thousands</th>\n",
       "      <th>Engine_size</th>\n",
       "      <th>Horsepower</th>\n",
       "      <th>Wheelbase</th>\n",
       "      <th>Width</th>\n",
       "      <th>Length</th>\n",
       "      <th>Curb_weight</th>\n",
       "      <th>Fuel_capacity</th>\n",
       "      <th>Fuel_efficiency</th>\n",
       "      <th>Power_perf_factor</th>\n",
       "    </tr>\n",
       "  </thead>\n",
       "  <tbody>\n",
       "    <tr>\n",
       "      <th>0</th>\n",
       "      <td>16.919</td>\n",
       "      <td>16.360</td>\n",
       "      <td>21.50</td>\n",
       "      <td>1.8</td>\n",
       "      <td>140.0</td>\n",
       "      <td>101.2</td>\n",
       "      <td>67.3</td>\n",
       "      <td>172.4</td>\n",
       "      <td>2.639</td>\n",
       "      <td>13.2</td>\n",
       "      <td>28.0</td>\n",
       "      <td>58.280150</td>\n",
       "    </tr>\n",
       "    <tr>\n",
       "      <th>1</th>\n",
       "      <td>39.384</td>\n",
       "      <td>19.875</td>\n",
       "      <td>28.40</td>\n",
       "      <td>3.2</td>\n",
       "      <td>225.0</td>\n",
       "      <td>108.1</td>\n",
       "      <td>70.3</td>\n",
       "      <td>192.9</td>\n",
       "      <td>3.517</td>\n",
       "      <td>17.2</td>\n",
       "      <td>25.0</td>\n",
       "      <td>91.370778</td>\n",
       "    </tr>\n",
       "    <tr>\n",
       "      <th>3</th>\n",
       "      <td>8.588</td>\n",
       "      <td>29.725</td>\n",
       "      <td>42.00</td>\n",
       "      <td>3.5</td>\n",
       "      <td>210.0</td>\n",
       "      <td>114.6</td>\n",
       "      <td>71.4</td>\n",
       "      <td>196.6</td>\n",
       "      <td>3.850</td>\n",
       "      <td>18.0</td>\n",
       "      <td>22.0</td>\n",
       "      <td>91.389779</td>\n",
       "    </tr>\n",
       "    <tr>\n",
       "      <th>4</th>\n",
       "      <td>20.397</td>\n",
       "      <td>22.255</td>\n",
       "      <td>23.99</td>\n",
       "      <td>1.8</td>\n",
       "      <td>150.0</td>\n",
       "      <td>102.6</td>\n",
       "      <td>68.2</td>\n",
       "      <td>178.0</td>\n",
       "      <td>2.998</td>\n",
       "      <td>16.4</td>\n",
       "      <td>27.0</td>\n",
       "      <td>62.777639</td>\n",
       "    </tr>\n",
       "    <tr>\n",
       "      <th>5</th>\n",
       "      <td>18.780</td>\n",
       "      <td>23.555</td>\n",
       "      <td>33.95</td>\n",
       "      <td>2.8</td>\n",
       "      <td>200.0</td>\n",
       "      <td>108.7</td>\n",
       "      <td>76.1</td>\n",
       "      <td>192.0</td>\n",
       "      <td>3.561</td>\n",
       "      <td>18.5</td>\n",
       "      <td>22.0</td>\n",
       "      <td>84.565105</td>\n",
       "    </tr>\n",
       "  </tbody>\n",
       "</table>\n",
       "</div>"
      ],
      "text/plain": [
       "   Sales_in_thousands  __year_resale_value  Price_in_thousands  Engine_size  \\\n",
       "0              16.919               16.360               21.50          1.8   \n",
       "1              39.384               19.875               28.40          3.2   \n",
       "3               8.588               29.725               42.00          3.5   \n",
       "4              20.397               22.255               23.99          1.8   \n",
       "5              18.780               23.555               33.95          2.8   \n",
       "\n",
       "   Horsepower  Wheelbase  Width  Length  Curb_weight  Fuel_capacity  \\\n",
       "0       140.0      101.2   67.3   172.4        2.639           13.2   \n",
       "1       225.0      108.1   70.3   192.9        3.517           17.2   \n",
       "3       210.0      114.6   71.4   196.6        3.850           18.0   \n",
       "4       150.0      102.6   68.2   178.0        2.998           16.4   \n",
       "5       200.0      108.7   76.1   192.0        3.561           18.5   \n",
       "\n",
       "   Fuel_efficiency  Power_perf_factor  \n",
       "0             28.0          58.280150  \n",
       "1             25.0          91.370778  \n",
       "3             22.0          91.389779  \n",
       "4             27.0          62.777639  \n",
       "5             22.0          84.565105  "
      ]
     },
     "execution_count": 48,
     "metadata": {},
     "output_type": "execute_result"
    }
   ],
   "source": [
    "#buat semua data menjadi numerik\n",
    "df_fin = df_kmeans_cleaned.drop(['Manufacturer', 'Model', 'Vehicle_type', 'Latest_Launch'], axis = 1)\n",
    "df_fin.head()"
   ]
  },
  {
   "cell_type": "code",
   "execution_count": 49,
   "id": "861bcc58",
   "metadata": {
    "execution": {
     "iopub.execute_input": "2025-01-19T09:01:30.025960Z",
     "iopub.status.busy": "2025-01-19T09:01:30.025294Z",
     "iopub.status.idle": "2025-01-19T09:01:30.038882Z",
     "shell.execute_reply": "2025-01-19T09:01:30.037538Z"
    },
    "papermill": {
     "duration": 0.036543,
     "end_time": "2025-01-19T09:01:30.041453",
     "exception": false,
     "start_time": "2025-01-19T09:01:30.004910",
     "status": "completed"
    },
    "tags": []
   },
   "outputs": [
    {
     "name": "stdout",
     "output_type": "stream",
     "text": [
      "<class 'pandas.core.frame.DataFrame'>\n",
      "Index: 152 entries, 0 to 156\n",
      "Data columns (total 12 columns):\n",
      " #   Column               Non-Null Count  Dtype  \n",
      "---  ------               --------------  -----  \n",
      " 0   Sales_in_thousands   152 non-null    float64\n",
      " 1   __year_resale_value  152 non-null    float64\n",
      " 2   Price_in_thousands   152 non-null    float64\n",
      " 3   Engine_size          152 non-null    float64\n",
      " 4   Horsepower           152 non-null    float64\n",
      " 5   Wheelbase            152 non-null    float64\n",
      " 6   Width                152 non-null    float64\n",
      " 7   Length               152 non-null    float64\n",
      " 8   Curb_weight          152 non-null    float64\n",
      " 9   Fuel_capacity        152 non-null    float64\n",
      " 10  Fuel_efficiency      152 non-null    float64\n",
      " 11  Power_perf_factor    152 non-null    float64\n",
      "dtypes: float64(12)\n",
      "memory usage: 15.4 KB\n"
     ]
    }
   ],
   "source": [
    "df_fin.info()"
   ]
  },
  {
   "cell_type": "code",
   "execution_count": 50,
   "id": "23e13374",
   "metadata": {
    "execution": {
     "iopub.execute_input": "2025-01-19T09:01:30.085493Z",
     "iopub.status.busy": "2025-01-19T09:01:30.085150Z",
     "iopub.status.idle": "2025-01-19T09:01:30.090151Z",
     "shell.execute_reply": "2025-01-19T09:01:30.088763Z"
    },
    "papermill": {
     "duration": 0.029097,
     "end_time": "2025-01-19T09:01:30.092770",
     "exception": false,
     "start_time": "2025-01-19T09:01:30.063673",
     "status": "completed"
    },
    "tags": []
   },
   "outputs": [],
   "source": [
    "from sklearn.preprocessing import StandardScaler"
   ]
  },
  {
   "cell_type": "code",
   "execution_count": 51,
   "id": "7c1c52d5",
   "metadata": {
    "execution": {
     "iopub.execute_input": "2025-01-19T09:01:30.135219Z",
     "iopub.status.busy": "2025-01-19T09:01:30.133921Z",
     "iopub.status.idle": "2025-01-19T09:01:30.143783Z",
     "shell.execute_reply": "2025-01-19T09:01:30.142707Z"
    },
    "papermill": {
     "duration": 0.033642,
     "end_time": "2025-01-19T09:01:30.146161",
     "exception": false,
     "start_time": "2025-01-19T09:01:30.112519",
     "status": "completed"
    },
    "tags": []
   },
   "outputs": [
    {
     "data": {
      "text/plain": [
       "array([[-0.07642353, -0.40580037, -1.19398947, ..., -1.21265887,\n",
       "         0.96906987, -0.73408212],\n",
       "       [ 0.26592209,  0.07432786,  0.14398293, ..., -0.19344876,\n",
       "         0.26986756,  0.5843739 ],\n",
       "       [ 1.22526898,  1.02066756,  0.43069131, ...,  0.01039326,\n",
       "        -0.42933475,  0.585131  ],\n",
       "       ...,\n",
       "       [-0.28874599,  0.10216138, -0.62057273, ..., -0.01508699,\n",
       "         0.26986756, -0.22106034],\n",
       "       [-0.28874599,  1.26421087, -0.71614219, ...,  0.13779452,\n",
       "        -0.19626732,  0.99287552],\n",
       "       [-0.28874599,  0.60316475, -0.14272544, ...,  0.8002811 ,\n",
       "         0.03680012,  0.35984924]])"
      ]
     },
     "execution_count": 51,
     "metadata": {},
     "output_type": "execute_result"
    }
   ],
   "source": [
    "Xk = df_fin.values[:,1:]\n",
    "Xk = np.nan_to_num(Xk)\n",
    "Clus_dataSet= StandardScaler().fit_transform(Xk)\n",
    "Clus_dataSet"
   ]
  },
  {
   "cell_type": "markdown",
   "id": "af9fa8c4",
   "metadata": {
    "papermill": {
     "duration": 0.019192,
     "end_time": "2025-01-19T09:01:30.183921",
     "exception": false,
     "start_time": "2025-01-19T09:01:30.164729",
     "status": "completed"
    },
    "tags": []
   },
   "source": [
    "# Akan dilakukan metode k-means"
   ]
  },
  {
   "cell_type": "code",
   "execution_count": 52,
   "id": "42c46710",
   "metadata": {
    "execution": {
     "iopub.execute_input": "2025-01-19T09:01:30.224292Z",
     "iopub.status.busy": "2025-01-19T09:01:30.223844Z",
     "iopub.status.idle": "2025-01-19T09:01:30.287633Z",
     "shell.execute_reply": "2025-01-19T09:01:30.286168Z"
    },
    "papermill": {
     "duration": 0.088503,
     "end_time": "2025-01-19T09:01:30.291277",
     "exception": false,
     "start_time": "2025-01-19T09:01:30.202774",
     "status": "completed"
    },
    "tags": []
   },
   "outputs": [
    {
     "name": "stdout",
     "output_type": "stream",
     "text": [
      "[1 2 2 1 2 0 2 2 2 2 2 2 2 0 0 2 0 1 2 2 2 2 0 1 1 2 1 2 2 1 0 0 1 1 2 0 2\n",
      " 2 2 1 2 1 1 2 2 1 1 2 2 1 2 1 2 1 1 1 2 2 1 1 1 2 2 1 2 2 2 2 0 0 2 2 0 2\n",
      " 0 1 1 1 2 1 2 2 1 1 1 2 2 2 2 2 0 0 2 2 2 0 2 1 1 2 2 2 2 2 1 1 0 2 2 1 1\n",
      " 1 0 1 2 2 2 2 2 2 0 0 2 2 1 1 1 1 1 1 1 1 1 2 1 1 2 1 1 2 1 1 1 1 1 1 1 1\n",
      " 2 2 2 2]\n"
     ]
    }
   ],
   "source": [
    "#modelling\n",
    "clusterNum = 3\n",
    "k_means_car = KMeans(init = 'k-means++', n_clusters= clusterNum, n_init = \"auto\") \n",
    "#3 cluster, dengan running algoritma sebanyak 12 kali\n",
    "\n",
    "k_means_car.fit(Xk)\n",
    "\n",
    "#hasil clustering\n",
    "labels_cust = k_means_car.labels_\n",
    "print(labels_cust)"
   ]
  },
  {
   "cell_type": "code",
   "execution_count": 53,
   "id": "b6a4fa79",
   "metadata": {
    "execution": {
     "iopub.execute_input": "2025-01-19T09:01:30.335018Z",
     "iopub.status.busy": "2025-01-19T09:01:30.334639Z",
     "iopub.status.idle": "2025-01-19T09:01:30.340718Z",
     "shell.execute_reply": "2025-01-19T09:01:30.339401Z"
    },
    "papermill": {
     "duration": 0.028386,
     "end_time": "2025-01-19T09:01:30.342997",
     "exception": false,
     "start_time": "2025-01-19T09:01:30.314611",
     "status": "completed"
    },
    "tags": []
   },
   "outputs": [
    {
     "name": "stdout",
     "output_type": "stream",
     "text": [
      "174648.58384468232\n"
     ]
    }
   ],
   "source": [
    "print(k_means_car.inertia_)"
   ]
  },
  {
   "cell_type": "code",
   "execution_count": 54,
   "id": "3a27680c",
   "metadata": {
    "execution": {
     "iopub.execute_input": "2025-01-19T09:01:30.382577Z",
     "iopub.status.busy": "2025-01-19T09:01:30.382197Z",
     "iopub.status.idle": "2025-01-19T09:01:30.403924Z",
     "shell.execute_reply": "2025-01-19T09:01:30.402642Z"
    },
    "papermill": {
     "duration": 0.045165,
     "end_time": "2025-01-19T09:01:30.406891",
     "exception": false,
     "start_time": "2025-01-19T09:01:30.361726",
     "status": "completed"
    },
    "tags": []
   },
   "outputs": [
    {
     "data": {
      "text/html": [
       "<div>\n",
       "<style scoped>\n",
       "    .dataframe tbody tr th:only-of-type {\n",
       "        vertical-align: middle;\n",
       "    }\n",
       "\n",
       "    .dataframe tbody tr th {\n",
       "        vertical-align: top;\n",
       "    }\n",
       "\n",
       "    .dataframe thead th {\n",
       "        text-align: right;\n",
       "    }\n",
       "</style>\n",
       "<table border=\"1\" class=\"dataframe\">\n",
       "  <thead>\n",
       "    <tr style=\"text-align: right;\">\n",
       "      <th></th>\n",
       "      <th>Sales_in_thousands</th>\n",
       "      <th>__year_resale_value</th>\n",
       "      <th>Price_in_thousands</th>\n",
       "      <th>Engine_size</th>\n",
       "      <th>Horsepower</th>\n",
       "      <th>Wheelbase</th>\n",
       "      <th>Width</th>\n",
       "      <th>Length</th>\n",
       "      <th>Curb_weight</th>\n",
       "      <th>Fuel_capacity</th>\n",
       "      <th>Fuel_efficiency</th>\n",
       "      <th>Power_perf_factor</th>\n",
       "      <th>Clus_km</th>\n",
       "    </tr>\n",
       "  </thead>\n",
       "  <tbody>\n",
       "    <tr>\n",
       "      <th>0</th>\n",
       "      <td>16.919</td>\n",
       "      <td>16.360</td>\n",
       "      <td>21.50</td>\n",
       "      <td>1.8</td>\n",
       "      <td>140.0</td>\n",
       "      <td>101.2</td>\n",
       "      <td>67.3</td>\n",
       "      <td>172.4</td>\n",
       "      <td>2.639</td>\n",
       "      <td>13.2</td>\n",
       "      <td>28.0</td>\n",
       "      <td>58.280150</td>\n",
       "      <td>1</td>\n",
       "    </tr>\n",
       "    <tr>\n",
       "      <th>1</th>\n",
       "      <td>39.384</td>\n",
       "      <td>19.875</td>\n",
       "      <td>28.40</td>\n",
       "      <td>3.2</td>\n",
       "      <td>225.0</td>\n",
       "      <td>108.1</td>\n",
       "      <td>70.3</td>\n",
       "      <td>192.9</td>\n",
       "      <td>3.517</td>\n",
       "      <td>17.2</td>\n",
       "      <td>25.0</td>\n",
       "      <td>91.370778</td>\n",
       "      <td>2</td>\n",
       "    </tr>\n",
       "    <tr>\n",
       "      <th>3</th>\n",
       "      <td>8.588</td>\n",
       "      <td>29.725</td>\n",
       "      <td>42.00</td>\n",
       "      <td>3.5</td>\n",
       "      <td>210.0</td>\n",
       "      <td>114.6</td>\n",
       "      <td>71.4</td>\n",
       "      <td>196.6</td>\n",
       "      <td>3.850</td>\n",
       "      <td>18.0</td>\n",
       "      <td>22.0</td>\n",
       "      <td>91.389779</td>\n",
       "      <td>2</td>\n",
       "    </tr>\n",
       "    <tr>\n",
       "      <th>4</th>\n",
       "      <td>20.397</td>\n",
       "      <td>22.255</td>\n",
       "      <td>23.99</td>\n",
       "      <td>1.8</td>\n",
       "      <td>150.0</td>\n",
       "      <td>102.6</td>\n",
       "      <td>68.2</td>\n",
       "      <td>178.0</td>\n",
       "      <td>2.998</td>\n",
       "      <td>16.4</td>\n",
       "      <td>27.0</td>\n",
       "      <td>62.777639</td>\n",
       "      <td>1</td>\n",
       "    </tr>\n",
       "    <tr>\n",
       "      <th>5</th>\n",
       "      <td>18.780</td>\n",
       "      <td>23.555</td>\n",
       "      <td>33.95</td>\n",
       "      <td>2.8</td>\n",
       "      <td>200.0</td>\n",
       "      <td>108.7</td>\n",
       "      <td>76.1</td>\n",
       "      <td>192.0</td>\n",
       "      <td>3.561</td>\n",
       "      <td>18.5</td>\n",
       "      <td>22.0</td>\n",
       "      <td>84.565105</td>\n",
       "      <td>2</td>\n",
       "    </tr>\n",
       "  </tbody>\n",
       "</table>\n",
       "</div>"
      ],
      "text/plain": [
       "   Sales_in_thousands  __year_resale_value  Price_in_thousands  Engine_size  \\\n",
       "0              16.919               16.360               21.50          1.8   \n",
       "1              39.384               19.875               28.40          3.2   \n",
       "3               8.588               29.725               42.00          3.5   \n",
       "4              20.397               22.255               23.99          1.8   \n",
       "5              18.780               23.555               33.95          2.8   \n",
       "\n",
       "   Horsepower  Wheelbase  Width  Length  Curb_weight  Fuel_capacity  \\\n",
       "0       140.0      101.2   67.3   172.4        2.639           13.2   \n",
       "1       225.0      108.1   70.3   192.9        3.517           17.2   \n",
       "3       210.0      114.6   71.4   196.6        3.850           18.0   \n",
       "4       150.0      102.6   68.2   178.0        2.998           16.4   \n",
       "5       200.0      108.7   76.1   192.0        3.561           18.5   \n",
       "\n",
       "   Fuel_efficiency  Power_perf_factor  Clus_km  \n",
       "0             28.0          58.280150        1  \n",
       "1             25.0          91.370778        2  \n",
       "3             22.0          91.389779        2  \n",
       "4             27.0          62.777639        1  \n",
       "5             22.0          84.565105        2  "
      ]
     },
     "execution_count": 54,
     "metadata": {},
     "output_type": "execute_result"
    }
   ],
   "source": [
    "#menambahkan kolom hasil clustering pada dataset\n",
    "df_fin['Clus_km'] = labels_cust\n",
    "df_fin.head(5)"
   ]
  },
  {
   "cell_type": "markdown",
   "id": "e1d7d6ed",
   "metadata": {
    "papermill": {
     "duration": 0.019181,
     "end_time": "2025-01-19T09:01:30.447589",
     "exception": false,
     "start_time": "2025-01-19T09:01:30.428408",
     "status": "completed"
    },
    "tags": []
   },
   "source": [
    "# Evaluasi Model"
   ]
  },
  {
   "cell_type": "code",
   "execution_count": 55,
   "id": "cf2d189a",
   "metadata": {
    "execution": {
     "iopub.execute_input": "2025-01-19T09:01:30.488648Z",
     "iopub.status.busy": "2025-01-19T09:01:30.488287Z",
     "iopub.status.idle": "2025-01-19T09:01:30.493852Z",
     "shell.execute_reply": "2025-01-19T09:01:30.492562Z"
    },
    "papermill": {
     "duration": 0.029636,
     "end_time": "2025-01-19T09:01:30.496187",
     "exception": false,
     "start_time": "2025-01-19T09:01:30.466551",
     "status": "completed"
    },
    "tags": []
   },
   "outputs": [],
   "source": [
    "from sklearn.cluster import KMeans\n",
    "from sklearn import metrics\n",
    "from scipy.spatial.distance import cdist\n",
    "import numpy as np\n",
    "import matplotlib.pyplot as plt"
   ]
  },
  {
   "cell_type": "markdown",
   "id": "90a02ef5",
   "metadata": {
    "papermill": {
     "duration": 0.018897,
     "end_time": "2025-01-19T09:01:30.533823",
     "exception": false,
     "start_time": "2025-01-19T09:01:30.514926",
     "status": "completed"
    },
    "tags": []
   },
   "source": [
    "mencari nilai k terbaik"
   ]
  },
  {
   "cell_type": "code",
   "execution_count": 56,
   "id": "a20de907",
   "metadata": {
    "execution": {
     "iopub.execute_input": "2025-01-19T09:01:30.573041Z",
     "iopub.status.busy": "2025-01-19T09:01:30.572650Z",
     "iopub.status.idle": "2025-01-19T09:01:30.999317Z",
     "shell.execute_reply": "2025-01-19T09:01:30.998205Z"
    },
    "papermill": {
     "duration": 0.449744,
     "end_time": "2025-01-19T09:01:31.002514",
     "exception": false,
     "start_time": "2025-01-19T09:01:30.552770",
     "status": "completed"
    },
    "tags": []
   },
   "outputs": [
    {
     "data": {
      "image/png": "[encoded data removed]",
      "text/plain": [
       "<Figure size 1200x600 with 2 Axes>"
      ]
     },
     "metadata": {},
     "output_type": "display_data"
    }
   ],
   "source": [
    "distortions = []\n",
    "inertias = []\n",
    "mapping1 = {}\n",
    "mapping2 = {}\n",
    "K = range(1, 14)\n",
    "\n",
    "# Looping untuk setiap jumlah kluster\n",
    "for k in K:\n",
    "    # Inisialisasi dan fit model\n",
    "    kmeanModel = KMeans(init='k-means++', n_clusters=k, n_init='auto')\n",
    "    kmeanModel.fit(Xk)\n",
    "    \n",
    "    # Hitung distorsi\n",
    "    distortion = sum(np.min(cdist(Xk, kmeanModel.cluster_centers_, 'euclidean'), axis=1)) / Xk.shape[0]\n",
    "    distortions.append(distortion)\n",
    "    mapping1[k] = distortion\n",
    "    \n",
    "    # Hitung inersia\n",
    "    inertia = kmeanModel.inertia_\n",
    "    inertias.append(inertia)\n",
    "    mapping2[k] = inertia\n",
    "\n",
    "# Plotting hasil\n",
    "plt.figure(figsize=(12, 6))\n",
    "\n",
    "plt.subplot(1, 2, 1)\n",
    "plt.plot(K, distortions, 'bx-')\n",
    "plt.xlabel('Jumlah Kluster')\n",
    "plt.ylabel('Distorsi')\n",
    "plt.title('Metode Elbow menggunakan Distorsi')\n",
    "\n",
    "plt.subplot(1, 2, 2)\n",
    "plt.plot(K, inertias, 'bx-')\n",
    "plt.xlabel('Jumlah Kluster')\n",
    "plt.ylabel('Inersia')\n",
    "plt.title('Metode Elbow menggunakan Inersia')\n",
    "\n",
    "plt.show()\n"
   ]
  },
  {
   "cell_type": "markdown",
   "id": "5861e322",
   "metadata": {
    "papermill": {
     "duration": 0.019692,
     "end_time": "2025-01-19T09:01:31.042312",
     "exception": false,
     "start_time": "2025-01-19T09:01:31.022620",
     "status": "completed"
    },
    "tags": []
   },
   "source": [
    " # Dengan melihat plot menggunakan metode elbow metode inersia, akan dipilih 8 sebagai nilai K"
   ]
  },
  {
   "cell_type": "code",
   "execution_count": 57,
   "id": "7ed149c6",
   "metadata": {
    "execution": {
     "iopub.execute_input": "2025-01-19T09:01:31.086129Z",
     "iopub.status.busy": "2025-01-19T09:01:31.085756Z",
     "iopub.status.idle": "2025-01-19T09:01:31.124256Z",
     "shell.execute_reply": "2025-01-19T09:01:31.121788Z"
    },
    "papermill": {
     "duration": 0.062041,
     "end_time": "2025-01-19T09:01:31.126851",
     "exception": false,
     "start_time": "2025-01-19T09:01:31.064810",
     "status": "completed"
    },
    "tags": []
   },
   "outputs": [
    {
     "name": "stdout",
     "output_type": "stream",
     "text": [
      "[5 6 4 5 4 3 0 4 4 0 6 4 4 3 3 4 6 2 0 0 0 4 7 2 2 0 0 0 4 5 6 6 5 0 0 1 6\n",
      " 0 0 5 6 5 2 0 0 5 2 4 4 5 6 5 4 2 5 5 4 4 2 5 5 6 6 2 0 4 4 6 3 3 6 6 3 4\n",
      " 3 2 5 5 4 0 4 0 5 5 5 4 4 0 0 6 3 7 0 0 4 3 4 2 5 4 0 0 0 0 5 5 6 0 0 5 5\n",
      " 5 6 5 0 4 4 4 0 6 7 7 0 0 2 2 2 5 5 0 0 2 5 4 5 5 4 2 5 6 2 2 5 2 2 2 0 0\n",
      " 0 0 6 4]\n"
     ]
    }
   ],
   "source": [
    "#modelling\n",
    "clusterNum = 8\n",
    "k8_means_car = KMeans(init = 'k-means++', n_clusters= clusterNum, n_init = 12) \n",
    "#3 cluster, dengan running algoritma sebanyak 12 kali\n",
    "\n",
    "k8_means_car.fit(Xk)\n",
    "\n",
    "#hasil clustering\n",
    "labels_cust8 = k8_means_car.labels_\n",
    "print(labels_cust8)"
   ]
  },
  {
   "cell_type": "code",
   "execution_count": 58,
   "id": "b08afa77",
   "metadata": {
    "execution": {
     "iopub.execute_input": "2025-01-19T09:01:31.170282Z",
     "iopub.status.busy": "2025-01-19T09:01:31.169875Z",
     "iopub.status.idle": "2025-01-19T09:01:31.175896Z",
     "shell.execute_reply": "2025-01-19T09:01:31.174499Z"
    },
    "papermill": {
     "duration": 0.029307,
     "end_time": "2025-01-19T09:01:31.178218",
     "exception": false,
     "start_time": "2025-01-19T09:01:31.148911",
     "status": "completed"
    },
    "tags": []
   },
   "outputs": [
    {
     "name": "stdout",
     "output_type": "stream",
     "text": [
      "62311.36771706455\n"
     ]
    }
   ],
   "source": [
    "print(k8_means_car.inertia_) #menampilkan inertia score"
   ]
  },
  {
   "cell_type": "code",
   "execution_count": 59,
   "id": "c299bd81",
   "metadata": {
    "execution": {
     "iopub.execute_input": "2025-01-19T09:01:31.219498Z",
     "iopub.status.busy": "2025-01-19T09:01:31.219135Z",
     "iopub.status.idle": "2025-01-19T09:01:31.238382Z",
     "shell.execute_reply": "2025-01-19T09:01:31.237174Z"
    },
    "papermill": {
     "duration": 0.042799,
     "end_time": "2025-01-19T09:01:31.240942",
     "exception": false,
     "start_time": "2025-01-19T09:01:31.198143",
     "status": "completed"
    },
    "tags": []
   },
   "outputs": [
    {
     "data": {
      "text/html": [
       "<div>\n",
       "<style scoped>\n",
       "    .dataframe tbody tr th:only-of-type {\n",
       "        vertical-align: middle;\n",
       "    }\n",
       "\n",
       "    .dataframe tbody tr th {\n",
       "        vertical-align: top;\n",
       "    }\n",
       "\n",
       "    .dataframe thead th {\n",
       "        text-align: right;\n",
       "    }\n",
       "</style>\n",
       "<table border=\"1\" class=\"dataframe\">\n",
       "  <thead>\n",
       "    <tr style=\"text-align: right;\">\n",
       "      <th></th>\n",
       "      <th>Sales_in_thousands</th>\n",
       "      <th>__year_resale_value</th>\n",
       "      <th>Price_in_thousands</th>\n",
       "      <th>Engine_size</th>\n",
       "      <th>Horsepower</th>\n",
       "      <th>Wheelbase</th>\n",
       "      <th>Width</th>\n",
       "      <th>Length</th>\n",
       "      <th>Curb_weight</th>\n",
       "      <th>Fuel_capacity</th>\n",
       "      <th>Fuel_efficiency</th>\n",
       "      <th>Power_perf_factor</th>\n",
       "      <th>Clus_km</th>\n",
       "    </tr>\n",
       "  </thead>\n",
       "  <tbody>\n",
       "    <tr>\n",
       "      <th>0</th>\n",
       "      <td>16.919</td>\n",
       "      <td>16.360</td>\n",
       "      <td>21.50</td>\n",
       "      <td>1.8</td>\n",
       "      <td>140.0</td>\n",
       "      <td>101.2</td>\n",
       "      <td>67.3</td>\n",
       "      <td>172.4</td>\n",
       "      <td>2.639</td>\n",
       "      <td>13.2</td>\n",
       "      <td>28.0</td>\n",
       "      <td>58.280150</td>\n",
       "      <td>5</td>\n",
       "    </tr>\n",
       "    <tr>\n",
       "      <th>1</th>\n",
       "      <td>39.384</td>\n",
       "      <td>19.875</td>\n",
       "      <td>28.40</td>\n",
       "      <td>3.2</td>\n",
       "      <td>225.0</td>\n",
       "      <td>108.1</td>\n",
       "      <td>70.3</td>\n",
       "      <td>192.9</td>\n",
       "      <td>3.517</td>\n",
       "      <td>17.2</td>\n",
       "      <td>25.0</td>\n",
       "      <td>91.370778</td>\n",
       "      <td>6</td>\n",
       "    </tr>\n",
       "    <tr>\n",
       "      <th>3</th>\n",
       "      <td>8.588</td>\n",
       "      <td>29.725</td>\n",
       "      <td>42.00</td>\n",
       "      <td>3.5</td>\n",
       "      <td>210.0</td>\n",
       "      <td>114.6</td>\n",
       "      <td>71.4</td>\n",
       "      <td>196.6</td>\n",
       "      <td>3.850</td>\n",
       "      <td>18.0</td>\n",
       "      <td>22.0</td>\n",
       "      <td>91.389779</td>\n",
       "      <td>4</td>\n",
       "    </tr>\n",
       "    <tr>\n",
       "      <th>4</th>\n",
       "      <td>20.397</td>\n",
       "      <td>22.255</td>\n",
       "      <td>23.99</td>\n",
       "      <td>1.8</td>\n",
       "      <td>150.0</td>\n",
       "      <td>102.6</td>\n",
       "      <td>68.2</td>\n",
       "      <td>178.0</td>\n",
       "      <td>2.998</td>\n",
       "      <td>16.4</td>\n",
       "      <td>27.0</td>\n",
       "      <td>62.777639</td>\n",
       "      <td>5</td>\n",
       "    </tr>\n",
       "    <tr>\n",
       "      <th>5</th>\n",
       "      <td>18.780</td>\n",
       "      <td>23.555</td>\n",
       "      <td>33.95</td>\n",
       "      <td>2.8</td>\n",
       "      <td>200.0</td>\n",
       "      <td>108.7</td>\n",
       "      <td>76.1</td>\n",
       "      <td>192.0</td>\n",
       "      <td>3.561</td>\n",
       "      <td>18.5</td>\n",
       "      <td>22.0</td>\n",
       "      <td>84.565105</td>\n",
       "      <td>4</td>\n",
       "    </tr>\n",
       "  </tbody>\n",
       "</table>\n",
       "</div>"
      ],
      "text/plain": [
       "   Sales_in_thousands  __year_resale_value  Price_in_thousands  Engine_size  \\\n",
       "0              16.919               16.360               21.50          1.8   \n",
       "1              39.384               19.875               28.40          3.2   \n",
       "3               8.588               29.725               42.00          3.5   \n",
       "4              20.397               22.255               23.99          1.8   \n",
       "5              18.780               23.555               33.95          2.8   \n",
       "\n",
       "   Horsepower  Wheelbase  Width  Length  Curb_weight  Fuel_capacity  \\\n",
       "0       140.0      101.2   67.3   172.4        2.639           13.2   \n",
       "1       225.0      108.1   70.3   192.9        3.517           17.2   \n",
       "3       210.0      114.6   71.4   196.6        3.850           18.0   \n",
       "4       150.0      102.6   68.2   178.0        2.998           16.4   \n",
       "5       200.0      108.7   76.1   192.0        3.561           18.5   \n",
       "\n",
       "   Fuel_efficiency  Power_perf_factor  Clus_km  \n",
       "0             28.0          58.280150        5  \n",
       "1             25.0          91.370778        6  \n",
       "3             22.0          91.389779        4  \n",
       "4             27.0          62.777639        5  \n",
       "5             22.0          84.565105        4  "
      ]
     },
     "execution_count": 59,
     "metadata": {},
     "output_type": "execute_result"
    }
   ],
   "source": [
    "#menambahkan kolom hasil clustering pada dataset\n",
    "df_fin['Clus_km'] = labels_cust8\n",
    "df_fin.head(5)"
   ]
  },
  {
   "cell_type": "code",
   "execution_count": 60,
   "id": "429827ac",
   "metadata": {
    "execution": {
     "iopub.execute_input": "2025-01-19T09:01:31.285929Z",
     "iopub.status.busy": "2025-01-19T09:01:31.284951Z",
     "iopub.status.idle": "2025-01-19T09:01:31.295487Z",
     "shell.execute_reply": "2025-01-19T09:01:31.294189Z"
    },
    "papermill": {
     "duration": 0.036646,
     "end_time": "2025-01-19T09:01:31.297943",
     "exception": false,
     "start_time": "2025-01-19T09:01:31.261297",
     "status": "completed"
    },
    "tags": []
   },
   "outputs": [],
   "source": [
    "df_fin.to_csv(\"./Car_Sales_Clusters.csv\") #men-download dataset berisi label"
   ]
  }
 ],
 "metadata": {
  "kaggle": {
   "accelerator": "none",
   "dataSources": [
    {
     "datasetId": 3483,
     "sourceId": 5614,
     "sourceType": "datasetVersion"
    }
   ],
   "dockerImageVersionId": 30698,
   "isGpuEnabled": false,
   "isInternetEnabled": false,
   "language": "python",
   "sourceType": "notebook"
  },
  "kernelspec": {
   "display_name": "Python 3",
   "language": "python",
   "name": "python3"
  },
  "language_info": {
   "codemirror_mode": {
    "name": "ipython",
    "version": 3
   },
   "file_extension": ".py",
   "mimetype": "text/x-python",
   "name": "python",
   "nbconvert_exporter": "python",
   "pygments_lexer": "ipython3",
   "version": "3.10.13"
  },
  "papermill": {
   "default_parameters": {},
   "duration": 12.908381,
   "end_time": "2025-01-19T09:01:32.042316",
   "environment_variables": {},
   "exception": null,
   "input_path": "__notebook__.ipynb",
   "output_path": "__notebook__.ipynb",
   "parameters": {},
   "start_time": "2025-01-19T09:01:19.133935",
   "version": "2.5.0"
  }
 },
 "nbformat": 4,
 "nbformat_minor": 5
}
