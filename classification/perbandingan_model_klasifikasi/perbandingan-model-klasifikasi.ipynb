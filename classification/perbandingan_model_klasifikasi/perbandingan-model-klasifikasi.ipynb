{
 "cells": [
  {
   "cell_type": "code",
   "execution_count": 1,
   "id": "392a47cf",
   "metadata": {
    "execution": {
     "iopub.execute_input": "2025-01-19T09:05:18.402631Z",
     "iopub.status.busy": "2025-01-19T09:05:18.402220Z",
     "iopub.status.idle": "2025-01-19T09:05:21.711146Z",
     "shell.execute_reply": "2025-01-19T09:05:21.709748Z"
    },
    "papermill": {
     "duration": 3.327402,
     "end_time": "2025-01-19T09:05:21.714894",
     "exception": false,
     "start_time": "2025-01-19T09:05:18.387492",
     "status": "completed"
    },
    "tags": []
   },
   "outputs": [],
   "source": [
    "import numpy as np\n",
    "import pandas as pd\n",
    "import matplotlib.pyplot as plt\n",
    "import seaborn as sns\n",
    "from sklearn.linear_model import LogisticRegression\n",
    "from sklearn.impute import KNNImputer\n",
    "from sklearn.model_selection import train_test_split\n",
    "from sklearn.metrics import confusion_matrix\n",
    "from sklearn.metrics import log_loss, jaccard_score\n",
    "from sklearn.tree import DecisionTreeClassifier\n",
    "from sklearn.neighbors import KNeighborsClassifier\n",
    "from sklearn import metrics\n",
    "from sklearn.metrics import accuracy_score"
   ]
  },
  {
   "cell_type": "code",
   "execution_count": 2,
   "id": "0393cc45",
   "metadata": {
    "_cell_guid": "b1076dfc-b9ad-4769-8c92-a6c4dae69d19",
    "_uuid": "8f2839f25d086af736a60e9eeb907d3b93b6e0e5",
    "execution": {
     "iopub.execute_input": "2025-01-19T09:05:21.747577Z",
     "iopub.status.busy": "2025-01-19T09:05:21.746489Z",
     "iopub.status.idle": "2025-01-19T09:05:21.790616Z",
     "shell.execute_reply": "2025-01-19T09:05:21.789268Z"
    },
    "papermill": {
     "duration": 0.062357,
     "end_time": "2025-01-19T09:05:21.793337",
     "exception": false,
     "start_time": "2025-01-19T09:05:21.730980",
     "status": "completed"
    },
    "tags": []
   },
   "outputs": [],
   "source": [
    "#import dataset\n",
    "df = pd.read_csv(\"/kaggle/input/water-potability/water_potability.csv\")"
   ]
  },
  {
   "cell_type": "code",
   "execution_count": 3,
   "id": "d14f2b0d",
   "metadata": {
    "execution": {
     "iopub.execute_input": "2025-01-19T09:05:21.822141Z",
     "iopub.status.busy": "2025-01-19T09:05:21.821678Z",
     "iopub.status.idle": "2025-01-19T09:05:21.859501Z",
     "shell.execute_reply": "2025-01-19T09:05:21.858207Z"
    },
    "papermill": {
     "duration": 0.05532,
     "end_time": "2025-01-19T09:05:21.862150",
     "exception": false,
     "start_time": "2025-01-19T09:05:21.806830",
     "status": "completed"
    },
    "tags": []
   },
   "outputs": [
    {
     "data": {
      "text/html": [
       "<div>\n",
       "<style scoped>\n",
       "    .dataframe tbody tr th:only-of-type {\n",
       "        vertical-align: middle;\n",
       "    }\n",
       "\n",
       "    .dataframe tbody tr th {\n",
       "        vertical-align: top;\n",
       "    }\n",
       "\n",
       "    .dataframe thead th {\n",
       "        text-align: right;\n",
       "    }\n",
       "</style>\n",
       "<table border=\"1\" class=\"dataframe\">\n",
       "  <thead>\n",
       "    <tr style=\"text-align: right;\">\n",
       "      <th></th>\n",
       "      <th>ph</th>\n",
       "      <th>Hardness</th>\n",
       "      <th>Solids</th>\n",
       "      <th>Chloramines</th>\n",
       "      <th>Sulfate</th>\n",
       "      <th>Conductivity</th>\n",
       "      <th>Organic_carbon</th>\n",
       "      <th>Trihalomethanes</th>\n",
       "      <th>Turbidity</th>\n",
       "      <th>Potability</th>\n",
       "    </tr>\n",
       "  </thead>\n",
       "  <tbody>\n",
       "    <tr>\n",
       "      <th>0</th>\n",
       "      <td>NaN</td>\n",
       "      <td>204.890455</td>\n",
       "      <td>20791.318981</td>\n",
       "      <td>7.300212</td>\n",
       "      <td>368.516441</td>\n",
       "      <td>564.308654</td>\n",
       "      <td>10.379783</td>\n",
       "      <td>86.990970</td>\n",
       "      <td>2.963135</td>\n",
       "      <td>0</td>\n",
       "    </tr>\n",
       "    <tr>\n",
       "      <th>1</th>\n",
       "      <td>3.716080</td>\n",
       "      <td>129.422921</td>\n",
       "      <td>18630.057858</td>\n",
       "      <td>6.635246</td>\n",
       "      <td>NaN</td>\n",
       "      <td>592.885359</td>\n",
       "      <td>15.180013</td>\n",
       "      <td>56.329076</td>\n",
       "      <td>4.500656</td>\n",
       "      <td>0</td>\n",
       "    </tr>\n",
       "    <tr>\n",
       "      <th>2</th>\n",
       "      <td>8.099124</td>\n",
       "      <td>224.236259</td>\n",
       "      <td>19909.541732</td>\n",
       "      <td>9.275884</td>\n",
       "      <td>NaN</td>\n",
       "      <td>418.606213</td>\n",
       "      <td>16.868637</td>\n",
       "      <td>66.420093</td>\n",
       "      <td>3.055934</td>\n",
       "      <td>0</td>\n",
       "    </tr>\n",
       "    <tr>\n",
       "      <th>3</th>\n",
       "      <td>8.316766</td>\n",
       "      <td>214.373394</td>\n",
       "      <td>22018.417441</td>\n",
       "      <td>8.059332</td>\n",
       "      <td>356.886136</td>\n",
       "      <td>363.266516</td>\n",
       "      <td>18.436524</td>\n",
       "      <td>100.341674</td>\n",
       "      <td>4.628771</td>\n",
       "      <td>0</td>\n",
       "    </tr>\n",
       "    <tr>\n",
       "      <th>4</th>\n",
       "      <td>9.092223</td>\n",
       "      <td>181.101509</td>\n",
       "      <td>17978.986339</td>\n",
       "      <td>6.546600</td>\n",
       "      <td>310.135738</td>\n",
       "      <td>398.410813</td>\n",
       "      <td>11.558279</td>\n",
       "      <td>31.997993</td>\n",
       "      <td>4.075075</td>\n",
       "      <td>0</td>\n",
       "    </tr>\n",
       "    <tr>\n",
       "      <th>...</th>\n",
       "      <td>...</td>\n",
       "      <td>...</td>\n",
       "      <td>...</td>\n",
       "      <td>...</td>\n",
       "      <td>...</td>\n",
       "      <td>...</td>\n",
       "      <td>...</td>\n",
       "      <td>...</td>\n",
       "      <td>...</td>\n",
       "      <td>...</td>\n",
       "    </tr>\n",
       "    <tr>\n",
       "      <th>3271</th>\n",
       "      <td>4.668102</td>\n",
       "      <td>193.681735</td>\n",
       "      <td>47580.991603</td>\n",
       "      <td>7.166639</td>\n",
       "      <td>359.948574</td>\n",
       "      <td>526.424171</td>\n",
       "      <td>13.894419</td>\n",
       "      <td>66.687695</td>\n",
       "      <td>4.435821</td>\n",
       "      <td>1</td>\n",
       "    </tr>\n",
       "    <tr>\n",
       "      <th>3272</th>\n",
       "      <td>7.808856</td>\n",
       "      <td>193.553212</td>\n",
       "      <td>17329.802160</td>\n",
       "      <td>8.061362</td>\n",
       "      <td>NaN</td>\n",
       "      <td>392.449580</td>\n",
       "      <td>19.903225</td>\n",
       "      <td>NaN</td>\n",
       "      <td>2.798243</td>\n",
       "      <td>1</td>\n",
       "    </tr>\n",
       "    <tr>\n",
       "      <th>3273</th>\n",
       "      <td>9.419510</td>\n",
       "      <td>175.762646</td>\n",
       "      <td>33155.578218</td>\n",
       "      <td>7.350233</td>\n",
       "      <td>NaN</td>\n",
       "      <td>432.044783</td>\n",
       "      <td>11.039070</td>\n",
       "      <td>69.845400</td>\n",
       "      <td>3.298875</td>\n",
       "      <td>1</td>\n",
       "    </tr>\n",
       "    <tr>\n",
       "      <th>3274</th>\n",
       "      <td>5.126763</td>\n",
       "      <td>230.603758</td>\n",
       "      <td>11983.869376</td>\n",
       "      <td>6.303357</td>\n",
       "      <td>NaN</td>\n",
       "      <td>402.883113</td>\n",
       "      <td>11.168946</td>\n",
       "      <td>77.488213</td>\n",
       "      <td>4.708658</td>\n",
       "      <td>1</td>\n",
       "    </tr>\n",
       "    <tr>\n",
       "      <th>3275</th>\n",
       "      <td>7.874671</td>\n",
       "      <td>195.102299</td>\n",
       "      <td>17404.177061</td>\n",
       "      <td>7.509306</td>\n",
       "      <td>NaN</td>\n",
       "      <td>327.459760</td>\n",
       "      <td>16.140368</td>\n",
       "      <td>78.698446</td>\n",
       "      <td>2.309149</td>\n",
       "      <td>1</td>\n",
       "    </tr>\n",
       "  </tbody>\n",
       "</table>\n",
       "<p>3276 rows × 10 columns</p>\n",
       "</div>"
      ],
      "text/plain": [
       "            ph    Hardness        Solids  Chloramines     Sulfate  \\\n",
       "0          NaN  204.890455  20791.318981     7.300212  368.516441   \n",
       "1     3.716080  129.422921  18630.057858     6.635246         NaN   \n",
       "2     8.099124  224.236259  19909.541732     9.275884         NaN   \n",
       "3     8.316766  214.373394  22018.417441     8.059332  356.886136   \n",
       "4     9.092223  181.101509  17978.986339     6.546600  310.135738   \n",
       "...        ...         ...           ...          ...         ...   \n",
       "3271  4.668102  193.681735  47580.991603     7.166639  359.948574   \n",
       "3272  7.808856  193.553212  17329.802160     8.061362         NaN   \n",
       "3273  9.419510  175.762646  33155.578218     7.350233         NaN   \n",
       "3274  5.126763  230.603758  11983.869376     6.303357         NaN   \n",
       "3275  7.874671  195.102299  17404.177061     7.509306         NaN   \n",
       "\n",
       "      Conductivity  Organic_carbon  Trihalomethanes  Turbidity  Potability  \n",
       "0       564.308654       10.379783        86.990970   2.963135           0  \n",
       "1       592.885359       15.180013        56.329076   4.500656           0  \n",
       "2       418.606213       16.868637        66.420093   3.055934           0  \n",
       "3       363.266516       18.436524       100.341674   4.628771           0  \n",
       "4       398.410813       11.558279        31.997993   4.075075           0  \n",
       "...            ...             ...              ...        ...         ...  \n",
       "3271    526.424171       13.894419        66.687695   4.435821           1  \n",
       "3272    392.449580       19.903225              NaN   2.798243           1  \n",
       "3273    432.044783       11.039070        69.845400   3.298875           1  \n",
       "3274    402.883113       11.168946        77.488213   4.708658           1  \n",
       "3275    327.459760       16.140368        78.698446   2.309149           1  \n",
       "\n",
       "[3276 rows x 10 columns]"
      ]
     },
     "execution_count": 3,
     "metadata": {},
     "output_type": "execute_result"
    }
   ],
   "source": [
    "df #melihat df"
   ]
  },
  {
   "cell_type": "code",
   "execution_count": 4,
   "id": "7bb03819",
   "metadata": {
    "execution": {
     "iopub.execute_input": "2025-01-19T09:05:21.893770Z",
     "iopub.status.busy": "2025-01-19T09:05:21.893383Z",
     "iopub.status.idle": "2025-01-19T09:05:21.904372Z",
     "shell.execute_reply": "2025-01-19T09:05:21.903085Z"
    },
    "papermill": {
     "duration": 0.029351,
     "end_time": "2025-01-19T09:05:21.907203",
     "exception": false,
     "start_time": "2025-01-19T09:05:21.877852",
     "status": "completed"
    },
    "tags": []
   },
   "outputs": [
    {
     "data": {
      "text/plain": [
       "ph                 491\n",
       "Hardness             0\n",
       "Solids               0\n",
       "Chloramines          0\n",
       "Sulfate            781\n",
       "Conductivity         0\n",
       "Organic_carbon       0\n",
       "Trihalomethanes    162\n",
       "Turbidity            0\n",
       "Potability           0\n",
       "dtype: int64"
      ]
     },
     "execution_count": 4,
     "metadata": {},
     "output_type": "execute_result"
    }
   ],
   "source": [
    "df.isna().sum() #melihat banyaknya datapoint yang kosong"
   ]
  },
  {
   "cell_type": "code",
   "execution_count": 5,
   "id": "05315d25",
   "metadata": {
    "execution": {
     "iopub.execute_input": "2025-01-19T09:05:21.937680Z",
     "iopub.status.busy": "2025-01-19T09:05:21.937309Z",
     "iopub.status.idle": "2025-01-19T09:05:21.961360Z",
     "shell.execute_reply": "2025-01-19T09:05:21.959914Z"
    },
    "papermill": {
     "duration": 0.043222,
     "end_time": "2025-01-19T09:05:21.964508",
     "exception": false,
     "start_time": "2025-01-19T09:05:21.921286",
     "status": "completed"
    },
    "tags": []
   },
   "outputs": [
    {
     "name": "stdout",
     "output_type": "stream",
     "text": [
      "<class 'pandas.core.frame.DataFrame'>\n",
      "RangeIndex: 3276 entries, 0 to 3275\n",
      "Data columns (total 10 columns):\n",
      " #   Column           Non-Null Count  Dtype  \n",
      "---  ------           --------------  -----  \n",
      " 0   ph               2785 non-null   float64\n",
      " 1   Hardness         3276 non-null   float64\n",
      " 2   Solids           3276 non-null   float64\n",
      " 3   Chloramines      3276 non-null   float64\n",
      " 4   Sulfate          2495 non-null   float64\n",
      " 5   Conductivity     3276 non-null   float64\n",
      " 6   Organic_carbon   3276 non-null   float64\n",
      " 7   Trihalomethanes  3114 non-null   float64\n",
      " 8   Turbidity        3276 non-null   float64\n",
      " 9   Potability       3276 non-null   int64  \n",
      "dtypes: float64(9), int64(1)\n",
      "memory usage: 256.1 KB\n"
     ]
    }
   ],
   "source": [
    "df.info()"
   ]
  },
  {
   "cell_type": "markdown",
   "id": "9c702062",
   "metadata": {
    "papermill": {
     "duration": 0.013382,
     "end_time": "2025-01-19T09:05:21.992736",
     "exception": false,
     "start_time": "2025-01-19T09:05:21.979354",
     "status": "completed"
    },
    "tags": []
   },
   "source": [
    "# Imputasi dengan KNN"
   ]
  },
  {
   "cell_type": "code",
   "execution_count": 6,
   "id": "0b04725c",
   "metadata": {
    "execution": {
     "iopub.execute_input": "2025-01-19T09:05:22.025472Z",
     "iopub.status.busy": "2025-01-19T09:05:22.025079Z",
     "iopub.status.idle": "2025-01-19T09:05:22.030380Z",
     "shell.execute_reply": "2025-01-19T09:05:22.028987Z"
    },
    "papermill": {
     "duration": 0.024465,
     "end_time": "2025-01-19T09:05:22.032975",
     "exception": false,
     "start_time": "2025-01-19T09:05:22.008510",
     "status": "completed"
    },
    "tags": []
   },
   "outputs": [],
   "source": [
    "knn_imputer = KNNImputer(n_neighbors=3) #membuat model"
   ]
  },
  {
   "cell_type": "code",
   "execution_count": 7,
   "id": "9df23bed",
   "metadata": {
    "execution": {
     "iopub.execute_input": "2025-01-19T09:05:22.063301Z",
     "iopub.status.busy": "2025-01-19T09:05:22.062876Z",
     "iopub.status.idle": "2025-01-19T09:05:22.068697Z",
     "shell.execute_reply": "2025-01-19T09:05:22.067648Z"
    },
    "papermill": {
     "duration": 0.023983,
     "end_time": "2025-01-19T09:05:22.071482",
     "exception": false,
     "start_time": "2025-01-19T09:05:22.047499",
     "status": "completed"
    },
    "tags": []
   },
   "outputs": [],
   "source": [
    "df_fill_knn = df.copy() #membuat df copy"
   ]
  },
  {
   "cell_type": "code",
   "execution_count": 8,
   "id": "20e3f1fe",
   "metadata": {
    "execution": {
     "iopub.execute_input": "2025-01-19T09:05:22.101825Z",
     "iopub.status.busy": "2025-01-19T09:05:22.100869Z",
     "iopub.status.idle": "2025-01-19T09:05:22.119028Z",
     "shell.execute_reply": "2025-01-19T09:05:22.117785Z"
    },
    "papermill": {
     "duration": 0.035441,
     "end_time": "2025-01-19T09:05:22.121502",
     "exception": false,
     "start_time": "2025-01-19T09:05:22.086061",
     "status": "completed"
    },
    "tags": []
   },
   "outputs": [
    {
     "data": {
      "text/html": [
       "<div>\n",
       "<style scoped>\n",
       "    .dataframe tbody tr th:only-of-type {\n",
       "        vertical-align: middle;\n",
       "    }\n",
       "\n",
       "    .dataframe tbody tr th {\n",
       "        vertical-align: top;\n",
       "    }\n",
       "\n",
       "    .dataframe thead th {\n",
       "        text-align: right;\n",
       "    }\n",
       "</style>\n",
       "<table border=\"1\" class=\"dataframe\">\n",
       "  <thead>\n",
       "    <tr style=\"text-align: right;\">\n",
       "      <th></th>\n",
       "      <th>ph</th>\n",
       "      <th>Hardness</th>\n",
       "      <th>Solids</th>\n",
       "      <th>Chloramines</th>\n",
       "      <th>Sulfate</th>\n",
       "      <th>Conductivity</th>\n",
       "      <th>Organic_carbon</th>\n",
       "      <th>Trihalomethanes</th>\n",
       "      <th>Turbidity</th>\n",
       "      <th>Potability</th>\n",
       "    </tr>\n",
       "  </thead>\n",
       "  <tbody>\n",
       "    <tr>\n",
       "      <th>0</th>\n",
       "      <td>NaN</td>\n",
       "      <td>204.890455</td>\n",
       "      <td>20791.318981</td>\n",
       "      <td>7.300212</td>\n",
       "      <td>368.516441</td>\n",
       "      <td>564.308654</td>\n",
       "      <td>10.379783</td>\n",
       "      <td>86.990970</td>\n",
       "      <td>2.963135</td>\n",
       "      <td>0</td>\n",
       "    </tr>\n",
       "    <tr>\n",
       "      <th>1</th>\n",
       "      <td>3.716080</td>\n",
       "      <td>129.422921</td>\n",
       "      <td>18630.057858</td>\n",
       "      <td>6.635246</td>\n",
       "      <td>NaN</td>\n",
       "      <td>592.885359</td>\n",
       "      <td>15.180013</td>\n",
       "      <td>56.329076</td>\n",
       "      <td>4.500656</td>\n",
       "      <td>0</td>\n",
       "    </tr>\n",
       "    <tr>\n",
       "      <th>2</th>\n",
       "      <td>8.099124</td>\n",
       "      <td>224.236259</td>\n",
       "      <td>19909.541732</td>\n",
       "      <td>9.275884</td>\n",
       "      <td>NaN</td>\n",
       "      <td>418.606213</td>\n",
       "      <td>16.868637</td>\n",
       "      <td>66.420093</td>\n",
       "      <td>3.055934</td>\n",
       "      <td>0</td>\n",
       "    </tr>\n",
       "    <tr>\n",
       "      <th>3</th>\n",
       "      <td>8.316766</td>\n",
       "      <td>214.373394</td>\n",
       "      <td>22018.417441</td>\n",
       "      <td>8.059332</td>\n",
       "      <td>356.886136</td>\n",
       "      <td>363.266516</td>\n",
       "      <td>18.436524</td>\n",
       "      <td>100.341674</td>\n",
       "      <td>4.628771</td>\n",
       "      <td>0</td>\n",
       "    </tr>\n",
       "    <tr>\n",
       "      <th>4</th>\n",
       "      <td>9.092223</td>\n",
       "      <td>181.101509</td>\n",
       "      <td>17978.986339</td>\n",
       "      <td>6.546600</td>\n",
       "      <td>310.135738</td>\n",
       "      <td>398.410813</td>\n",
       "      <td>11.558279</td>\n",
       "      <td>31.997993</td>\n",
       "      <td>4.075075</td>\n",
       "      <td>0</td>\n",
       "    </tr>\n",
       "    <tr>\n",
       "      <th>...</th>\n",
       "      <td>...</td>\n",
       "      <td>...</td>\n",
       "      <td>...</td>\n",
       "      <td>...</td>\n",
       "      <td>...</td>\n",
       "      <td>...</td>\n",
       "      <td>...</td>\n",
       "      <td>...</td>\n",
       "      <td>...</td>\n",
       "      <td>...</td>\n",
       "    </tr>\n",
       "    <tr>\n",
       "      <th>3271</th>\n",
       "      <td>4.668102</td>\n",
       "      <td>193.681735</td>\n",
       "      <td>47580.991603</td>\n",
       "      <td>7.166639</td>\n",
       "      <td>359.948574</td>\n",
       "      <td>526.424171</td>\n",
       "      <td>13.894419</td>\n",
       "      <td>66.687695</td>\n",
       "      <td>4.435821</td>\n",
       "      <td>1</td>\n",
       "    </tr>\n",
       "    <tr>\n",
       "      <th>3272</th>\n",
       "      <td>7.808856</td>\n",
       "      <td>193.553212</td>\n",
       "      <td>17329.802160</td>\n",
       "      <td>8.061362</td>\n",
       "      <td>NaN</td>\n",
       "      <td>392.449580</td>\n",
       "      <td>19.903225</td>\n",
       "      <td>NaN</td>\n",
       "      <td>2.798243</td>\n",
       "      <td>1</td>\n",
       "    </tr>\n",
       "    <tr>\n",
       "      <th>3273</th>\n",
       "      <td>9.419510</td>\n",
       "      <td>175.762646</td>\n",
       "      <td>33155.578218</td>\n",
       "      <td>7.350233</td>\n",
       "      <td>NaN</td>\n",
       "      <td>432.044783</td>\n",
       "      <td>11.039070</td>\n",
       "      <td>69.845400</td>\n",
       "      <td>3.298875</td>\n",
       "      <td>1</td>\n",
       "    </tr>\n",
       "    <tr>\n",
       "      <th>3274</th>\n",
       "      <td>5.126763</td>\n",
       "      <td>230.603758</td>\n",
       "      <td>11983.869376</td>\n",
       "      <td>6.303357</td>\n",
       "      <td>NaN</td>\n",
       "      <td>402.883113</td>\n",
       "      <td>11.168946</td>\n",
       "      <td>77.488213</td>\n",
       "      <td>4.708658</td>\n",
       "      <td>1</td>\n",
       "    </tr>\n",
       "    <tr>\n",
       "      <th>3275</th>\n",
       "      <td>7.874671</td>\n",
       "      <td>195.102299</td>\n",
       "      <td>17404.177061</td>\n",
       "      <td>7.509306</td>\n",
       "      <td>NaN</td>\n",
       "      <td>327.459760</td>\n",
       "      <td>16.140368</td>\n",
       "      <td>78.698446</td>\n",
       "      <td>2.309149</td>\n",
       "      <td>1</td>\n",
       "    </tr>\n",
       "  </tbody>\n",
       "</table>\n",
       "<p>3276 rows × 10 columns</p>\n",
       "</div>"
      ],
      "text/plain": [
       "            ph    Hardness        Solids  Chloramines     Sulfate  \\\n",
       "0          NaN  204.890455  20791.318981     7.300212  368.516441   \n",
       "1     3.716080  129.422921  18630.057858     6.635246         NaN   \n",
       "2     8.099124  224.236259  19909.541732     9.275884         NaN   \n",
       "3     8.316766  214.373394  22018.417441     8.059332  356.886136   \n",
       "4     9.092223  181.101509  17978.986339     6.546600  310.135738   \n",
       "...        ...         ...           ...          ...         ...   \n",
       "3271  4.668102  193.681735  47580.991603     7.166639  359.948574   \n",
       "3272  7.808856  193.553212  17329.802160     8.061362         NaN   \n",
       "3273  9.419510  175.762646  33155.578218     7.350233         NaN   \n",
       "3274  5.126763  230.603758  11983.869376     6.303357         NaN   \n",
       "3275  7.874671  195.102299  17404.177061     7.509306         NaN   \n",
       "\n",
       "      Conductivity  Organic_carbon  Trihalomethanes  Turbidity  Potability  \n",
       "0       564.308654       10.379783        86.990970   2.963135           0  \n",
       "1       592.885359       15.180013        56.329076   4.500656           0  \n",
       "2       418.606213       16.868637        66.420093   3.055934           0  \n",
       "3       363.266516       18.436524       100.341674   4.628771           0  \n",
       "4       398.410813       11.558279        31.997993   4.075075           0  \n",
       "...            ...             ...              ...        ...         ...  \n",
       "3271    526.424171       13.894419        66.687695   4.435821           1  \n",
       "3272    392.449580       19.903225              NaN   2.798243           1  \n",
       "3273    432.044783       11.039070        69.845400   3.298875           1  \n",
       "3274    402.883113       11.168946        77.488213   4.708658           1  \n",
       "3275    327.459760       16.140368        78.698446   2.309149           1  \n",
       "\n",
       "[3276 rows x 10 columns]"
      ]
     },
     "execution_count": 8,
     "metadata": {},
     "output_type": "execute_result"
    }
   ],
   "source": [
    "df_fill_knn.select_dtypes(include='number') #seleksi atribut numerik"
   ]
  },
  {
   "cell_type": "code",
   "execution_count": 9,
   "id": "64f959e1",
   "metadata": {
    "execution": {
     "iopub.execute_input": "2025-01-19T09:05:22.151445Z",
     "iopub.status.busy": "2025-01-19T09:05:22.151050Z",
     "iopub.status.idle": "2025-01-19T09:05:22.159575Z",
     "shell.execute_reply": "2025-01-19T09:05:22.158302Z"
    },
    "papermill": {
     "duration": 0.026316,
     "end_time": "2025-01-19T09:05:22.161982",
     "exception": false,
     "start_time": "2025-01-19T09:05:22.135666",
     "status": "completed"
    },
    "tags": []
   },
   "outputs": [
    {
     "data": {
      "text/plain": [
       "Index(['ph', 'Hardness', 'Solids', 'Chloramines', 'Sulfate', 'Conductivity',\n",
       "       'Organic_carbon', 'Trihalomethanes', 'Turbidity', 'Potability'],\n",
       "      dtype='object')"
      ]
     },
     "execution_count": 9,
     "metadata": {},
     "output_type": "execute_result"
    }
   ],
   "source": [
    "df_fill_knn.select_dtypes(include='number').columns #melihat nama-nama kolom yang ada"
   ]
  },
  {
   "cell_type": "code",
   "execution_count": 10,
   "id": "2e329744",
   "metadata": {
    "execution": {
     "iopub.execute_input": "2025-01-19T09:05:22.192913Z",
     "iopub.status.busy": "2025-01-19T09:05:22.192506Z",
     "iopub.status.idle": "2025-01-19T09:05:22.199418Z",
     "shell.execute_reply": "2025-01-19T09:05:22.198055Z"
    },
    "papermill": {
     "duration": 0.025409,
     "end_time": "2025-01-19T09:05:22.202104",
     "exception": false,
     "start_time": "2025-01-19T09:05:22.176695",
     "status": "completed"
    },
    "tags": []
   },
   "outputs": [],
   "source": [
    "num_col = df_fill_knn.select_dtypes(include='number').columns #membuat variabel berisi kolom-kolom"
   ]
  },
  {
   "cell_type": "code",
   "execution_count": 11,
   "id": "158b76c0",
   "metadata": {
    "execution": {
     "iopub.execute_input": "2025-01-19T09:05:22.232011Z",
     "iopub.status.busy": "2025-01-19T09:05:22.231626Z",
     "iopub.status.idle": "2025-01-19T09:05:22.596881Z",
     "shell.execute_reply": "2025-01-19T09:05:22.595841Z"
    },
    "papermill": {
     "duration": 0.383186,
     "end_time": "2025-01-19T09:05:22.599493",
     "exception": false,
     "start_time": "2025-01-19T09:05:22.216307",
     "status": "completed"
    },
    "tags": []
   },
   "outputs": [],
   "source": [
    "df_fill_knn[num_col] = knn_imputer.fit_transform(df_fill_knn[num_col]) #mengisi datapoint yang kosong"
   ]
  },
  {
   "cell_type": "code",
   "execution_count": 12,
   "id": "471f5af1",
   "metadata": {
    "execution": {
     "iopub.execute_input": "2025-01-19T09:05:22.628122Z",
     "iopub.status.busy": "2025-01-19T09:05:22.627772Z",
     "iopub.status.idle": "2025-01-19T09:05:22.637768Z",
     "shell.execute_reply": "2025-01-19T09:05:22.636467Z"
    },
    "papermill": {
     "duration": 0.027061,
     "end_time": "2025-01-19T09:05:22.640112",
     "exception": false,
     "start_time": "2025-01-19T09:05:22.613051",
     "status": "completed"
    },
    "tags": []
   },
   "outputs": [
    {
     "data": {
      "text/plain": [
       "ph                 0\n",
       "Hardness           0\n",
       "Solids             0\n",
       "Chloramines        0\n",
       "Sulfate            0\n",
       "Conductivity       0\n",
       "Organic_carbon     0\n",
       "Trihalomethanes    0\n",
       "Turbidity          0\n",
       "Potability         0\n",
       "dtype: int64"
      ]
     },
     "execution_count": 12,
     "metadata": {},
     "output_type": "execute_result"
    }
   ],
   "source": [
    "df_fill_knn.isna().sum()"
   ]
  },
  {
   "cell_type": "code",
   "execution_count": 13,
   "id": "0e6c255c",
   "metadata": {
    "execution": {
     "iopub.execute_input": "2025-01-19T09:05:22.669652Z",
     "iopub.status.busy": "2025-01-19T09:05:22.669299Z",
     "iopub.status.idle": "2025-01-19T09:05:22.688370Z",
     "shell.execute_reply": "2025-01-19T09:05:22.687050Z"
    },
    "papermill": {
     "duration": 0.036835,
     "end_time": "2025-01-19T09:05:22.690576",
     "exception": false,
     "start_time": "2025-01-19T09:05:22.653741",
     "status": "completed"
    },
    "tags": []
   },
   "outputs": [
    {
     "data": {
      "text/html": [
       "<div>\n",
       "<style scoped>\n",
       "    .dataframe tbody tr th:only-of-type {\n",
       "        vertical-align: middle;\n",
       "    }\n",
       "\n",
       "    .dataframe tbody tr th {\n",
       "        vertical-align: top;\n",
       "    }\n",
       "\n",
       "    .dataframe thead th {\n",
       "        text-align: right;\n",
       "    }\n",
       "</style>\n",
       "<table border=\"1\" class=\"dataframe\">\n",
       "  <thead>\n",
       "    <tr style=\"text-align: right;\">\n",
       "      <th></th>\n",
       "      <th>ph</th>\n",
       "      <th>Hardness</th>\n",
       "      <th>Solids</th>\n",
       "      <th>Chloramines</th>\n",
       "      <th>Sulfate</th>\n",
       "      <th>Conductivity</th>\n",
       "      <th>Organic_carbon</th>\n",
       "      <th>Trihalomethanes</th>\n",
       "      <th>Turbidity</th>\n",
       "      <th>Potability</th>\n",
       "    </tr>\n",
       "  </thead>\n",
       "  <tbody>\n",
       "    <tr>\n",
       "      <th>0</th>\n",
       "      <td>6.655223</td>\n",
       "      <td>204.890455</td>\n",
       "      <td>20791.318981</td>\n",
       "      <td>7.300212</td>\n",
       "      <td>368.516441</td>\n",
       "      <td>564.308654</td>\n",
       "      <td>10.379783</td>\n",
       "      <td>86.990970</td>\n",
       "      <td>2.963135</td>\n",
       "      <td>0.0</td>\n",
       "    </tr>\n",
       "    <tr>\n",
       "      <th>1</th>\n",
       "      <td>3.716080</td>\n",
       "      <td>129.422921</td>\n",
       "      <td>18630.057858</td>\n",
       "      <td>6.635246</td>\n",
       "      <td>351.285226</td>\n",
       "      <td>592.885359</td>\n",
       "      <td>15.180013</td>\n",
       "      <td>56.329076</td>\n",
       "      <td>4.500656</td>\n",
       "      <td>0.0</td>\n",
       "    </tr>\n",
       "    <tr>\n",
       "      <th>2</th>\n",
       "      <td>8.099124</td>\n",
       "      <td>224.236259</td>\n",
       "      <td>19909.541732</td>\n",
       "      <td>9.275884</td>\n",
       "      <td>347.323743</td>\n",
       "      <td>418.606213</td>\n",
       "      <td>16.868637</td>\n",
       "      <td>66.420093</td>\n",
       "      <td>3.055934</td>\n",
       "      <td>0.0</td>\n",
       "    </tr>\n",
       "    <tr>\n",
       "      <th>3</th>\n",
       "      <td>8.316766</td>\n",
       "      <td>214.373394</td>\n",
       "      <td>22018.417441</td>\n",
       "      <td>8.059332</td>\n",
       "      <td>356.886136</td>\n",
       "      <td>363.266516</td>\n",
       "      <td>18.436524</td>\n",
       "      <td>100.341674</td>\n",
       "      <td>4.628771</td>\n",
       "      <td>0.0</td>\n",
       "    </tr>\n",
       "    <tr>\n",
       "      <th>4</th>\n",
       "      <td>9.092223</td>\n",
       "      <td>181.101509</td>\n",
       "      <td>17978.986339</td>\n",
       "      <td>6.546600</td>\n",
       "      <td>310.135738</td>\n",
       "      <td>398.410813</td>\n",
       "      <td>11.558279</td>\n",
       "      <td>31.997993</td>\n",
       "      <td>4.075075</td>\n",
       "      <td>0.0</td>\n",
       "    </tr>\n",
       "    <tr>\n",
       "      <th>...</th>\n",
       "      <td>...</td>\n",
       "      <td>...</td>\n",
       "      <td>...</td>\n",
       "      <td>...</td>\n",
       "      <td>...</td>\n",
       "      <td>...</td>\n",
       "      <td>...</td>\n",
       "      <td>...</td>\n",
       "      <td>...</td>\n",
       "      <td>...</td>\n",
       "    </tr>\n",
       "    <tr>\n",
       "      <th>3271</th>\n",
       "      <td>4.668102</td>\n",
       "      <td>193.681735</td>\n",
       "      <td>47580.991603</td>\n",
       "      <td>7.166639</td>\n",
       "      <td>359.948574</td>\n",
       "      <td>526.424171</td>\n",
       "      <td>13.894419</td>\n",
       "      <td>66.687695</td>\n",
       "      <td>4.435821</td>\n",
       "      <td>1.0</td>\n",
       "    </tr>\n",
       "    <tr>\n",
       "      <th>3272</th>\n",
       "      <td>7.808856</td>\n",
       "      <td>193.553212</td>\n",
       "      <td>17329.802160</td>\n",
       "      <td>8.061362</td>\n",
       "      <td>368.086095</td>\n",
       "      <td>392.449580</td>\n",
       "      <td>19.903225</td>\n",
       "      <td>56.689055</td>\n",
       "      <td>2.798243</td>\n",
       "      <td>1.0</td>\n",
       "    </tr>\n",
       "    <tr>\n",
       "      <th>3273</th>\n",
       "      <td>9.419510</td>\n",
       "      <td>175.762646</td>\n",
       "      <td>33155.578218</td>\n",
       "      <td>7.350233</td>\n",
       "      <td>316.571962</td>\n",
       "      <td>432.044783</td>\n",
       "      <td>11.039070</td>\n",
       "      <td>69.845400</td>\n",
       "      <td>3.298875</td>\n",
       "      <td>1.0</td>\n",
       "    </tr>\n",
       "    <tr>\n",
       "      <th>3274</th>\n",
       "      <td>5.126763</td>\n",
       "      <td>230.603758</td>\n",
       "      <td>11983.869376</td>\n",
       "      <td>6.303357</td>\n",
       "      <td>334.293598</td>\n",
       "      <td>402.883113</td>\n",
       "      <td>11.168946</td>\n",
       "      <td>77.488213</td>\n",
       "      <td>4.708658</td>\n",
       "      <td>1.0</td>\n",
       "    </tr>\n",
       "    <tr>\n",
       "      <th>3275</th>\n",
       "      <td>7.874671</td>\n",
       "      <td>195.102299</td>\n",
       "      <td>17404.177061</td>\n",
       "      <td>7.509306</td>\n",
       "      <td>333.330087</td>\n",
       "      <td>327.459760</td>\n",
       "      <td>16.140368</td>\n",
       "      <td>78.698446</td>\n",
       "      <td>2.309149</td>\n",
       "      <td>1.0</td>\n",
       "    </tr>\n",
       "  </tbody>\n",
       "</table>\n",
       "<p>3276 rows × 10 columns</p>\n",
       "</div>"
      ],
      "text/plain": [
       "            ph    Hardness        Solids  Chloramines     Sulfate  \\\n",
       "0     6.655223  204.890455  20791.318981     7.300212  368.516441   \n",
       "1     3.716080  129.422921  18630.057858     6.635246  351.285226   \n",
       "2     8.099124  224.236259  19909.541732     9.275884  347.323743   \n",
       "3     8.316766  214.373394  22018.417441     8.059332  356.886136   \n",
       "4     9.092223  181.101509  17978.986339     6.546600  310.135738   \n",
       "...        ...         ...           ...          ...         ...   \n",
       "3271  4.668102  193.681735  47580.991603     7.166639  359.948574   \n",
       "3272  7.808856  193.553212  17329.802160     8.061362  368.086095   \n",
       "3273  9.419510  175.762646  33155.578218     7.350233  316.571962   \n",
       "3274  5.126763  230.603758  11983.869376     6.303357  334.293598   \n",
       "3275  7.874671  195.102299  17404.177061     7.509306  333.330087   \n",
       "\n",
       "      Conductivity  Organic_carbon  Trihalomethanes  Turbidity  Potability  \n",
       "0       564.308654       10.379783        86.990970   2.963135         0.0  \n",
       "1       592.885359       15.180013        56.329076   4.500656         0.0  \n",
       "2       418.606213       16.868637        66.420093   3.055934         0.0  \n",
       "3       363.266516       18.436524       100.341674   4.628771         0.0  \n",
       "4       398.410813       11.558279        31.997993   4.075075         0.0  \n",
       "...            ...             ...              ...        ...         ...  \n",
       "3271    526.424171       13.894419        66.687695   4.435821         1.0  \n",
       "3272    392.449580       19.903225        56.689055   2.798243         1.0  \n",
       "3273    432.044783       11.039070        69.845400   3.298875         1.0  \n",
       "3274    402.883113       11.168946        77.488213   4.708658         1.0  \n",
       "3275    327.459760       16.140368        78.698446   2.309149         1.0  \n",
       "\n",
       "[3276 rows x 10 columns]"
      ]
     },
     "execution_count": 13,
     "metadata": {},
     "output_type": "execute_result"
    }
   ],
   "source": [
    "df_fill_knn"
   ]
  },
  {
   "cell_type": "code",
   "execution_count": 14,
   "id": "fa31c5df",
   "metadata": {
    "execution": {
     "iopub.execute_input": "2025-01-19T09:05:22.721538Z",
     "iopub.status.busy": "2025-01-19T09:05:22.721146Z",
     "iopub.status.idle": "2025-01-19T09:05:22.726311Z",
     "shell.execute_reply": "2025-01-19T09:05:22.724940Z"
    },
    "papermill": {
     "duration": 0.023294,
     "end_time": "2025-01-19T09:05:22.728510",
     "exception": false,
     "start_time": "2025-01-19T09:05:22.705216",
     "status": "completed"
    },
    "tags": []
   },
   "outputs": [],
   "source": [
    "df_fin = df_fill_knn"
   ]
  },
  {
   "cell_type": "markdown",
   "id": "be92af14",
   "metadata": {
    "papermill": {
     "duration": 0.013688,
     "end_time": "2025-01-19T09:05:22.757605",
     "exception": false,
     "start_time": "2025-01-19T09:05:22.743917",
     "status": "completed"
    },
    "tags": []
   },
   "source": [
    "# Model Regresi Logistik"
   ]
  },
  {
   "cell_type": "code",
   "execution_count": 15,
   "id": "46daa067",
   "metadata": {
    "execution": {
     "iopub.execute_input": "2025-01-19T09:05:22.789365Z",
     "iopub.status.busy": "2025-01-19T09:05:22.788951Z",
     "iopub.status.idle": "2025-01-19T09:05:22.793922Z",
     "shell.execute_reply": "2025-01-19T09:05:22.792817Z"
    },
    "papermill": {
     "duration": 0.024542,
     "end_time": "2025-01-19T09:05:22.796284",
     "exception": false,
     "start_time": "2025-01-19T09:05:22.771742",
     "status": "completed"
    },
    "tags": []
   },
   "outputs": [],
   "source": [
    "logreg1 = LogisticRegression() #membuat model"
   ]
  },
  {
   "cell_type": "code",
   "execution_count": 16,
   "id": "2d0d2415",
   "metadata": {
    "execution": {
     "iopub.execute_input": "2025-01-19T09:05:22.826071Z",
     "iopub.status.busy": "2025-01-19T09:05:22.825655Z",
     "iopub.status.idle": "2025-01-19T09:05:22.834741Z",
     "shell.execute_reply": "2025-01-19T09:05:22.833041Z"
    },
    "papermill": {
     "duration": 0.027237,
     "end_time": "2025-01-19T09:05:22.837432",
     "exception": false,
     "start_time": "2025-01-19T09:05:22.810195",
     "status": "completed"
    },
    "tags": []
   },
   "outputs": [],
   "source": [
    "Xrl = df_fin.drop(columns=[\"Potability\"], axis=1) #menentukan variabel independent dan dependent\n",
    "yrl = df_fin[[\"Potability\"]]"
   ]
  },
  {
   "cell_type": "code",
   "execution_count": 17,
   "id": "bfa57057",
   "metadata": {
    "execution": {
     "iopub.execute_input": "2025-01-19T09:05:22.925435Z",
     "iopub.status.busy": "2025-01-19T09:05:22.925029Z",
     "iopub.status.idle": "2025-01-19T09:05:22.935544Z",
     "shell.execute_reply": "2025-01-19T09:05:22.934320Z"
    },
    "papermill": {
     "duration": 0.02838,
     "end_time": "2025-01-19T09:05:22.938114",
     "exception": false,
     "start_time": "2025-01-19T09:05:22.909734",
     "status": "completed"
    },
    "tags": []
   },
   "outputs": [],
   "source": [
    "Xrl_train, Xrl_test, yrl_train, yrl_test = train_test_split(Xrl, yrl, test_size=0.2, random_state=42) #men-split data"
   ]
  },
  {
   "cell_type": "code",
   "execution_count": 18,
   "id": "cf00b7ad",
   "metadata": {
    "execution": {
     "iopub.execute_input": "2025-01-19T09:05:22.968664Z",
     "iopub.status.busy": "2025-01-19T09:05:22.968291Z",
     "iopub.status.idle": "2025-01-19T09:05:23.045592Z",
     "shell.execute_reply": "2025-01-19T09:05:23.043418Z"
    },
    "papermill": {
     "duration": 0.097667,
     "end_time": "2025-01-19T09:05:23.049959",
     "exception": false,
     "start_time": "2025-01-19T09:05:22.952292",
     "status": "completed"
    },
    "tags": []
   },
   "outputs": [
    {
     "name": "stderr",
     "output_type": "stream",
     "text": [
      "/opt/conda/lib/python3.10/site-packages/sklearn/utils/validation.py:1143: DataConversionWarning: A column-vector y was passed when a 1d array was expected. Please change the shape of y to (n_samples, ), for example using ravel().\n",
      "  y = column_or_1d(y, warn=True)\n"
     ]
    },
    {
     "data": {
      "text/html": [
       "<style>#sk-container-id-1 {color: black;background-color: white;}#sk-container-id-1 pre{padding: 0;}#sk-container-id-1 div.sk-toggleable {background-color: white;}#sk-container-id-1 label.sk-toggleable__label {cursor: pointer;display: block;width: 100%;margin-bottom: 0;padding: 0.3em;box-sizing: border-box;text-align: center;}#sk-container-id-1 label.sk-toggleable__label-arrow:before {content: \"▸\";float: left;margin-right: 0.25em;color: #696969;}#sk-container-id-1 label.sk-toggleable__label-arrow:hover:before {color: black;}#sk-container-id-1 div.sk-estimator:hover label.sk-toggleable__label-arrow:before {color: black;}#sk-container-id-1 div.sk-toggleable__content {max-height: 0;max-width: 0;overflow: hidden;text-align: left;background-color: #f0f8ff;}#sk-container-id-1 div.sk-toggleable__content pre {margin: 0.2em;color: black;border-radius: 0.25em;background-color: #f0f8ff;}#sk-container-id-1 input.sk-toggleable__control:checked~div.sk-toggleable__content {max-height: 200px;max-width: 100%;overflow: auto;}#sk-container-id-1 input.sk-toggleable__control:checked~label.sk-toggleable__label-arrow:before {content: \"▾\";}#sk-container-id-1 div.sk-estimator input.sk-toggleable__control:checked~label.sk-toggleable__label {background-color: #d4ebff;}#sk-container-id-1 div.sk-label input.sk-toggleable__control:checked~label.sk-toggleable__label {background-color: #d4ebff;}#sk-container-id-1 input.sk-hidden--visually {border: 0;clip: rect(1px 1px 1px 1px);clip: rect(1px, 1px, 1px, 1px);height: 1px;margin: -1px;overflow: hidden;padding: 0;position: absolute;width: 1px;}#sk-container-id-1 div.sk-estimator {font-family: monospace;background-color: #f0f8ff;border: 1px dotted black;border-radius: 0.25em;box-sizing: border-box;margin-bottom: 0.5em;}#sk-container-id-1 div.sk-estimator:hover {background-color: #d4ebff;}#sk-container-id-1 div.sk-parallel-item::after {content: \"\";width: 100%;border-bottom: 1px solid gray;flex-grow: 1;}#sk-container-id-1 div.sk-label:hover label.sk-toggleable__label {background-color: #d4ebff;}#sk-container-id-1 div.sk-serial::before {content: \"\";position: absolute;border-left: 1px solid gray;box-sizing: border-box;top: 0;bottom: 0;left: 50%;z-index: 0;}#sk-container-id-1 div.sk-serial {display: flex;flex-direction: column;align-items: center;background-color: white;padding-right: 0.2em;padding-left: 0.2em;position: relative;}#sk-container-id-1 div.sk-item {position: relative;z-index: 1;}#sk-container-id-1 div.sk-parallel {display: flex;align-items: stretch;justify-content: center;background-color: white;position: relative;}#sk-container-id-1 div.sk-item::before, #sk-container-id-1 div.sk-parallel-item::before {content: \"\";position: absolute;border-left: 1px solid gray;box-sizing: border-box;top: 0;bottom: 0;left: 50%;z-index: -1;}#sk-container-id-1 div.sk-parallel-item {display: flex;flex-direction: column;z-index: 1;position: relative;background-color: white;}#sk-container-id-1 div.sk-parallel-item:first-child::after {align-self: flex-end;width: 50%;}#sk-container-id-1 div.sk-parallel-item:last-child::after {align-self: flex-start;width: 50%;}#sk-container-id-1 div.sk-parallel-item:only-child::after {width: 0;}#sk-container-id-1 div.sk-dashed-wrapped {border: 1px dashed gray;margin: 0 0.4em 0.5em 0.4em;box-sizing: border-box;padding-bottom: 0.4em;background-color: white;}#sk-container-id-1 div.sk-label label {font-family: monospace;font-weight: bold;display: inline-block;line-height: 1.2em;}#sk-container-id-1 div.sk-label-container {text-align: center;}#sk-container-id-1 div.sk-container {/* jupyter's `normalize.less` sets `[hidden] { display: none; }` but bootstrap.min.css set `[hidden] { display: none !important; }` so we also need the `!important` here to be able to override the default hidden behavior on the sphinx rendered scikit-learn.org. See: https://github.com/scikit-learn/scikit-learn/issues/21755 */display: inline-block !important;position: relative;}#sk-container-id-1 div.sk-text-repr-fallback {display: none;}</style><div id=\"sk-container-id-1\" class=\"sk-top-container\"><div class=\"sk-text-repr-fallback\"><pre>LogisticRegression()</pre><b>In a Jupyter environment, please rerun this cell to show the HTML representation or trust the notebook. <br />On GitHub, the HTML representation is unable to render, please try loading this page with nbviewer.org.</b></div><div class=\"sk-container\" hidden><div class=\"sk-item\"><div class=\"sk-estimator sk-toggleable\"><input class=\"sk-toggleable__control sk-hidden--visually\" id=\"sk-estimator-id-1\" type=\"checkbox\" checked><label for=\"sk-estimator-id-1\" class=\"sk-toggleable__label sk-toggleable__label-arrow\">LogisticRegression</label><div class=\"sk-toggleable__content\"><pre>LogisticRegression()</pre></div></div></div></div></div>"
      ],
      "text/plain": [
       "LogisticRegression()"
      ]
     },
     "execution_count": 18,
     "metadata": {},
     "output_type": "execute_result"
    }
   ],
   "source": [
    "logreg1.fit(Xrl_train, yrl_train)"
   ]
  },
  {
   "cell_type": "code",
   "execution_count": 19,
   "id": "5ff35f6e",
   "metadata": {
    "execution": {
     "iopub.execute_input": "2025-01-19T09:05:23.108586Z",
     "iopub.status.busy": "2025-01-19T09:05:23.107953Z",
     "iopub.status.idle": "2025-01-19T09:05:23.121162Z",
     "shell.execute_reply": "2025-01-19T09:05:23.118972Z"
    },
    "papermill": {
     "duration": 0.047927,
     "end_time": "2025-01-19T09:05:23.125536",
     "exception": false,
     "start_time": "2025-01-19T09:05:23.077609",
     "status": "completed"
    },
    "tags": []
   },
   "outputs": [],
   "source": [
    "yrl_pred = logreg1.predict(Xrl_test) #menguji model"
   ]
  },
  {
   "cell_type": "code",
   "execution_count": 20,
   "id": "f58d8599",
   "metadata": {
    "execution": {
     "iopub.execute_input": "2025-01-19T09:05:23.171201Z",
     "iopub.status.busy": "2025-01-19T09:05:23.170822Z",
     "iopub.status.idle": "2025-01-19T09:05:23.181712Z",
     "shell.execute_reply": "2025-01-19T09:05:23.180528Z"
    },
    "papermill": {
     "duration": 0.030562,
     "end_time": "2025-01-19T09:05:23.184039",
     "exception": false,
     "start_time": "2025-01-19T09:05:23.153477",
     "status": "completed"
    },
    "tags": []
   },
   "outputs": [
    {
     "data": {
      "text/plain": [
       "array([0., 0., 0., 0., 0., 0., 0., 0., 0., 0., 0., 0., 0., 0., 0., 0., 0.,\n",
       "       0., 0., 0., 0., 0., 0., 0., 0., 0., 0., 0., 0., 0., 0., 0., 0., 0.,\n",
       "       0., 0., 0., 0., 0., 0., 0., 0., 0., 0., 0., 0., 0., 0., 0., 0., 0.,\n",
       "       0., 0., 0., 0., 0., 0., 0., 0., 0., 0., 0., 0., 0., 0., 0., 0., 0.,\n",
       "       0., 0., 0., 0., 0., 0., 0., 0., 0., 0., 0., 0., 0., 0., 0., 0., 0.,\n",
       "       0., 0., 0., 0., 0., 0., 0., 0., 0., 0., 0., 0., 0., 0., 0., 0., 0.,\n",
       "       0., 0., 0., 0., 0., 0., 0., 0., 0., 0., 0., 0., 0., 0., 0., 0., 0.,\n",
       "       0., 0., 0., 0., 0., 0., 0., 0., 0., 0., 0., 0., 0., 0., 0., 0., 0.,\n",
       "       0., 0., 0., 0., 0., 0., 0., 0., 0., 0., 0., 0., 0., 0., 0., 0., 0.,\n",
       "       0., 0., 0., 0., 0., 0., 0., 0., 0., 0., 0., 0., 0., 0., 0., 0., 0.,\n",
       "       0., 0., 0., 0., 0., 0., 0., 0., 0., 0., 0., 0., 0., 0., 0., 0., 0.,\n",
       "       0., 0., 0., 0., 0., 0., 0., 0., 0., 0., 0., 0., 0., 0., 0., 0., 0.,\n",
       "       0., 0., 0., 0., 0., 0., 0., 0., 0., 0., 0., 0., 0., 0., 0., 0., 0.,\n",
       "       0., 0., 0., 0., 0., 0., 0., 0., 0., 0., 0., 0., 0., 0., 0., 0., 0.,\n",
       "       0., 0., 0., 0., 0., 0., 0., 0., 0., 0., 0., 0., 0., 0., 0., 0., 0.,\n",
       "       0., 0., 0., 0., 0., 0., 0., 0., 0., 0., 0., 0., 0., 0., 0., 0., 0.,\n",
       "       0., 0., 0., 0., 0., 0., 0., 0., 0., 0., 0., 0., 0., 0., 0., 0., 0.,\n",
       "       0., 0., 0., 0., 0., 0., 0., 0., 0., 0., 0., 0., 0., 0., 0., 0., 0.,\n",
       "       0., 0., 0., 0., 0., 0., 0., 0., 0., 0., 0., 0., 0., 0., 0., 0., 0.,\n",
       "       0., 0., 0., 0., 0., 0., 0., 0., 0., 0., 0., 0., 0., 0., 0., 0., 0.,\n",
       "       0., 0., 0., 0., 0., 0., 0., 0., 0., 0., 0., 0., 0., 0., 0., 0., 0.,\n",
       "       0., 0., 0., 0., 0., 0., 0., 0., 0., 0., 0., 0., 0., 0., 0., 0., 0.,\n",
       "       0., 0., 0., 0., 0., 0., 0., 0., 0., 0., 0., 0., 0., 0., 0., 0., 0.,\n",
       "       0., 0., 0., 0., 0., 0., 0., 0., 0., 0., 0., 0., 0., 0., 0., 0., 0.,\n",
       "       0., 0., 0., 0., 0., 0., 0., 0., 0., 0., 0., 0., 0., 0., 0., 0., 0.,\n",
       "       0., 0., 0., 0., 0., 0., 0., 0., 0., 0., 0., 0., 0., 0., 0., 0., 0.,\n",
       "       0., 0., 0., 0., 0., 0., 0., 0., 0., 0., 0., 0., 0., 0., 0., 0., 0.,\n",
       "       0., 0., 0., 0., 0., 0., 0., 0., 0., 0., 0., 0., 0., 0., 0., 0., 0.,\n",
       "       0., 0., 0., 0., 0., 0., 0., 0., 0., 0., 0., 0., 0., 0., 0., 0., 0.,\n",
       "       0., 0., 0., 0., 0., 0., 0., 0., 0., 0., 0., 0., 0., 0., 0., 0., 0.,\n",
       "       0., 0., 0., 0., 0., 0., 0., 0., 0., 0., 0., 0., 0., 0., 0., 0., 0.,\n",
       "       0., 0., 0., 0., 0., 0., 0., 0., 0., 0., 0., 0., 0., 0., 0., 0., 0.,\n",
       "       0., 0., 0., 0., 0., 0., 0., 0., 0., 0., 0., 0., 0., 0., 0., 0., 0.,\n",
       "       0., 0., 0., 0., 0., 0., 0., 0., 0., 0., 0., 0., 0., 0., 0., 0., 0.,\n",
       "       0., 0., 0., 0., 0., 0., 0., 0., 0., 0., 0., 0., 0., 0., 0., 0., 0.,\n",
       "       0., 0., 0., 0., 0., 0., 0., 0., 0., 0., 0., 0., 0., 0., 0., 0., 0.,\n",
       "       0., 0., 0., 0., 0., 0., 0., 0., 0., 0., 0., 0., 0., 0., 0., 0., 0.,\n",
       "       0., 0., 0., 0., 0., 0., 0., 0., 0., 0., 0., 0., 0., 0., 0., 0., 0.,\n",
       "       0., 0., 0., 0., 0., 0., 0., 0., 0., 0.])"
      ]
     },
     "execution_count": 20,
     "metadata": {},
     "output_type": "execute_result"
    }
   ],
   "source": [
    "yrl_pred #menampilkan hasil"
   ]
  },
  {
   "cell_type": "code",
   "execution_count": 21,
   "id": "4283425c",
   "metadata": {
    "execution": {
     "iopub.execute_input": "2025-01-19T09:05:23.225009Z",
     "iopub.status.busy": "2025-01-19T09:05:23.224100Z",
     "iopub.status.idle": "2025-01-19T09:05:23.238084Z",
     "shell.execute_reply": "2025-01-19T09:05:23.236768Z"
    },
    "papermill": {
     "duration": 0.036564,
     "end_time": "2025-01-19T09:05:23.240681",
     "exception": false,
     "start_time": "2025-01-19T09:05:23.204117",
     "status": "completed"
    },
    "tags": []
   },
   "outputs": [
    {
     "data": {
      "text/html": [
       "<div>\n",
       "<style scoped>\n",
       "    .dataframe tbody tr th:only-of-type {\n",
       "        vertical-align: middle;\n",
       "    }\n",
       "\n",
       "    .dataframe tbody tr th {\n",
       "        vertical-align: top;\n",
       "    }\n",
       "\n",
       "    .dataframe thead th {\n",
       "        text-align: right;\n",
       "    }\n",
       "</style>\n",
       "<table border=\"1\" class=\"dataframe\">\n",
       "  <thead>\n",
       "    <tr style=\"text-align: right;\">\n",
       "      <th></th>\n",
       "      <th>Potability</th>\n",
       "    </tr>\n",
       "  </thead>\n",
       "  <tbody>\n",
       "    <tr>\n",
       "      <th>2947</th>\n",
       "      <td>0.0</td>\n",
       "    </tr>\n",
       "    <tr>\n",
       "      <th>2782</th>\n",
       "      <td>1.0</td>\n",
       "    </tr>\n",
       "    <tr>\n",
       "      <th>1644</th>\n",
       "      <td>0.0</td>\n",
       "    </tr>\n",
       "    <tr>\n",
       "      <th>70</th>\n",
       "      <td>0.0</td>\n",
       "    </tr>\n",
       "    <tr>\n",
       "      <th>2045</th>\n",
       "      <td>1.0</td>\n",
       "    </tr>\n",
       "    <tr>\n",
       "      <th>...</th>\n",
       "      <td>...</td>\n",
       "    </tr>\n",
       "    <tr>\n",
       "      <th>208</th>\n",
       "      <td>0.0</td>\n",
       "    </tr>\n",
       "    <tr>\n",
       "      <th>1578</th>\n",
       "      <td>1.0</td>\n",
       "    </tr>\n",
       "    <tr>\n",
       "      <th>565</th>\n",
       "      <td>0.0</td>\n",
       "    </tr>\n",
       "    <tr>\n",
       "      <th>313</th>\n",
       "      <td>1.0</td>\n",
       "    </tr>\n",
       "    <tr>\n",
       "      <th>601</th>\n",
       "      <td>0.0</td>\n",
       "    </tr>\n",
       "  </tbody>\n",
       "</table>\n",
       "<p>656 rows × 1 columns</p>\n",
       "</div>"
      ],
      "text/plain": [
       "      Potability\n",
       "2947         0.0\n",
       "2782         1.0\n",
       "1644         0.0\n",
       "70           0.0\n",
       "2045         1.0\n",
       "...          ...\n",
       "208          0.0\n",
       "1578         1.0\n",
       "565          0.0\n",
       "313          1.0\n",
       "601          0.0\n",
       "\n",
       "[656 rows x 1 columns]"
      ]
     },
     "execution_count": 21,
     "metadata": {},
     "output_type": "execute_result"
    }
   ],
   "source": [
    "yrl_test"
   ]
  },
  {
   "cell_type": "markdown",
   "id": "39dbfecd",
   "metadata": {
    "papermill": {
     "duration": 0.015467,
     "end_time": "2025-01-19T09:05:23.272115",
     "exception": false,
     "start_time": "2025-01-19T09:05:23.256648",
     "status": "completed"
    },
    "tags": []
   },
   "source": [
    "melihat akurasi model"
   ]
  },
  {
   "cell_type": "code",
   "execution_count": 22,
   "id": "13faf1cf",
   "metadata": {
    "execution": {
     "iopub.execute_input": "2025-01-19T09:05:23.308901Z",
     "iopub.status.busy": "2025-01-19T09:05:23.308348Z",
     "iopub.status.idle": "2025-01-19T09:05:23.324427Z",
     "shell.execute_reply": "2025-01-19T09:05:23.323189Z"
    },
    "papermill": {
     "duration": 0.039264,
     "end_time": "2025-01-19T09:05:23.326952",
     "exception": false,
     "start_time": "2025-01-19T09:05:23.287688",
     "status": "completed"
    },
    "tags": []
   },
   "outputs": [
    {
     "data": {
      "text/plain": [
       "array([[412,   0],\n",
       "       [244,   0]])"
      ]
     },
     "execution_count": 22,
     "metadata": {},
     "output_type": "execute_result"
    }
   ],
   "source": [
    "confusion_matrix(yrl_test, yrl_pred)"
   ]
  },
  {
   "cell_type": "code",
   "execution_count": 23,
   "id": "046342bb",
   "metadata": {
    "execution": {
     "iopub.execute_input": "2025-01-19T09:05:23.363074Z",
     "iopub.status.busy": "2025-01-19T09:05:23.362597Z",
     "iopub.status.idle": "2025-01-19T09:05:23.382550Z",
     "shell.execute_reply": "2025-01-19T09:05:23.381277Z"
    },
    "papermill": {
     "duration": 0.040698,
     "end_time": "2025-01-19T09:05:23.385190",
     "exception": false,
     "start_time": "2025-01-19T09:05:23.344492",
     "status": "completed"
    },
    "tags": []
   },
   "outputs": [
    {
     "data": {
      "text/plain": [
       "13.406480833756987"
      ]
     },
     "execution_count": 23,
     "metadata": {},
     "output_type": "execute_result"
    }
   ],
   "source": [
    "log_loss(yrl_test, yrl_pred)"
   ]
  },
  {
   "cell_type": "code",
   "execution_count": 24,
   "id": "a90a78c1",
   "metadata": {
    "execution": {
     "iopub.execute_input": "2025-01-19T09:05:23.418060Z",
     "iopub.status.busy": "2025-01-19T09:05:23.417682Z",
     "iopub.status.idle": "2025-01-19T09:05:23.433021Z",
     "shell.execute_reply": "2025-01-19T09:05:23.431603Z"
    },
    "papermill": {
     "duration": 0.035186,
     "end_time": "2025-01-19T09:05:23.435786",
     "exception": false,
     "start_time": "2025-01-19T09:05:23.400600",
     "status": "completed"
    },
    "tags": []
   },
   "outputs": [
    {
     "name": "stdout",
     "output_type": "stream",
     "text": [
      "0.31402439024390244\n"
     ]
    }
   ],
   "source": [
    "jaccard_rl = jaccard_score(yrl_test, yrl_pred, average = 'macro')\n",
    "print(jaccard_rl)"
   ]
  },
  {
   "cell_type": "markdown",
   "id": "7f7379ad",
   "metadata": {
    "papermill": {
     "duration": 0.016692,
     "end_time": "2025-01-19T09:05:23.468046",
     "exception": false,
     "start_time": "2025-01-19T09:05:23.451354",
     "status": "completed"
    },
    "tags": []
   },
   "source": [
    "# Model Decision Tree"
   ]
  },
  {
   "cell_type": "code",
   "execution_count": 25,
   "id": "e109560d",
   "metadata": {
    "execution": {
     "iopub.execute_input": "2025-01-19T09:05:23.501007Z",
     "iopub.status.busy": "2025-01-19T09:05:23.500604Z",
     "iopub.status.idle": "2025-01-19T09:05:23.508774Z",
     "shell.execute_reply": "2025-01-19T09:05:23.507643Z"
    },
    "papermill": {
     "duration": 0.027427,
     "end_time": "2025-01-19T09:05:23.511156",
     "exception": false,
     "start_time": "2025-01-19T09:05:23.483729",
     "status": "completed"
    },
    "tags": []
   },
   "outputs": [],
   "source": [
    "Xdt = df_fin.drop(columns=[\"Potability\"], axis=1) #menentukan variabel independent dan dependent\n",
    "ydt = df_fin[[\"Potability\"]]"
   ]
  },
  {
   "cell_type": "code",
   "execution_count": 26,
   "id": "6f40a9d9",
   "metadata": {
    "execution": {
     "iopub.execute_input": "2025-01-19T09:05:23.544741Z",
     "iopub.status.busy": "2025-01-19T09:05:23.544339Z",
     "iopub.status.idle": "2025-01-19T09:05:23.552520Z",
     "shell.execute_reply": "2025-01-19T09:05:23.551447Z"
    },
    "papermill": {
     "duration": 0.027316,
     "end_time": "2025-01-19T09:05:23.555172",
     "exception": false,
     "start_time": "2025-01-19T09:05:23.527856",
     "status": "completed"
    },
    "tags": []
   },
   "outputs": [],
   "source": [
    "Xdt_train, Xdt_test, ydt_train, ydt_test = train_test_split(Xdt, ydt, test_size = 0.3, random_state = 42) #men-split data"
   ]
  },
  {
   "cell_type": "code",
   "execution_count": 27,
   "id": "068c2aff",
   "metadata": {
    "execution": {
     "iopub.execute_input": "2025-01-19T09:05:23.588130Z",
     "iopub.status.busy": "2025-01-19T09:05:23.587147Z",
     "iopub.status.idle": "2025-01-19T09:05:23.592448Z",
     "shell.execute_reply": "2025-01-19T09:05:23.591279Z"
    },
    "papermill": {
     "duration": 0.024464,
     "end_time": "2025-01-19T09:05:23.595000",
     "exception": false,
     "start_time": "2025-01-19T09:05:23.570536",
     "status": "completed"
    },
    "tags": []
   },
   "outputs": [],
   "source": [
    "#membuat model\n",
    "drugtree = DecisionTreeClassifier(criterion = 'entropy', max_depth = 4)"
   ]
  },
  {
   "cell_type": "code",
   "execution_count": 28,
   "id": "53257b55",
   "metadata": {
    "execution": {
     "iopub.execute_input": "2025-01-19T09:05:23.627034Z",
     "iopub.status.busy": "2025-01-19T09:05:23.626649Z",
     "iopub.status.idle": "2025-01-19T09:05:23.654480Z",
     "shell.execute_reply": "2025-01-19T09:05:23.653300Z"
    },
    "papermill": {
     "duration": 0.04644,
     "end_time": "2025-01-19T09:05:23.656719",
     "exception": false,
     "start_time": "2025-01-19T09:05:23.610279",
     "status": "completed"
    },
    "tags": []
   },
   "outputs": [
    {
     "data": {
      "text/html": [
       "<style>#sk-container-id-2 {color: black;background-color: white;}#sk-container-id-2 pre{padding: 0;}#sk-container-id-2 div.sk-toggleable {background-color: white;}#sk-container-id-2 label.sk-toggleable__label {cursor: pointer;display: block;width: 100%;margin-bottom: 0;padding: 0.3em;box-sizing: border-box;text-align: center;}#sk-container-id-2 label.sk-toggleable__label-arrow:before {content: \"▸\";float: left;margin-right: 0.25em;color: #696969;}#sk-container-id-2 label.sk-toggleable__label-arrow:hover:before {color: black;}#sk-container-id-2 div.sk-estimator:hover label.sk-toggleable__label-arrow:before {color: black;}#sk-container-id-2 div.sk-toggleable__content {max-height: 0;max-width: 0;overflow: hidden;text-align: left;background-color: #f0f8ff;}#sk-container-id-2 div.sk-toggleable__content pre {margin: 0.2em;color: black;border-radius: 0.25em;background-color: #f0f8ff;}#sk-container-id-2 input.sk-toggleable__control:checked~div.sk-toggleable__content {max-height: 200px;max-width: 100%;overflow: auto;}#sk-container-id-2 input.sk-toggleable__control:checked~label.sk-toggleable__label-arrow:before {content: \"▾\";}#sk-container-id-2 div.sk-estimator input.sk-toggleable__control:checked~label.sk-toggleable__label {background-color: #d4ebff;}#sk-container-id-2 div.sk-label input.sk-toggleable__control:checked~label.sk-toggleable__label {background-color: #d4ebff;}#sk-container-id-2 input.sk-hidden--visually {border: 0;clip: rect(1px 1px 1px 1px);clip: rect(1px, 1px, 1px, 1px);height: 1px;margin: -1px;overflow: hidden;padding: 0;position: absolute;width: 1px;}#sk-container-id-2 div.sk-estimator {font-family: monospace;background-color: #f0f8ff;border: 1px dotted black;border-radius: 0.25em;box-sizing: border-box;margin-bottom: 0.5em;}#sk-container-id-2 div.sk-estimator:hover {background-color: #d4ebff;}#sk-container-id-2 div.sk-parallel-item::after {content: \"\";width: 100%;border-bottom: 1px solid gray;flex-grow: 1;}#sk-container-id-2 div.sk-label:hover label.sk-toggleable__label {background-color: #d4ebff;}#sk-container-id-2 div.sk-serial::before {content: \"\";position: absolute;border-left: 1px solid gray;box-sizing: border-box;top: 0;bottom: 0;left: 50%;z-index: 0;}#sk-container-id-2 div.sk-serial {display: flex;flex-direction: column;align-items: center;background-color: white;padding-right: 0.2em;padding-left: 0.2em;position: relative;}#sk-container-id-2 div.sk-item {position: relative;z-index: 1;}#sk-container-id-2 div.sk-parallel {display: flex;align-items: stretch;justify-content: center;background-color: white;position: relative;}#sk-container-id-2 div.sk-item::before, #sk-container-id-2 div.sk-parallel-item::before {content: \"\";position: absolute;border-left: 1px solid gray;box-sizing: border-box;top: 0;bottom: 0;left: 50%;z-index: -1;}#sk-container-id-2 div.sk-parallel-item {display: flex;flex-direction: column;z-index: 1;position: relative;background-color: white;}#sk-container-id-2 div.sk-parallel-item:first-child::after {align-self: flex-end;width: 50%;}#sk-container-id-2 div.sk-parallel-item:last-child::after {align-self: flex-start;width: 50%;}#sk-container-id-2 div.sk-parallel-item:only-child::after {width: 0;}#sk-container-id-2 div.sk-dashed-wrapped {border: 1px dashed gray;margin: 0 0.4em 0.5em 0.4em;box-sizing: border-box;padding-bottom: 0.4em;background-color: white;}#sk-container-id-2 div.sk-label label {font-family: monospace;font-weight: bold;display: inline-block;line-height: 1.2em;}#sk-container-id-2 div.sk-label-container {text-align: center;}#sk-container-id-2 div.sk-container {/* jupyter's `normalize.less` sets `[hidden] { display: none; }` but bootstrap.min.css set `[hidden] { display: none !important; }` so we also need the `!important` here to be able to override the default hidden behavior on the sphinx rendered scikit-learn.org. See: https://github.com/scikit-learn/scikit-learn/issues/21755 */display: inline-block !important;position: relative;}#sk-container-id-2 div.sk-text-repr-fallback {display: none;}</style><div id=\"sk-container-id-2\" class=\"sk-top-container\"><div class=\"sk-text-repr-fallback\"><pre>DecisionTreeClassifier(criterion=&#x27;entropy&#x27;, max_depth=4)</pre><b>In a Jupyter environment, please rerun this cell to show the HTML representation or trust the notebook. <br />On GitHub, the HTML representation is unable to render, please try loading this page with nbviewer.org.</b></div><div class=\"sk-container\" hidden><div class=\"sk-item\"><div class=\"sk-estimator sk-toggleable\"><input class=\"sk-toggleable__control sk-hidden--visually\" id=\"sk-estimator-id-2\" type=\"checkbox\" checked><label for=\"sk-estimator-id-2\" class=\"sk-toggleable__label sk-toggleable__label-arrow\">DecisionTreeClassifier</label><div class=\"sk-toggleable__content\"><pre>DecisionTreeClassifier(criterion=&#x27;entropy&#x27;, max_depth=4)</pre></div></div></div></div></div>"
      ],
      "text/plain": [
       "DecisionTreeClassifier(criterion='entropy', max_depth=4)"
      ]
     },
     "execution_count": 28,
     "metadata": {},
     "output_type": "execute_result"
    }
   ],
   "source": [
    "drugtree.fit(Xdt_train, ydt_train) #melakukan training"
   ]
  },
  {
   "cell_type": "code",
   "execution_count": 29,
   "id": "5f2f4846",
   "metadata": {
    "execution": {
     "iopub.execute_input": "2025-01-19T09:05:23.690025Z",
     "iopub.status.busy": "2025-01-19T09:05:23.689627Z",
     "iopub.status.idle": "2025-01-19T09:05:23.703952Z",
     "shell.execute_reply": "2025-01-19T09:05:23.702686Z"
    },
    "papermill": {
     "duration": 0.033347,
     "end_time": "2025-01-19T09:05:23.706459",
     "exception": false,
     "start_time": "2025-01-19T09:05:23.673112",
     "status": "completed"
    },
    "tags": []
   },
   "outputs": [
    {
     "data": {
      "text/plain": [
       "array([0., 0., 0., 0., 0., 1., 0., 0., 1., 0., 0., 0., 0., 0., 0., 0., 0.,\n",
       "       0., 0., 0., 0., 0., 0., 0., 0., 0., 0., 0., 0., 0., 0., 0., 0., 0.,\n",
       "       0., 0., 0., 0., 0., 0., 0., 0., 0., 0., 0., 0., 0., 0., 0., 0., 0.,\n",
       "       0., 0., 0., 0., 0., 0., 0., 0., 0., 0., 0., 0., 0., 0., 0., 0., 0.,\n",
       "       0., 0., 0., 0., 0., 0., 0., 0., 0., 0., 0., 0., 0., 0., 0., 0., 0.,\n",
       "       0., 0., 0., 0., 0., 0., 0., 0., 0., 0., 0., 0., 0., 0., 0., 0., 0.,\n",
       "       0., 0., 0., 0., 0., 0., 0., 0., 0., 0., 0., 0., 0., 0., 0., 0., 0.,\n",
       "       0., 0., 0., 0., 0., 0., 1., 0., 0., 0., 0., 0., 0., 0., 0., 0., 0.,\n",
       "       0., 0., 0., 0., 0., 0., 0., 0., 0., 0., 0., 0., 0., 0., 0., 0., 0.,\n",
       "       0., 1., 0., 0., 0., 0., 0., 0., 0., 0., 0., 0., 0., 0., 0., 0., 0.,\n",
       "       0., 0., 0., 0., 0., 0., 0., 0., 0., 1., 0., 0., 0., 0., 0., 0., 0.,\n",
       "       0., 0., 0., 0., 0., 0., 0., 0., 0., 0., 0., 0., 1., 0., 0., 0., 0.,\n",
       "       0., 0., 0., 0., 0., 0., 0., 0., 0., 0., 0., 0., 0., 0., 0., 0., 0.,\n",
       "       0., 0., 0., 0., 0., 0., 0., 0., 0., 0., 0., 0., 0., 0., 0., 0., 0.,\n",
       "       0., 0., 0., 0., 0., 0., 0., 0., 0., 0., 0., 0., 0., 0., 0., 0., 0.,\n",
       "       0., 0., 0., 0., 0., 0., 0., 0., 0., 0., 0., 0., 0., 0., 0., 0., 0.,\n",
       "       0., 0., 0., 0., 0., 1., 0., 0., 0., 0., 0., 0., 0., 0., 0., 0., 0.,\n",
       "       0., 0., 0., 0., 0., 0., 0., 0., 0., 0., 1., 0., 0., 0., 0., 0., 0.,\n",
       "       0., 0., 0., 0., 0., 0., 0., 0., 0., 0., 0., 0., 0., 0., 0., 0., 1.,\n",
       "       1., 0., 0., 0., 0., 0., 0., 0., 0., 0., 0., 0., 0., 0., 0., 0., 0.,\n",
       "       0., 0., 0., 0., 0., 1., 0., 0., 0., 0., 0., 0., 0., 0., 0., 0., 1.,\n",
       "       0., 0., 0., 0., 0., 0., 0., 0., 0., 0., 0., 0., 0., 0., 0., 0., 1.,\n",
       "       0., 0., 0., 0., 0., 0., 0., 0., 0., 0., 0., 0., 0., 0., 0., 0., 0.,\n",
       "       0., 0., 0., 1., 0., 0., 0., 0., 0., 0., 0., 1., 0., 0., 0., 1., 0.,\n",
       "       1., 0., 0., 0., 1., 0., 0., 0., 0., 0., 0., 0., 0., 0., 0., 0., 0.,\n",
       "       0., 0., 0., 0., 0., 0., 0., 1., 0., 0., 0., 0., 0., 0., 0., 0., 0.,\n",
       "       0., 0., 0., 0., 0., 0., 1., 0., 0., 0., 0., 0., 0., 0., 0., 1., 0.,\n",
       "       0., 0., 0., 0., 1., 0., 0., 0., 0., 0., 0., 0., 1., 0., 0., 0., 0.,\n",
       "       0., 0., 0., 0., 0., 0., 0., 0., 0., 0., 0., 0., 0., 0., 0., 0., 0.,\n",
       "       0., 0., 0., 0., 0., 0., 0., 0., 0., 0., 0., 0., 0., 0., 0., 0., 0.,\n",
       "       0., 0., 0., 0., 0., 0., 0., 0., 0., 0., 0., 0., 0., 0., 0., 0., 0.,\n",
       "       0., 0., 0., 0., 0., 0., 0., 0., 0., 0., 0., 1., 0., 0., 0., 0., 0.,\n",
       "       0., 0., 0., 0., 0., 0., 0., 0., 0., 0., 0., 0., 0., 0., 0., 0., 0.,\n",
       "       0., 0., 0., 0., 0., 0., 0., 0., 0., 0., 1., 0., 0., 0., 1., 0., 0.,\n",
       "       0., 0., 0., 0., 0., 0., 0., 0., 0., 1., 0., 0., 0., 0., 0., 0., 0.,\n",
       "       0., 0., 0., 0., 0., 0., 0., 0., 0., 0., 0., 0., 0., 0., 0., 0., 0.,\n",
       "       0., 0., 0., 0., 0., 0., 0., 0., 0., 0., 1., 0., 0., 0., 1., 0., 0.,\n",
       "       0., 0., 0., 0., 0., 0., 0., 0., 1., 0., 0., 0., 0., 0., 0., 0., 0.,\n",
       "       0., 0., 0., 0., 0., 0., 0., 0., 0., 0., 0., 0., 0., 0., 0., 0., 0.,\n",
       "       0., 0., 0., 0., 0., 0., 0., 0., 0., 0., 0., 0., 0., 0., 0., 0., 0.,\n",
       "       0., 0., 0., 0., 0., 0., 0., 1., 0., 0., 0., 0., 0., 0., 0., 0., 0.,\n",
       "       0., 0., 0., 0., 0., 0., 0., 0., 0., 0., 0., 0., 0., 0., 0., 0., 0.,\n",
       "       0., 0., 0., 0., 0., 0., 0., 0., 0., 1., 0., 0., 0., 1., 0., 1., 0.,\n",
       "       0., 0., 0., 0., 1., 0., 0., 0., 0., 0., 0., 0., 1., 0., 0., 0., 0.,\n",
       "       0., 0., 0., 0., 0., 0., 0., 0., 0., 0., 0., 0., 0., 0., 0., 0., 0.,\n",
       "       0., 0., 0., 0., 0., 0., 0., 0., 0., 0., 0., 0., 0., 0., 0., 0., 0.,\n",
       "       0., 0., 0., 0., 1., 0., 0., 0., 0., 0., 0., 0., 0., 0., 0., 0., 0.,\n",
       "       0., 0., 0., 0., 0., 0., 0., 0., 0., 0., 0., 0., 0., 0., 0., 0., 0.,\n",
       "       0., 0., 0., 0., 0., 0., 0., 0., 0., 0., 0., 0., 0., 0., 0., 0., 1.,\n",
       "       0., 0., 0., 0., 0., 0., 0., 0., 0., 0., 0., 1., 0., 0., 0., 0., 0.,\n",
       "       0., 0., 0., 0., 0., 0., 0., 0., 0., 0., 0., 0., 0., 0., 0., 0., 0.,\n",
       "       0., 0., 0., 0., 0., 0., 1., 0., 0., 0., 0., 0., 0., 0., 1., 0., 0.,\n",
       "       0., 0., 0., 0., 0., 0., 0., 0., 0., 0., 0., 0., 0., 0., 0., 0., 0.,\n",
       "       0., 1., 0., 0., 0., 0., 0., 0., 0., 0., 0., 0., 0., 0., 0., 0., 0.,\n",
       "       0., 0., 0., 0., 0., 0., 0., 0., 0., 0., 0., 0., 0., 0., 0., 0., 0.,\n",
       "       0., 0., 0., 0., 0., 0., 0., 0., 0., 0., 0., 0., 0., 0., 0., 0., 0.,\n",
       "       0., 0., 0., 0., 0., 0., 0., 0., 0., 0., 0., 0., 0., 0., 0., 0., 0.,\n",
       "       0., 0., 0., 0., 0., 0., 0., 0., 0., 0., 0., 0., 0., 0.])"
      ]
     },
     "execution_count": 29,
     "metadata": {},
     "output_type": "execute_result"
    }
   ],
   "source": [
    "predTree = drugtree.predict(Xdt_test) #menggunakan model untuk prediksi\n",
    "predTree"
   ]
  },
  {
   "cell_type": "markdown",
   "id": "5c638e69",
   "metadata": {
    "papermill": {
     "duration": 0.014972,
     "end_time": "2025-01-19T09:05:23.736907",
     "exception": false,
     "start_time": "2025-01-19T09:05:23.721935",
     "status": "completed"
    },
    "tags": []
   },
   "source": [
    "# Akurasi"
   ]
  },
  {
   "cell_type": "code",
   "execution_count": 30,
   "id": "cc603006",
   "metadata": {
    "execution": {
     "iopub.execute_input": "2025-01-19T09:05:23.770728Z",
     "iopub.status.busy": "2025-01-19T09:05:23.770335Z",
     "iopub.status.idle": "2025-01-19T09:05:23.781670Z",
     "shell.execute_reply": "2025-01-19T09:05:23.780482Z"
    },
    "papermill": {
     "duration": 0.031261,
     "end_time": "2025-01-19T09:05:23.784158",
     "exception": false,
     "start_time": "2025-01-19T09:05:23.752897",
     "status": "completed"
    },
    "tags": []
   },
   "outputs": [
    {
     "name": "stdout",
     "output_type": "stream",
     "text": [
      "Accuracy :  0.6317395727365208\n"
     ]
    }
   ],
   "source": [
    "#melihat akurasi model\n",
    "print(\"Accuracy : \", accuracy_score(ydt_test, predTree))"
   ]
  },
  {
   "cell_type": "code",
   "execution_count": 31,
   "id": "45eba2ae",
   "metadata": {
    "execution": {
     "iopub.execute_input": "2025-01-19T09:05:23.817047Z",
     "iopub.status.busy": "2025-01-19T09:05:23.816711Z",
     "iopub.status.idle": "2025-01-19T09:05:23.832308Z",
     "shell.execute_reply": "2025-01-19T09:05:23.830998Z"
    },
    "papermill": {
     "duration": 0.034955,
     "end_time": "2025-01-19T09:05:23.834755",
     "exception": false,
     "start_time": "2025-01-19T09:05:23.799800",
     "status": "completed"
    },
    "tags": []
   },
   "outputs": [
    {
     "name": "stdout",
     "output_type": "stream",
     "text": [
      "0.3413284632034632\n"
     ]
    }
   ],
   "source": [
    "jaccard_dt = jaccard_score(ydt_test, predTree, average='macro')\n",
    "print(jaccard_dt)"
   ]
  },
  {
   "cell_type": "markdown",
   "id": "9e8300e3",
   "metadata": {
    "papermill": {
     "duration": 0.015517,
     "end_time": "2025-01-19T09:05:23.865736",
     "exception": false,
     "start_time": "2025-01-19T09:05:23.850219",
     "status": "completed"
    },
    "tags": []
   },
   "source": [
    "# Membuat visualisasi dari Decision Tree"
   ]
  },
  {
   "cell_type": "code",
   "execution_count": 32,
   "id": "8e2fe02f",
   "metadata": {
    "execution": {
     "iopub.execute_input": "2025-01-19T09:05:23.899432Z",
     "iopub.status.busy": "2025-01-19T09:05:23.899052Z",
     "iopub.status.idle": "2025-01-19T09:05:23.904170Z",
     "shell.execute_reply": "2025-01-19T09:05:23.902952Z"
    },
    "papermill": {
     "duration": 0.024173,
     "end_time": "2025-01-19T09:05:23.906594",
     "exception": false,
     "start_time": "2025-01-19T09:05:23.882421",
     "status": "completed"
    },
    "tags": []
   },
   "outputs": [],
   "source": [
    "from sklearn import tree"
   ]
  },
  {
   "cell_type": "code",
   "execution_count": 33,
   "id": "c206a632",
   "metadata": {
    "execution": {
     "iopub.execute_input": "2025-01-19T09:05:23.939787Z",
     "iopub.status.busy": "2025-01-19T09:05:23.939421Z",
     "iopub.status.idle": "2025-01-19T09:05:25.261425Z",
     "shell.execute_reply": "2025-01-19T09:05:25.260118Z"
    },
    "papermill": {
     "duration": 1.341621,
     "end_time": "2025-01-19T09:05:25.264057",
     "exception": false,
     "start_time": "2025-01-19T09:05:23.922436",
     "status": "completed"
    },
    "tags": []
   },
   "outputs": [
    {
     "data": {
      "image/png": "[encoded data removed]",
      "text/plain": [
       "<Figure size 640x480 with 1 Axes>"
      ]
     },
     "metadata": {},
     "output_type": "display_data"
    }
   ],
   "source": [
    "featureNames = df_fin.columns[0:9]\n",
    "graph = tree.plot_tree(drugtree,\n",
    "                       feature_names=featureNames,\n",
    "                       class_names=[\"1\", \"0\"],\n",
    "                       filled=True)"
   ]
  },
  {
   "cell_type": "code",
   "execution_count": 34,
   "id": "3bbeaab2",
   "metadata": {
    "execution": {
     "iopub.execute_input": "2025-01-19T09:05:25.299651Z",
     "iopub.status.busy": "2025-01-19T09:05:25.299219Z",
     "iopub.status.idle": "2025-01-19T09:05:26.988514Z",
     "shell.execute_reply": "2025-01-19T09:05:26.987282Z"
    },
    "papermill": {
     "duration": 1.71236,
     "end_time": "2025-01-19T09:05:26.993334",
     "exception": false,
     "start_time": "2025-01-19T09:05:25.280974",
     "status": "completed"
    },
    "tags": []
   },
   "outputs": [
    {
     "data": {
      "image/png": "[encoded data removed]",
      "text/plain": [
       "<Figure size 2000x1000 with 1 Axes>"
      ]
     },
     "metadata": {},
     "output_type": "display_data"
    }
   ],
   "source": [
    "import matplotlib.pyplot as plt\n",
    "from sklearn import tree\n",
    "\n",
    "# Menentukan nama fitur\n",
    "featureNames = df_fin.columns[0:9]\n",
    "\n",
    "# Memplot pohon keputusan\n",
    "plt.figure(figsize=(20,10))  # Atur ukuran gambar\n",
    "graph = tree.plot_tree(drugtree,\n",
    "                       feature_names=featureNames,\n",
    "                       class_names=[\"1\", \"0\"],\n",
    "                       filled=True)\n",
    "\n",
    "# Menyimpan plot ke dalam file PNG\n",
    "plt.savefig('decision_tree.png')\n",
    "\n",
    "# Menampilkan plot\n",
    "plt.show()"
   ]
  },
  {
   "cell_type": "markdown",
   "id": "2e42838c",
   "metadata": {
    "papermill": {
     "duration": 0.021022,
     "end_time": "2025-01-19T09:05:27.035215",
     "exception": false,
     "start_time": "2025-01-19T09:05:27.014193",
     "status": "completed"
    },
    "tags": []
   },
   "source": [
    "# SVM"
   ]
  },
  {
   "cell_type": "code",
   "execution_count": 35,
   "id": "a2320396",
   "metadata": {
    "execution": {
     "iopub.execute_input": "2025-01-19T09:05:27.081415Z",
     "iopub.status.busy": "2025-01-19T09:05:27.080190Z",
     "iopub.status.idle": "2025-01-19T09:05:27.094200Z",
     "shell.execute_reply": "2025-01-19T09:05:27.092601Z"
    },
    "papermill": {
     "duration": 0.040481,
     "end_time": "2025-01-19T09:05:27.096672",
     "exception": false,
     "start_time": "2025-01-19T09:05:27.056191",
     "status": "completed"
    },
    "tags": []
   },
   "outputs": [
    {
     "name": "stdout",
     "output_type": "stream",
     "text": [
      "<class 'pandas.core.frame.DataFrame'>\n",
      "RangeIndex: 3276 entries, 0 to 3275\n",
      "Data columns (total 10 columns):\n",
      " #   Column           Non-Null Count  Dtype  \n",
      "---  ------           --------------  -----  \n",
      " 0   ph               3276 non-null   float64\n",
      " 1   Hardness         3276 non-null   float64\n",
      " 2   Solids           3276 non-null   float64\n",
      " 3   Chloramines      3276 non-null   float64\n",
      " 4   Sulfate          3276 non-null   float64\n",
      " 5   Conductivity     3276 non-null   float64\n",
      " 6   Organic_carbon   3276 non-null   float64\n",
      " 7   Trihalomethanes  3276 non-null   float64\n",
      " 8   Turbidity        3276 non-null   float64\n",
      " 9   Potability       3276 non-null   float64\n",
      "dtypes: float64(10)\n",
      "memory usage: 256.1 KB\n"
     ]
    }
   ],
   "source": [
    "df_fin.info()"
   ]
  },
  {
   "cell_type": "code",
   "execution_count": 36,
   "id": "4ab470ce",
   "metadata": {
    "execution": {
     "iopub.execute_input": "2025-01-19T09:05:27.138535Z",
     "iopub.status.busy": "2025-01-19T09:05:27.138126Z",
     "iopub.status.idle": "2025-01-19T09:05:27.149179Z",
     "shell.execute_reply": "2025-01-19T09:05:27.148097Z"
    },
    "papermill": {
     "duration": 0.035365,
     "end_time": "2025-01-19T09:05:27.151718",
     "exception": false,
     "start_time": "2025-01-19T09:05:27.116353",
     "status": "completed"
    },
    "tags": []
   },
   "outputs": [
    {
     "data": {
      "text/plain": [
       "array([[6.65522342e+00, 2.04890455e+02, 2.07913190e+04, 7.30021187e+00,\n",
       "        3.68516441e+02, 5.64308654e+02, 1.03797831e+01, 8.69909705e+01,\n",
       "        2.96313538e+00],\n",
       "       [3.71608008e+00, 1.29422921e+02, 1.86300579e+04, 6.63524588e+00,\n",
       "        3.51285226e+02, 5.92885359e+02, 1.51800131e+01, 5.63290763e+01,\n",
       "        4.50065627e+00],\n",
       "       [8.09912419e+00, 2.24236259e+02, 1.99095417e+04, 9.27588360e+00,\n",
       "        3.47323743e+02, 4.18606213e+02, 1.68686369e+01, 6.64200925e+01,\n",
       "        3.05593375e+00],\n",
       "       [8.31676588e+00, 2.14373394e+02, 2.20184174e+04, 8.05933238e+00,\n",
       "        3.56886136e+02, 3.63266516e+02, 1.84365245e+01, 1.00341674e+02,\n",
       "        4.62877054e+00],\n",
       "       [9.09222346e+00, 1.81101509e+02, 1.79789863e+04, 6.54659997e+00,\n",
       "        3.10135738e+02, 3.98410813e+02, 1.15582794e+01, 3.19979927e+01,\n",
       "        4.07507543e+00]])"
      ]
     },
     "execution_count": 36,
     "metadata": {},
     "output_type": "execute_result"
    }
   ],
   "source": [
    "#set X\n",
    "feature_df = df_fin[['ph', 'Hardness','Solids','Chloramines','Sulfate','Conductivity','Organic_carbon','Trihalomethanes','Turbidity']].values\n",
    "Xs = np.asarray(feature_df)\n",
    "Xs[0:5]"
   ]
  },
  {
   "cell_type": "code",
   "execution_count": 37,
   "id": "b0b000fb",
   "metadata": {
    "execution": {
     "iopub.execute_input": "2025-01-19T09:05:27.194123Z",
     "iopub.status.busy": "2025-01-19T09:05:27.193757Z",
     "iopub.status.idle": "2025-01-19T09:05:27.202682Z",
     "shell.execute_reply": "2025-01-19T09:05:27.201551Z"
    },
    "papermill": {
     "duration": 0.033673,
     "end_time": "2025-01-19T09:05:27.205000",
     "exception": false,
     "start_time": "2025-01-19T09:05:27.171327",
     "status": "completed"
    },
    "tags": []
   },
   "outputs": [
    {
     "data": {
      "text/plain": [
       "array([0, 0, 0, 0, 0, 0, 0, 0, 0, 0, 0, 0, 0, 0, 0, 0, 0, 0, 0, 0, 0, 0,\n",
       "       0, 0, 0, 0, 0, 0, 0, 0, 0, 0, 0, 0, 0, 0, 0, 0, 0, 0, 0, 0, 0, 0,\n",
       "       0, 0, 0, 0, 0, 0, 0, 0, 0, 0, 0, 0, 0, 0, 0, 0, 0, 0, 0, 0, 0, 0,\n",
       "       0, 0, 0, 0, 0, 0, 0, 0, 0, 0, 0, 0, 0, 0, 0, 0, 0, 0, 0, 0, 0, 0,\n",
       "       0, 0, 0, 0, 0, 0, 0, 0, 0, 0, 0, 0])"
      ]
     },
     "execution_count": 37,
     "metadata": {},
     "output_type": "execute_result"
    }
   ],
   "source": [
    "#set Y\n",
    "df_fin['Potability'] = df_fin['Potability'].astype('int')\n",
    "ys=np.asarray(df_fin['Potability'])\n",
    "ys[0:100]"
   ]
  },
  {
   "cell_type": "code",
   "execution_count": 38,
   "id": "c246a330",
   "metadata": {
    "execution": {
     "iopub.execute_input": "2025-01-19T09:05:27.247910Z",
     "iopub.status.busy": "2025-01-19T09:05:27.247534Z",
     "iopub.status.idle": "2025-01-19T09:05:27.256900Z",
     "shell.execute_reply": "2025-01-19T09:05:27.255742Z"
    },
    "papermill": {
     "duration": 0.033857,
     "end_time": "2025-01-19T09:05:27.259353",
     "exception": false,
     "start_time": "2025-01-19T09:05:27.225496",
     "status": "completed"
    },
    "tags": []
   },
   "outputs": [
    {
     "name": "stdout",
     "output_type": "stream",
     "text": [
      "Train set: (2620, 9) (2620,)\n",
      "Train set: (656, 9) (656,)\n"
     ]
    }
   ],
   "source": [
    "#train-test split\n",
    "train_xs,test_xs,train_ys,test_ys=train_test_split(Xs,ys, test_size=0.2,random_state=4)\n",
    "print('Train set:', train_xs.shape,train_ys.shape)\n",
    "print('Train set:', test_xs.shape,test_ys.shape)"
   ]
  },
  {
   "cell_type": "markdown",
   "id": "6664e8b5",
   "metadata": {
    "papermill": {
     "duration": 0.019804,
     "end_time": "2025-01-19T09:05:27.301539",
     "exception": false,
     "start_time": "2025-01-19T09:05:27.281735",
     "status": "completed"
    },
    "tags": []
   },
   "source": [
    "# Membuat Model"
   ]
  },
  {
   "cell_type": "code",
   "execution_count": 39,
   "id": "a110325a",
   "metadata": {
    "execution": {
     "iopub.execute_input": "2025-01-19T09:05:27.344087Z",
     "iopub.status.busy": "2025-01-19T09:05:27.343094Z",
     "iopub.status.idle": "2025-01-19T09:05:27.678940Z",
     "shell.execute_reply": "2025-01-19T09:05:27.677708Z"
    },
    "papermill": {
     "duration": 0.360094,
     "end_time": "2025-01-19T09:05:27.681509",
     "exception": false,
     "start_time": "2025-01-19T09:05:27.321415",
     "status": "completed"
    },
    "tags": []
   },
   "outputs": [
    {
     "data": {
      "text/html": [
       "<style>#sk-container-id-3 {color: black;background-color: white;}#sk-container-id-3 pre{padding: 0;}#sk-container-id-3 div.sk-toggleable {background-color: white;}#sk-container-id-3 label.sk-toggleable__label {cursor: pointer;display: block;width: 100%;margin-bottom: 0;padding: 0.3em;box-sizing: border-box;text-align: center;}#sk-container-id-3 label.sk-toggleable__label-arrow:before {content: \"▸\";float: left;margin-right: 0.25em;color: #696969;}#sk-container-id-3 label.sk-toggleable__label-arrow:hover:before {color: black;}#sk-container-id-3 div.sk-estimator:hover label.sk-toggleable__label-arrow:before {color: black;}#sk-container-id-3 div.sk-toggleable__content {max-height: 0;max-width: 0;overflow: hidden;text-align: left;background-color: #f0f8ff;}#sk-container-id-3 div.sk-toggleable__content pre {margin: 0.2em;color: black;border-radius: 0.25em;background-color: #f0f8ff;}#sk-container-id-3 input.sk-toggleable__control:checked~div.sk-toggleable__content {max-height: 200px;max-width: 100%;overflow: auto;}#sk-container-id-3 input.sk-toggleable__control:checked~label.sk-toggleable__label-arrow:before {content: \"▾\";}#sk-container-id-3 div.sk-estimator input.sk-toggleable__control:checked~label.sk-toggleable__label {background-color: #d4ebff;}#sk-container-id-3 div.sk-label input.sk-toggleable__control:checked~label.sk-toggleable__label {background-color: #d4ebff;}#sk-container-id-3 input.sk-hidden--visually {border: 0;clip: rect(1px 1px 1px 1px);clip: rect(1px, 1px, 1px, 1px);height: 1px;margin: -1px;overflow: hidden;padding: 0;position: absolute;width: 1px;}#sk-container-id-3 div.sk-estimator {font-family: monospace;background-color: #f0f8ff;border: 1px dotted black;border-radius: 0.25em;box-sizing: border-box;margin-bottom: 0.5em;}#sk-container-id-3 div.sk-estimator:hover {background-color: #d4ebff;}#sk-container-id-3 div.sk-parallel-item::after {content: \"\";width: 100%;border-bottom: 1px solid gray;flex-grow: 1;}#sk-container-id-3 div.sk-label:hover label.sk-toggleable__label {background-color: #d4ebff;}#sk-container-id-3 div.sk-serial::before {content: \"\";position: absolute;border-left: 1px solid gray;box-sizing: border-box;top: 0;bottom: 0;left: 50%;z-index: 0;}#sk-container-id-3 div.sk-serial {display: flex;flex-direction: column;align-items: center;background-color: white;padding-right: 0.2em;padding-left: 0.2em;position: relative;}#sk-container-id-3 div.sk-item {position: relative;z-index: 1;}#sk-container-id-3 div.sk-parallel {display: flex;align-items: stretch;justify-content: center;background-color: white;position: relative;}#sk-container-id-3 div.sk-item::before, #sk-container-id-3 div.sk-parallel-item::before {content: \"\";position: absolute;border-left: 1px solid gray;box-sizing: border-box;top: 0;bottom: 0;left: 50%;z-index: -1;}#sk-container-id-3 div.sk-parallel-item {display: flex;flex-direction: column;z-index: 1;position: relative;background-color: white;}#sk-container-id-3 div.sk-parallel-item:first-child::after {align-self: flex-end;width: 50%;}#sk-container-id-3 div.sk-parallel-item:last-child::after {align-self: flex-start;width: 50%;}#sk-container-id-3 div.sk-parallel-item:only-child::after {width: 0;}#sk-container-id-3 div.sk-dashed-wrapped {border: 1px dashed gray;margin: 0 0.4em 0.5em 0.4em;box-sizing: border-box;padding-bottom: 0.4em;background-color: white;}#sk-container-id-3 div.sk-label label {font-family: monospace;font-weight: bold;display: inline-block;line-height: 1.2em;}#sk-container-id-3 div.sk-label-container {text-align: center;}#sk-container-id-3 div.sk-container {/* jupyter's `normalize.less` sets `[hidden] { display: none; }` but bootstrap.min.css set `[hidden] { display: none !important; }` so we also need the `!important` here to be able to override the default hidden behavior on the sphinx rendered scikit-learn.org. See: https://github.com/scikit-learn/scikit-learn/issues/21755 */display: inline-block !important;position: relative;}#sk-container-id-3 div.sk-text-repr-fallback {display: none;}</style><div id=\"sk-container-id-3\" class=\"sk-top-container\"><div class=\"sk-text-repr-fallback\"><pre>SVC()</pre><b>In a Jupyter environment, please rerun this cell to show the HTML representation or trust the notebook. <br />On GitHub, the HTML representation is unable to render, please try loading this page with nbviewer.org.</b></div><div class=\"sk-container\" hidden><div class=\"sk-item\"><div class=\"sk-estimator sk-toggleable\"><input class=\"sk-toggleable__control sk-hidden--visually\" id=\"sk-estimator-id-3\" type=\"checkbox\" checked><label for=\"sk-estimator-id-3\" class=\"sk-toggleable__label sk-toggleable__label-arrow\">SVC</label><div class=\"sk-toggleable__content\"><pre>SVC()</pre></div></div></div></div></div>"
      ],
      "text/plain": [
       "SVC()"
      ]
     },
     "execution_count": 39,
     "metadata": {},
     "output_type": "execute_result"
    }
   ],
   "source": [
    "#membuat model\n",
    "from sklearn import svm\n",
    "clf = svm.SVC(kernel='rbf')\n",
    "clf.fit(train_xs,train_ys)"
   ]
  },
  {
   "cell_type": "code",
   "execution_count": 40,
   "id": "06861213",
   "metadata": {
    "execution": {
     "iopub.execute_input": "2025-01-19T09:05:27.725455Z",
     "iopub.status.busy": "2025-01-19T09:05:27.725037Z",
     "iopub.status.idle": "2025-01-19T09:05:27.811141Z",
     "shell.execute_reply": "2025-01-19T09:05:27.810009Z"
    },
    "papermill": {
     "duration": 0.111742,
     "end_time": "2025-01-19T09:05:27.813449",
     "exception": false,
     "start_time": "2025-01-19T09:05:27.701707",
     "status": "completed"
    },
    "tags": []
   },
   "outputs": [
    {
     "data": {
      "text/plain": [
       "array([0, 0, 0, 0, 0, 0, 0, 0, 0, 0, 0, 0, 0, 0, 0, 0, 0, 0, 0, 0, 0, 0,\n",
       "       0, 0, 0, 0, 0, 0, 0, 0, 0, 0, 0, 0, 0, 0, 0, 0, 0, 0, 0, 0, 0, 0,\n",
       "       0, 0, 0, 0, 0, 0, 0, 0, 0, 0, 0, 0, 0, 0, 0, 0, 0, 0, 0, 0, 0, 0,\n",
       "       0, 0, 0, 0, 0, 0, 0, 0, 0, 0, 0, 0, 0, 0, 0, 0, 0, 0, 0, 0, 0, 0,\n",
       "       0, 0, 0, 0, 0, 0, 0, 0, 0, 0, 0, 0])"
      ]
     },
     "execution_count": 40,
     "metadata": {},
     "output_type": "execute_result"
    }
   ],
   "source": [
    "#Prediksi\n",
    "yhat = clf.predict(test_xs)\n",
    "yhat[0:100]"
   ]
  },
  {
   "cell_type": "markdown",
   "id": "935bffe1",
   "metadata": {
    "papermill": {
     "duration": 0.019876,
     "end_time": "2025-01-19T09:05:27.853415",
     "exception": false,
     "start_time": "2025-01-19T09:05:27.833539",
     "status": "completed"
    },
    "tags": []
   },
   "source": [
    "# Evaluasi"
   ]
  },
  {
   "cell_type": "code",
   "execution_count": 41,
   "id": "5c0d18b3",
   "metadata": {
    "execution": {
     "iopub.execute_input": "2025-01-19T09:05:27.896092Z",
     "iopub.status.busy": "2025-01-19T09:05:27.895700Z",
     "iopub.status.idle": "2025-01-19T09:05:27.904762Z",
     "shell.execute_reply": "2025-01-19T09:05:27.903461Z"
    },
    "papermill": {
     "duration": 0.033734,
     "end_time": "2025-01-19T09:05:27.907212",
     "exception": false,
     "start_time": "2025-01-19T09:05:27.873478",
     "status": "completed"
    },
    "tags": []
   },
   "outputs": [
    {
     "name": "stdout",
     "output_type": "stream",
     "text": [
      "0.31097560975609756\n"
     ]
    }
   ],
   "source": [
    "#jaccard score\n",
    "from sklearn.metrics import jaccard_score\n",
    "jaccard_svm = jaccard_score(test_ys,yhat, average = 'macro')\n",
    "print(jaccard_svm)"
   ]
  },
  {
   "cell_type": "code",
   "execution_count": 42,
   "id": "e5151990",
   "metadata": {
    "execution": {
     "iopub.execute_input": "2025-01-19T09:05:27.950198Z",
     "iopub.status.busy": "2025-01-19T09:05:27.949767Z",
     "iopub.status.idle": "2025-01-19T09:05:27.962227Z",
     "shell.execute_reply": "2025-01-19T09:05:27.960901Z"
    },
    "papermill": {
     "duration": 0.037603,
     "end_time": "2025-01-19T09:05:27.964776",
     "exception": false,
     "start_time": "2025-01-19T09:05:27.927173",
     "status": "completed"
    },
    "tags": []
   },
   "outputs": [
    {
     "data": {
      "text/plain": [
       "0.7669172932330827"
      ]
     },
     "execution_count": 42,
     "metadata": {},
     "output_type": "execute_result"
    }
   ],
   "source": [
    "#f1-score\n",
    "from sklearn.metrics import f1_score\n",
    "f1_score(test_ys,yhat,pos_label=0)"
   ]
  },
  {
   "cell_type": "code",
   "execution_count": 43,
   "id": "bbdfbe7d",
   "metadata": {
    "execution": {
     "iopub.execute_input": "2025-01-19T09:05:28.008311Z",
     "iopub.status.busy": "2025-01-19T09:05:28.007877Z",
     "iopub.status.idle": "2025-01-19T09:05:28.020983Z",
     "shell.execute_reply": "2025-01-19T09:05:28.019796Z"
    },
    "papermill": {
     "duration": 0.038284,
     "end_time": "2025-01-19T09:05:28.023439",
     "exception": false,
     "start_time": "2025-01-19T09:05:27.985155",
     "status": "completed"
    },
    "tags": []
   },
   "outputs": [
    {
     "name": "stdout",
     "output_type": "stream",
     "text": [
      "[[408   0]\n",
      " [248   0]]\n"
     ]
    }
   ],
   "source": [
    "#visualisasi confusion matrix\n",
    "from sklearn.metrics import classification_report, confusion_matrix\n",
    "import itertools\n",
    "def plot_confusion_matrix(cm, classes,\n",
    "                          normalize=False,\n",
    "                          title='Confusion matrix',\n",
    "                          cmap=plt.cm.Blues):\n",
    "  \"\"\"\n",
    "  This function prints and plots the confusion matrix.\n",
    "  Normalization can be applied by setting `normalize=True`.\n",
    "  \"\"\"\n",
    "  if normalize:\n",
    "    cm = cm.astype('float') / cm.sum(axis=1)[:, np.newaxis]\n",
    "    print(\"Normalized confusion matrix\")\n",
    "  else:\n",
    "    print('Confusion matrix, without normalization')\n",
    " \n",
    "  print(cm)\n",
    "\n",
    "  plt.imshow(cm, interpolation='nearest', cmap=cmap)\n",
    "  plt.title(title)\n",
    "  plt.colorbar()\n",
    "  tick_marks = np.arange(len(classes))\n",
    "  plt.xticks(tick_marks, classes, rotation=45)\n",
    "  plt.yticks(tick_marks, classes)\n",
    "  \n",
    "  fmt = '.2f' if normalize else 'd'\n",
    "  thresh = cm.max() / 2.\n",
    "  for i, j in itertools.product(range(cm.shape[0]), range(cm.shape[1])):\n",
    "    plt.text(j, i, format(cm[i, j], fmt),\n",
    "             horizontalalignment=\"center\",\n",
    "             color=\"white\" if cm[i, j] > thresh else \"black\")\n",
    "  plt.tight_layout()\n",
    "  plt.ylabel('True label')\n",
    "  plt.xlabel('Predicted label')\n",
    "print(confusion_matrix(test_ys, yhat, labels=[0,1]))"
   ]
  },
  {
   "cell_type": "code",
   "execution_count": 44,
   "id": "c2dc34fd",
   "metadata": {
    "execution": {
     "iopub.execute_input": "2025-01-19T09:05:28.065942Z",
     "iopub.status.busy": "2025-01-19T09:05:28.065548Z",
     "iopub.status.idle": "2025-01-19T09:05:28.359370Z",
     "shell.execute_reply": "2025-01-19T09:05:28.358232Z"
    },
    "papermill": {
     "duration": 0.317763,
     "end_time": "2025-01-19T09:05:28.361701",
     "exception": false,
     "start_time": "2025-01-19T09:05:28.043938",
     "status": "completed"
    },
    "tags": []
   },
   "outputs": [
    {
     "name": "stdout",
     "output_type": "stream",
     "text": [
      "Confusion matrix, without normalization\n",
      "[[408   0]\n",
      " [248   0]]\n"
     ]
    },
    {
     "data": {
      "image/png": "[encoded data removed]",
      "text/plain": [
       "<Figure size 640x480 with 2 Axes>"
      ]
     },
     "metadata": {},
     "output_type": "display_data"
    }
   ],
   "source": [
    "#confusion matrix\n",
    "cnf_matrix =confusion_matrix(test_ys, yhat, labels=[0,1])\n",
    "plt.figure()\n",
    "plot_confusion_matrix(cnf_matrix,classes=['Ga Bisa Diminum=0', 'Bisa Diminum=1'],normalize = False, title='Confusion matrix')"
   ]
  },
  {
   "cell_type": "markdown",
   "id": "2a12713d",
   "metadata": {
    "papermill": {
     "duration": 0.020502,
     "end_time": "2025-01-19T09:05:28.403092",
     "exception": false,
     "start_time": "2025-01-19T09:05:28.382590",
     "status": "completed"
    },
    "tags": []
   },
   "source": [
    "# KNN"
   ]
  },
  {
   "cell_type": "code",
   "execution_count": 45,
   "id": "499068f6",
   "metadata": {
    "execution": {
     "iopub.execute_input": "2025-01-19T09:05:28.447757Z",
     "iopub.status.busy": "2025-01-19T09:05:28.447345Z",
     "iopub.status.idle": "2025-01-19T09:05:28.464740Z",
     "shell.execute_reply": "2025-01-19T09:05:28.463585Z"
    },
    "papermill": {
     "duration": 0.043593,
     "end_time": "2025-01-19T09:05:28.467427",
     "exception": false,
     "start_time": "2025-01-19T09:05:28.423834",
     "status": "completed"
    },
    "tags": []
   },
   "outputs": [
    {
     "data": {
      "text/html": [
       "<div>\n",
       "<style scoped>\n",
       "    .dataframe tbody tr th:only-of-type {\n",
       "        vertical-align: middle;\n",
       "    }\n",
       "\n",
       "    .dataframe tbody tr th {\n",
       "        vertical-align: top;\n",
       "    }\n",
       "\n",
       "    .dataframe thead th {\n",
       "        text-align: right;\n",
       "    }\n",
       "</style>\n",
       "<table border=\"1\" class=\"dataframe\">\n",
       "  <thead>\n",
       "    <tr style=\"text-align: right;\">\n",
       "      <th></th>\n",
       "      <th>ph</th>\n",
       "      <th>Hardness</th>\n",
       "      <th>Solids</th>\n",
       "      <th>Chloramines</th>\n",
       "      <th>Sulfate</th>\n",
       "      <th>Conductivity</th>\n",
       "      <th>Organic_carbon</th>\n",
       "      <th>Trihalomethanes</th>\n",
       "      <th>Turbidity</th>\n",
       "    </tr>\n",
       "  </thead>\n",
       "  <tbody>\n",
       "    <tr>\n",
       "      <th>0</th>\n",
       "      <td>6.655223</td>\n",
       "      <td>204.890455</td>\n",
       "      <td>20791.318981</td>\n",
       "      <td>7.300212</td>\n",
       "      <td>368.516441</td>\n",
       "      <td>564.308654</td>\n",
       "      <td>10.379783</td>\n",
       "      <td>86.990970</td>\n",
       "      <td>2.963135</td>\n",
       "    </tr>\n",
       "    <tr>\n",
       "      <th>1</th>\n",
       "      <td>3.716080</td>\n",
       "      <td>129.422921</td>\n",
       "      <td>18630.057858</td>\n",
       "      <td>6.635246</td>\n",
       "      <td>351.285226</td>\n",
       "      <td>592.885359</td>\n",
       "      <td>15.180013</td>\n",
       "      <td>56.329076</td>\n",
       "      <td>4.500656</td>\n",
       "    </tr>\n",
       "    <tr>\n",
       "      <th>2</th>\n",
       "      <td>8.099124</td>\n",
       "      <td>224.236259</td>\n",
       "      <td>19909.541732</td>\n",
       "      <td>9.275884</td>\n",
       "      <td>347.323743</td>\n",
       "      <td>418.606213</td>\n",
       "      <td>16.868637</td>\n",
       "      <td>66.420093</td>\n",
       "      <td>3.055934</td>\n",
       "    </tr>\n",
       "    <tr>\n",
       "      <th>3</th>\n",
       "      <td>8.316766</td>\n",
       "      <td>214.373394</td>\n",
       "      <td>22018.417441</td>\n",
       "      <td>8.059332</td>\n",
       "      <td>356.886136</td>\n",
       "      <td>363.266516</td>\n",
       "      <td>18.436524</td>\n",
       "      <td>100.341674</td>\n",
       "      <td>4.628771</td>\n",
       "    </tr>\n",
       "  </tbody>\n",
       "</table>\n",
       "</div>"
      ],
      "text/plain": [
       "         ph    Hardness        Solids  Chloramines     Sulfate  Conductivity  \\\n",
       "0  6.655223  204.890455  20791.318981     7.300212  368.516441    564.308654   \n",
       "1  3.716080  129.422921  18630.057858     6.635246  351.285226    592.885359   \n",
       "2  8.099124  224.236259  19909.541732     9.275884  347.323743    418.606213   \n",
       "3  8.316766  214.373394  22018.417441     8.059332  356.886136    363.266516   \n",
       "\n",
       "   Organic_carbon  Trihalomethanes  Turbidity  \n",
       "0       10.379783        86.990970   2.963135  \n",
       "1       15.180013        56.329076   4.500656  \n",
       "2       16.868637        66.420093   3.055934  \n",
       "3       18.436524       100.341674   4.628771  "
      ]
     },
     "execution_count": 45,
     "metadata": {},
     "output_type": "execute_result"
    }
   ],
   "source": [
    "#melihat 4 row pertama\n",
    "Xn = df_fin.drop(columns=\"Potability\")\n",
    "Xn.head(4)"
   ]
  },
  {
   "cell_type": "code",
   "execution_count": 46,
   "id": "cb2f608b",
   "metadata": {
    "execution": {
     "iopub.execute_input": "2025-01-19T09:05:28.512132Z",
     "iopub.status.busy": "2025-01-19T09:05:28.511759Z",
     "iopub.status.idle": "2025-01-19T09:05:28.520003Z",
     "shell.execute_reply": "2025-01-19T09:05:28.518806Z"
    },
    "papermill": {
     "duration": 0.033589,
     "end_time": "2025-01-19T09:05:28.522531",
     "exception": false,
     "start_time": "2025-01-19T09:05:28.488942",
     "status": "completed"
    },
    "tags": []
   },
   "outputs": [
    {
     "data": {
      "text/plain": [
       "0    0\n",
       "1    0\n",
       "2    0\n",
       "3    0\n",
       "Name: Potability, dtype: int64"
      ]
     },
     "execution_count": 46,
     "metadata": {},
     "output_type": "execute_result"
    }
   ],
   "source": [
    "yn = df_fin[\"Potability\"]\n",
    "yn.head(4)"
   ]
  },
  {
   "cell_type": "code",
   "execution_count": 47,
   "id": "19483663",
   "metadata": {
    "execution": {
     "iopub.execute_input": "2025-01-19T09:05:28.569432Z",
     "iopub.status.busy": "2025-01-19T09:05:28.569045Z",
     "iopub.status.idle": "2025-01-19T09:05:28.573875Z",
     "shell.execute_reply": "2025-01-19T09:05:28.572882Z"
    },
    "papermill": {
     "duration": 0.030415,
     "end_time": "2025-01-19T09:05:28.576183",
     "exception": false,
     "start_time": "2025-01-19T09:05:28.545768",
     "status": "completed"
    },
    "tags": []
   },
   "outputs": [],
   "source": [
    "from sklearn.preprocessing import MinMaxScaler"
   ]
  },
  {
   "cell_type": "code",
   "execution_count": 48,
   "id": "8ff3e138",
   "metadata": {
    "execution": {
     "iopub.execute_input": "2025-01-19T09:05:28.619983Z",
     "iopub.status.busy": "2025-01-19T09:05:28.619607Z",
     "iopub.status.idle": "2025-01-19T09:05:28.630229Z",
     "shell.execute_reply": "2025-01-19T09:05:28.629083Z"
    },
    "papermill": {
     "duration": 0.035542,
     "end_time": "2025-01-19T09:05:28.632678",
     "exception": false,
     "start_time": "2025-01-19T09:05:28.597136",
     "status": "completed"
    },
    "tags": []
   },
   "outputs": [],
   "source": [
    "#normalize data\n",
    "Xn_minmax = MinMaxScaler(feature_range=(0, 1))\n",
    "Xn_minmax.fit(Xn)\n",
    "Xn_sc = Xn_minmax.transform(Xn.astype(float))"
   ]
  },
  {
   "cell_type": "code",
   "execution_count": 49,
   "id": "60cc0ae8",
   "metadata": {
    "execution": {
     "iopub.execute_input": "2025-01-19T09:05:28.676579Z",
     "iopub.status.busy": "2025-01-19T09:05:28.676173Z",
     "iopub.status.idle": "2025-01-19T09:05:28.683430Z",
     "shell.execute_reply": "2025-01-19T09:05:28.682191Z"
    },
    "papermill": {
     "duration": 0.031701,
     "end_time": "2025-01-19T09:05:28.685683",
     "exception": false,
     "start_time": "2025-01-19T09:05:28.653982",
     "status": "completed"
    },
    "tags": []
   },
   "outputs": [
    {
     "data": {
      "text/plain": [
       "array([[0.4753731 , 0.57113901, 0.33609646, 0.54389134, 0.68038521,\n",
       "        0.66943948, 0.31340165, 0.69975313, 0.28609102],\n",
       "       [0.26543429, 0.29740043, 0.30061142, 0.49183921, 0.63143715,\n",
       "        0.71941108, 0.49731851, 0.4509993 , 0.57679264],\n",
       "       [0.57850887, 0.64131081, 0.32161885, 0.69854275, 0.62018392,\n",
       "        0.41465206, 0.56201674, 0.5328657 , 0.30363656],\n",
       "       [0.59405471, 0.60553587, 0.35624379, 0.60331369, 0.64734744,\n",
       "        0.31788047, 0.62208906, 0.80806473, 0.60101542]])"
      ]
     },
     "execution_count": 49,
     "metadata": {},
     "output_type": "execute_result"
    }
   ],
   "source": [
    "Xn_sc[0:4]"
   ]
  },
  {
   "cell_type": "markdown",
   "id": "cd4b58ab",
   "metadata": {
    "papermill": {
     "duration": 0.021723,
     "end_time": "2025-01-19T09:05:28.728719",
     "exception": false,
     "start_time": "2025-01-19T09:05:28.706996",
     "status": "completed"
    },
    "tags": []
   },
   "source": [
    "# Test Train Split"
   ]
  },
  {
   "cell_type": "code",
   "execution_count": 50,
   "id": "e9eb4271",
   "metadata": {
    "execution": {
     "iopub.execute_input": "2025-01-19T09:05:28.773389Z",
     "iopub.status.busy": "2025-01-19T09:05:28.772954Z",
     "iopub.status.idle": "2025-01-19T09:05:28.781442Z",
     "shell.execute_reply": "2025-01-19T09:05:28.780327Z"
    },
    "papermill": {
     "duration": 0.0338,
     "end_time": "2025-01-19T09:05:28.784004",
     "exception": false,
     "start_time": "2025-01-19T09:05:28.750204",
     "status": "completed"
    },
    "tags": []
   },
   "outputs": [],
   "source": [
    "#train test split\n",
    "Xn_train, Xn_test, yn_train, yn_test = train_test_split(Xn, yn, test_size = 0.2, random_state = 42)"
   ]
  },
  {
   "cell_type": "markdown",
   "id": "e7274c08",
   "metadata": {
    "papermill": {
     "duration": 0.021265,
     "end_time": "2025-01-19T09:05:28.826734",
     "exception": false,
     "start_time": "2025-01-19T09:05:28.805469",
     "status": "completed"
    },
    "tags": []
   },
   "source": [
    "# Membuat Model"
   ]
  },
  {
   "cell_type": "code",
   "execution_count": 51,
   "id": "f4dd3dca",
   "metadata": {
    "execution": {
     "iopub.execute_input": "2025-01-19T09:05:28.872644Z",
     "iopub.status.busy": "2025-01-19T09:05:28.872157Z",
     "iopub.status.idle": "2025-01-19T09:05:28.886190Z",
     "shell.execute_reply": "2025-01-19T09:05:28.885032Z"
    },
    "papermill": {
     "duration": 0.040123,
     "end_time": "2025-01-19T09:05:28.888606",
     "exception": false,
     "start_time": "2025-01-19T09:05:28.848483",
     "status": "completed"
    },
    "tags": []
   },
   "outputs": [
    {
     "data": {
      "text/html": [
       "<style>#sk-container-id-4 {color: black;background-color: white;}#sk-container-id-4 pre{padding: 0;}#sk-container-id-4 div.sk-toggleable {background-color: white;}#sk-container-id-4 label.sk-toggleable__label {cursor: pointer;display: block;width: 100%;margin-bottom: 0;padding: 0.3em;box-sizing: border-box;text-align: center;}#sk-container-id-4 label.sk-toggleable__label-arrow:before {content: \"▸\";float: left;margin-right: 0.25em;color: #696969;}#sk-container-id-4 label.sk-toggleable__label-arrow:hover:before {color: black;}#sk-container-id-4 div.sk-estimator:hover label.sk-toggleable__label-arrow:before {color: black;}#sk-container-id-4 div.sk-toggleable__content {max-height: 0;max-width: 0;overflow: hidden;text-align: left;background-color: #f0f8ff;}#sk-container-id-4 div.sk-toggleable__content pre {margin: 0.2em;color: black;border-radius: 0.25em;background-color: #f0f8ff;}#sk-container-id-4 input.sk-toggleable__control:checked~div.sk-toggleable__content {max-height: 200px;max-width: 100%;overflow: auto;}#sk-container-id-4 input.sk-toggleable__control:checked~label.sk-toggleable__label-arrow:before {content: \"▾\";}#sk-container-id-4 div.sk-estimator input.sk-toggleable__control:checked~label.sk-toggleable__label {background-color: #d4ebff;}#sk-container-id-4 div.sk-label input.sk-toggleable__control:checked~label.sk-toggleable__label {background-color: #d4ebff;}#sk-container-id-4 input.sk-hidden--visually {border: 0;clip: rect(1px 1px 1px 1px);clip: rect(1px, 1px, 1px, 1px);height: 1px;margin: -1px;overflow: hidden;padding: 0;position: absolute;width: 1px;}#sk-container-id-4 div.sk-estimator {font-family: monospace;background-color: #f0f8ff;border: 1px dotted black;border-radius: 0.25em;box-sizing: border-box;margin-bottom: 0.5em;}#sk-container-id-4 div.sk-estimator:hover {background-color: #d4ebff;}#sk-container-id-4 div.sk-parallel-item::after {content: \"\";width: 100%;border-bottom: 1px solid gray;flex-grow: 1;}#sk-container-id-4 div.sk-label:hover label.sk-toggleable__label {background-color: #d4ebff;}#sk-container-id-4 div.sk-serial::before {content: \"\";position: absolute;border-left: 1px solid gray;box-sizing: border-box;top: 0;bottom: 0;left: 50%;z-index: 0;}#sk-container-id-4 div.sk-serial {display: flex;flex-direction: column;align-items: center;background-color: white;padding-right: 0.2em;padding-left: 0.2em;position: relative;}#sk-container-id-4 div.sk-item {position: relative;z-index: 1;}#sk-container-id-4 div.sk-parallel {display: flex;align-items: stretch;justify-content: center;background-color: white;position: relative;}#sk-container-id-4 div.sk-item::before, #sk-container-id-4 div.sk-parallel-item::before {content: \"\";position: absolute;border-left: 1px solid gray;box-sizing: border-box;top: 0;bottom: 0;left: 50%;z-index: -1;}#sk-container-id-4 div.sk-parallel-item {display: flex;flex-direction: column;z-index: 1;position: relative;background-color: white;}#sk-container-id-4 div.sk-parallel-item:first-child::after {align-self: flex-end;width: 50%;}#sk-container-id-4 div.sk-parallel-item:last-child::after {align-self: flex-start;width: 50%;}#sk-container-id-4 div.sk-parallel-item:only-child::after {width: 0;}#sk-container-id-4 div.sk-dashed-wrapped {border: 1px dashed gray;margin: 0 0.4em 0.5em 0.4em;box-sizing: border-box;padding-bottom: 0.4em;background-color: white;}#sk-container-id-4 div.sk-label label {font-family: monospace;font-weight: bold;display: inline-block;line-height: 1.2em;}#sk-container-id-4 div.sk-label-container {text-align: center;}#sk-container-id-4 div.sk-container {/* jupyter's `normalize.less` sets `[hidden] { display: none; }` but bootstrap.min.css set `[hidden] { display: none !important; }` so we also need the `!important` here to be able to override the default hidden behavior on the sphinx rendered scikit-learn.org. See: https://github.com/scikit-learn/scikit-learn/issues/21755 */display: inline-block !important;position: relative;}#sk-container-id-4 div.sk-text-repr-fallback {display: none;}</style><div id=\"sk-container-id-4\" class=\"sk-top-container\"><div class=\"sk-text-repr-fallback\"><pre>KNeighborsClassifier(n_neighbors=2)</pre><b>In a Jupyter environment, please rerun this cell to show the HTML representation or trust the notebook. <br />On GitHub, the HTML representation is unable to render, please try loading this page with nbviewer.org.</b></div><div class=\"sk-container\" hidden><div class=\"sk-item\"><div class=\"sk-estimator sk-toggleable\"><input class=\"sk-toggleable__control sk-hidden--visually\" id=\"sk-estimator-id-4\" type=\"checkbox\" checked><label for=\"sk-estimator-id-4\" class=\"sk-toggleable__label sk-toggleable__label-arrow\">KNeighborsClassifier</label><div class=\"sk-toggleable__content\"><pre>KNeighborsClassifier(n_neighbors=2)</pre></div></div></div></div></div>"
      ],
      "text/plain": [
       "KNeighborsClassifier(n_neighbors=2)"
      ]
     },
     "execution_count": 51,
     "metadata": {},
     "output_type": "execute_result"
    }
   ],
   "source": [
    "#membuat model dengan k = 2\n",
    "k = 2\n",
    "tele_KNN = KNeighborsClassifier(n_neighbors = k)\n",
    "tele_KNN.fit(Xn_train, yn_train)"
   ]
  },
  {
   "cell_type": "markdown",
   "id": "a827636d",
   "metadata": {
    "papermill": {
     "duration": 0.021902,
     "end_time": "2025-01-19T09:05:28.932317",
     "exception": false,
     "start_time": "2025-01-19T09:05:28.910415",
     "status": "completed"
    },
    "tags": []
   },
   "source": [
    "# Prediksi"
   ]
  },
  {
   "cell_type": "code",
   "execution_count": 52,
   "id": "24e456aa",
   "metadata": {
    "execution": {
     "iopub.execute_input": "2025-01-19T09:05:28.978700Z",
     "iopub.status.busy": "2025-01-19T09:05:28.978350Z",
     "iopub.status.idle": "2025-01-19T09:05:29.020433Z",
     "shell.execute_reply": "2025-01-19T09:05:29.019097Z"
    },
    "papermill": {
     "duration": 0.068183,
     "end_time": "2025-01-19T09:05:29.022772",
     "exception": false,
     "start_time": "2025-01-19T09:05:28.954589",
     "status": "completed"
    },
    "tags": []
   },
   "outputs": [
    {
     "data": {
      "text/plain": [
       "array([0, 0, 0, 0, 0])"
      ]
     },
     "execution_count": 52,
     "metadata": {},
     "output_type": "execute_result"
    }
   ],
   "source": [
    "#hasil prediksi\n",
    "yn_pred = tele_KNN.predict(Xn_test)\n",
    "yn_pred[0:5]"
   ]
  },
  {
   "cell_type": "code",
   "execution_count": 53,
   "id": "c82a7033",
   "metadata": {
    "execution": {
     "iopub.execute_input": "2025-01-19T09:05:29.069300Z",
     "iopub.status.busy": "2025-01-19T09:05:29.068724Z",
     "iopub.status.idle": "2025-01-19T09:05:29.077138Z",
     "shell.execute_reply": "2025-01-19T09:05:29.076053Z"
    },
    "papermill": {
     "duration": 0.034418,
     "end_time": "2025-01-19T09:05:29.079477",
     "exception": false,
     "start_time": "2025-01-19T09:05:29.045059",
     "status": "completed"
    },
    "tags": []
   },
   "outputs": [
    {
     "data": {
      "text/plain": [
       "2947    0\n",
       "2782    1\n",
       "1644    0\n",
       "70      0\n",
       "2045    1\n",
       "Name: Potability, dtype: int64"
      ]
     },
     "execution_count": 53,
     "metadata": {},
     "output_type": "execute_result"
    }
   ],
   "source": [
    "#kelas sebenarnya\n",
    "yn_test[0:5]"
   ]
  },
  {
   "cell_type": "markdown",
   "id": "8037b0cb",
   "metadata": {
    "papermill": {
     "duration": 0.023212,
     "end_time": "2025-01-19T09:05:29.127786",
     "exception": false,
     "start_time": "2025-01-19T09:05:29.104574",
     "status": "completed"
    },
    "tags": []
   },
   "source": [
    "# Evaluasi Model"
   ]
  },
  {
   "cell_type": "code",
   "execution_count": 54,
   "id": "0761a817",
   "metadata": {
    "execution": {
     "iopub.execute_input": "2025-01-19T09:05:29.173734Z",
     "iopub.status.busy": "2025-01-19T09:05:29.173356Z",
     "iopub.status.idle": "2025-01-19T09:05:29.180225Z",
     "shell.execute_reply": "2025-01-19T09:05:29.179060Z"
    },
    "papermill": {
     "duration": 0.032555,
     "end_time": "2025-01-19T09:05:29.182733",
     "exception": false,
     "start_time": "2025-01-19T09:05:29.150178",
     "status": "completed"
    },
    "tags": []
   },
   "outputs": [],
   "source": [
    "#menghitung akurasi\n",
    "knn_score = metrics.accuracy_score(yn_test, yn_pred)"
   ]
  },
  {
   "cell_type": "code",
   "execution_count": 55,
   "id": "cded27fe",
   "metadata": {
    "execution": {
     "iopub.execute_input": "2025-01-19T09:05:29.230098Z",
     "iopub.status.busy": "2025-01-19T09:05:29.229493Z",
     "iopub.status.idle": "2025-01-19T09:05:29.235508Z",
     "shell.execute_reply": "2025-01-19T09:05:29.234347Z"
    },
    "papermill": {
     "duration": 0.035473,
     "end_time": "2025-01-19T09:05:29.240127",
     "exception": false,
     "start_time": "2025-01-19T09:05:29.204654",
     "status": "completed"
    },
    "tags": []
   },
   "outputs": [
    {
     "name": "stdout",
     "output_type": "stream",
     "text": [
      "0.5884146341463414\n"
     ]
    }
   ],
   "source": [
    "print(knn_score)"
   ]
  },
  {
   "cell_type": "code",
   "execution_count": 56,
   "id": "abf1e8aa",
   "metadata": {
    "execution": {
     "iopub.execute_input": "2025-01-19T09:05:29.287678Z",
     "iopub.status.busy": "2025-01-19T09:05:29.286782Z",
     "iopub.status.idle": "2025-01-19T09:05:29.295764Z",
     "shell.execute_reply": "2025-01-19T09:05:29.294598Z"
    },
    "papermill": {
     "duration": 0.034506,
     "end_time": "2025-01-19T09:05:29.298076",
     "exception": false,
     "start_time": "2025-01-19T09:05:29.263570",
     "status": "completed"
    },
    "tags": []
   },
   "outputs": [
    {
     "name": "stdout",
     "output_type": "stream",
     "text": [
      "0.33201171290557\n"
     ]
    }
   ],
   "source": [
    "jaccard_knn = jaccard_score(yn_test, yn_pred, average='macro')\n",
    "print(jaccard_knn)"
   ]
  },
  {
   "cell_type": "markdown",
   "id": "09b0e59a",
   "metadata": {
    "papermill": {
     "duration": 0.021802,
     "end_time": "2025-01-19T09:05:29.342285",
     "exception": false,
     "start_time": "2025-01-19T09:05:29.320483",
     "status": "completed"
    },
    "tags": []
   },
   "source": [
    "# Mencari K Terbaik"
   ]
  },
  {
   "cell_type": "code",
   "execution_count": 57,
   "id": "d9dff331",
   "metadata": {
    "execution": {
     "iopub.execute_input": "2025-01-19T09:05:29.389221Z",
     "iopub.status.busy": "2025-01-19T09:05:29.388199Z",
     "iopub.status.idle": "2025-01-19T09:05:29.793786Z",
     "shell.execute_reply": "2025-01-19T09:05:29.792647Z"
    },
    "papermill": {
     "duration": 0.431222,
     "end_time": "2025-01-19T09:05:29.796142",
     "exception": false,
     "start_time": "2025-01-19T09:05:29.364920",
     "status": "completed"
    },
    "tags": []
   },
   "outputs": [
    {
     "data": {
      "text/plain": [
       "array([0.51981707, 0.58841463, 0.54268293, 0.55945122, 0.52591463,\n",
       "       0.56097561, 0.5472561 , 0.57012195, 0.54573171, 0.57621951])"
      ]
     },
     "execution_count": 57,
     "metadata": {},
     "output_type": "execute_result"
    }
   ],
   "source": [
    "#mencari k terbaik diantara 1<=k<=10\n",
    "nk = 10\n",
    "\n",
    "mean_acc= np.zeros((nk))\n",
    "std_acc = np.zeros((nk))\n",
    "\n",
    "for n in range(1,nk+1):\n",
    " neighbor_k = KNeighborsClassifier(n_neighbors= n).fit(Xn_train,yn_train)\n",
    " ypredict = neighbor_k.predict(Xn_test)\n",
    " mean_acc[n-1] = metrics.accuracy_score(yn_test, ypredict)\n",
    " std_acc[n-1]= np.std(ypredict==yn_test)/np.sqrt(ypredict.shape[0])\n",
    "\n",
    "mean_acc"
   ]
  },
  {
   "cell_type": "code",
   "execution_count": 58,
   "id": "4557c055",
   "metadata": {
    "execution": {
     "iopub.execute_input": "2025-01-19T09:05:29.842217Z",
     "iopub.status.busy": "2025-01-19T09:05:29.841667Z",
     "iopub.status.idle": "2025-01-19T09:05:30.181274Z",
     "shell.execute_reply": "2025-01-19T09:05:30.180022Z"
    },
    "papermill": {
     "duration": 0.365912,
     "end_time": "2025-01-19T09:05:30.183890",
     "exception": false,
     "start_time": "2025-01-19T09:05:29.817978",
     "status": "completed"
    },
    "tags": []
   },
   "outputs": [
    {
     "data": {
      "image/png": "[encoded data removed]",
      "text/plain": [
       "<Figure size 640x480 with 1 Axes>"
      ]
     },
     "metadata": {},
     "output_type": "display_data"
    }
   ],
   "source": [
    "#plot akurasi dari beberapa k\n",
    "plt.plot(range(1,nk+1),mean_acc,'g')\n",
    "plt.fill_between(range(1,nk+1),mean_acc-1*std_acc,mean_acc+1*std_acc,alpha = 0.10)\n",
    "plt.fill_between(range(1,nk+1),mean_acc-3*std_acc,mean_acc+3*std_acc,alpha = 0.10, color = \"red\")\n",
    "plt.legend(('Accuracy', '+-1xstd', '+-3xstd'))\n",
    "plt.ylabel('Accuracy')\n",
    "plt.xlabel('Jumlah neighbor')\n",
    "plt.tight_layout()\n",
    "plt.show()"
   ]
  },
  {
   "cell_type": "code",
   "execution_count": 59,
   "id": "2f0b0333",
   "metadata": {
    "execution": {
     "iopub.execute_input": "2025-01-19T09:05:30.232322Z",
     "iopub.status.busy": "2025-01-19T09:05:30.231928Z",
     "iopub.status.idle": "2025-01-19T09:05:30.238420Z",
     "shell.execute_reply": "2025-01-19T09:05:30.237072Z"
    },
    "papermill": {
     "duration": 0.033799,
     "end_time": "2025-01-19T09:05:30.241197",
     "exception": false,
     "start_time": "2025-01-19T09:05:30.207398",
     "status": "completed"
    },
    "tags": []
   },
   "outputs": [
    {
     "name": "stdout",
     "output_type": "stream",
     "text": [
      "akurasi terbaik model adalah 0.5884146341463414 dengan jumlah k= 2\n"
     ]
    }
   ],
   "source": [
    "#k terbaik beserta hasilnya\n",
    "print(\"akurasi terbaik model adalah\", mean_acc.max(), \"dengan jumlah k=\", mean_acc.argmax()+1)"
   ]
  },
  {
   "cell_type": "markdown",
   "id": "4fd5d557",
   "metadata": {
    "papermill": {
     "duration": 0.025029,
     "end_time": "2025-01-19T09:05:30.291615",
     "exception": false,
     "start_time": "2025-01-19T09:05:30.266586",
     "status": "completed"
    },
    "tags": []
   },
   "source": [
    "# Perbandingan Keempat Model"
   ]
  },
  {
   "cell_type": "markdown",
   "id": "c8bf8a9a",
   "metadata": {
    "papermill": {
     "duration": 0.022883,
     "end_time": "2025-01-19T09:05:30.339993",
     "exception": false,
     "start_time": "2025-01-19T09:05:30.317110",
     "status": "completed"
    },
    "tags": []
   },
   "source": [
    "Akan dibandingkan semua metode di atas dilihat dari score pada Jaccard-Score"
   ]
  },
  {
   "cell_type": "code",
   "execution_count": 60,
   "id": "d08fb445",
   "metadata": {
    "execution": {
     "iopub.execute_input": "2025-01-19T09:05:30.389228Z",
     "iopub.status.busy": "2025-01-19T09:05:30.387941Z",
     "iopub.status.idle": "2025-01-19T09:05:30.394388Z",
     "shell.execute_reply": "2025-01-19T09:05:30.393177Z"
    },
    "papermill": {
     "duration": 0.033137,
     "end_time": "2025-01-19T09:05:30.396505",
     "exception": false,
     "start_time": "2025-01-19T09:05:30.363368",
     "status": "completed"
    },
    "tags": []
   },
   "outputs": [
    {
     "name": "stdout",
     "output_type": "stream",
     "text": [
      "Jaccard Score dari metode Regresi Logistik:  0.31402439024390244\n",
      "Jaccard Score dari metode Decision Tree :  0.3413284632034632\n",
      "Jaccard Score dari metode SVM:  0.31097560975609756\n",
      "Jaccard Score dari metode KNN:  0.33201171290557\n"
     ]
    }
   ],
   "source": [
    "print(\"Jaccard Score dari metode Regresi Logistik: \", jaccard_rl)\n",
    "print(\"Jaccard Score dari metode Decision Tree : \", jaccard_dt)\n",
    "print(\"Jaccard Score dari metode SVM: \", jaccard_svm)\n",
    "print(\"Jaccard Score dari metode KNN: \", jaccard_knn)"
   ]
  },
  {
   "cell_type": "markdown",
   "id": "dc90276f",
   "metadata": {
    "papermill": {
     "duration": 0.023399,
     "end_time": "2025-01-19T09:05:30.442829",
     "exception": false,
     "start_time": "2025-01-19T09:05:30.419430",
     "status": "completed"
    },
    "tags": []
   },
   "source": [
    "Dari perbandingan di atas, didapat bahwa metode Decision Tree cenderung lebih baik untuk masalah klasifikasi kita."
   ]
  }
 ],
 "metadata": {
  "kaggle": {
   "accelerator": "none",
   "dataSources": [
    {
     "datasetId": 1292407,
     "sourceId": 2157486,
     "sourceType": "datasetVersion"
    }
   ],
   "dockerImageVersionId": 30698,
   "isGpuEnabled": false,
   "isInternetEnabled": true,
   "language": "python",
   "sourceType": "notebook"
  },
  "kernelspec": {
   "display_name": "Python 3",
   "language": "python",
   "name": "python3"
  },
  "language_info": {
   "codemirror_mode": {
    "name": "ipython",
    "version": 3
   },
   "file_extension": ".py",
   "mimetype": "text/x-python",
   "name": "python",
   "nbconvert_exporter": "python",
   "pygments_lexer": "ipython3",
   "version": "3.10.13"
  },
  "papermill": {
   "default_parameters": {},
   "duration": 16.560058,
   "end_time": "2025-01-19T09:05:31.190462",
   "environment_variables": {},
   "exception": null,
   "input_path": "__notebook__.ipynb",
   "output_path": "__notebook__.ipynb",
   "parameters": {},
   "start_time": "2025-01-19T09:05:14.630404",
   "version": "2.5.0"
  }
 },
 "nbformat": 4,
 "nbformat_minor": 5
}
